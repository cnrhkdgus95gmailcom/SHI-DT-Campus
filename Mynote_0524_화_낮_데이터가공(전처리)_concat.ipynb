{
  "nbformat": 4,
  "nbformat_minor": 0,
  "metadata": {
    "colab": {
      "name": "Mynote_0524_화_낮_데이터가공(전처리)_concat.ipynb",
      "provenance": [],
      "collapsed_sections": [],
      "authorship_tag": "ABX9TyP5/a7PUUvyUMrw8gjjMwSO",
      "include_colab_link": true
    },
    "kernelspec": {
      "name": "python3",
      "display_name": "Python 3"
    },
    "language_info": {
      "name": "python"
    }
  },
  "cells": [
    {
      "cell_type": "markdown",
      "metadata": {
        "id": "view-in-github",
        "colab_type": "text"
      },
      "source": [
        "<a href=\"https://colab.research.google.com/github/cnrhkdgus95gmailcom/SHI-DT-Campus/blob/main/Mynote_0524_%ED%99%94_%EB%82%AE_%EB%8D%B0%EC%9D%B4%ED%84%B0%EA%B0%80%EA%B3%B5(%EC%A0%84%EC%B2%98%EB%A6%AC)_concat.ipynb\" target=\"_parent\"><img src=\"https://colab.research.google.com/assets/colab-badge.svg\" alt=\"Open In Colab\"/></a>"
      ]
    },
    {
      "cell_type": "code",
      "execution_count": null,
      "metadata": {
        "colab": {
          "base_uri": "https://localhost:8080/"
        },
        "id": "3v47R4W3NBoL",
        "outputId": "53dcd319-119d-48a4-84f2-4ede0ba1e4e6"
      },
      "outputs": [
        {
          "output_type": "stream",
          "name": "stdout",
          "text": [
            "d\n",
            "d\n",
            "10\n"
          ]
        }
      ],
      "source": [
        "a='hello,world'\n",
        "print(a[-1]) # 이거랑 find 결과랑은 구분하자... find 결과가 -1이면 없는거.\n",
        "print(a[10])\n",
        "print(a.find('d'))"
      ]
    },
    {
      "cell_type": "code",
      "source": [
        "a=[1,3,5,4,2]\n",
        "a.sort(reverse=True)\n",
        "\n",
        "print(a)"
      ],
      "metadata": {
        "colab": {
          "base_uri": "https://localhost:8080/"
        },
        "id": "byxoi4rbNLhE",
        "outputId": "d1986991-7de5-40f3-92d9-0e50a82d1a72"
      },
      "execution_count": null,
      "outputs": [
        {
          "output_type": "stream",
          "name": "stdout",
          "text": [
            "[5, 4, 3, 2, 1]\n"
          ]
        }
      ]
    },
    {
      "cell_type": "code",
      "source": [
        "a = [1,2]\n",
        "b = ('a','b')\n",
        "\n",
        "c=list(zip(a,b))\n",
        "print(c)\n",
        "\n",
        "for i,j in zip(a,b):\n",
        "    print(i,j)"
      ],
      "metadata": {
        "colab": {
          "base_uri": "https://localhost:8080/"
        },
        "id": "7d0iymcyOlrL",
        "outputId": "a1a49ce3-7eb6-4bd6-88c1-a767b52b4533"
      },
      "execution_count": null,
      "outputs": [
        {
          "output_type": "stream",
          "name": "stdout",
          "text": [
            "[(1, 'a'), (2, 'b')]\n",
            "1 a\n",
            "2 b\n"
          ]
        }
      ]
    },
    {
      "cell_type": "code",
      "source": [
        "lamfun = lambda a,b:a+b\n",
        "lamfun(4,5)"
      ],
      "metadata": {
        "colab": {
          "base_uri": "https://localhost:8080/"
        },
        "id": "otMRsJzmO-dK",
        "outputId": "d8c43139-1318-4095-f445-7d590ddee67f"
      },
      "execution_count": null,
      "outputs": [
        {
          "output_type": "execute_result",
          "data": {
            "text/plain": [
              "9"
            ]
          },
          "metadata": {},
          "execution_count": 12
        }
      ]
    },
    {
      "cell_type": "code",
      "source": [
        "dictionary = {1:'a',2:'b'}\n",
        "# keys, values, items\n",
        "\n",
        "d = dictionary\n",
        "\n",
        "del d[1]\n",
        "\n",
        "c=list(d.keys())\n",
        "print(c)\n",
        "d.values()\n",
        "d.items() #tuple로 묶네"
      ],
      "metadata": {
        "colab": {
          "base_uri": "https://localhost:8080/"
        },
        "id": "G9nyrWJlQEia",
        "outputId": "471d9f40-90ef-4208-f1a7-5a6c392dcdaa"
      },
      "execution_count": null,
      "outputs": [
        {
          "output_type": "stream",
          "name": "stdout",
          "text": [
            "[2]\n"
          ]
        },
        {
          "output_type": "execute_result",
          "data": {
            "text/plain": [
              "dict_items([(2, 'b')])"
            ]
          },
          "metadata": {},
          "execution_count": 19
        }
      ]
    },
    {
      "cell_type": "code",
      "source": [
        "import pandas as pd # pandas -> pd 로 줄여부름\n",
        "import numpy as np\n",
        "df = pd.read_csv('gapminder.tsv', sep = '\\t')\n",
        "df"
      ],
      "metadata": {
        "colab": {
          "base_uri": "https://localhost:8080/",
          "height": 424
        },
        "id": "poAomXwLQpRH",
        "outputId": "1e06a37b-ca51-4896-c796-a2c1212bb63b"
      },
      "execution_count": null,
      "outputs": [
        {
          "output_type": "execute_result",
          "data": {
            "text/plain": [
              "          country continent  year  lifeExp       pop   gdpPercap\n",
              "0     Afghanistan      Asia  1952   28.801   8425333  779.445314\n",
              "1     Afghanistan      Asia  1957   30.332   9240934  820.853030\n",
              "2     Afghanistan      Asia  1962   31.997  10267083  853.100710\n",
              "3     Afghanistan      Asia  1967   34.020  11537966  836.197138\n",
              "4     Afghanistan      Asia  1972   36.088  13079460  739.981106\n",
              "...           ...       ...   ...      ...       ...         ...\n",
              "1699     Zimbabwe    Africa  1987   62.351   9216418  706.157306\n",
              "1700     Zimbabwe    Africa  1992   60.377  10704340  693.420786\n",
              "1701     Zimbabwe    Africa  1997   46.809  11404948  792.449960\n",
              "1702     Zimbabwe    Africa  2002   39.989  11926563  672.038623\n",
              "1703     Zimbabwe    Africa  2007   43.487  12311143  469.709298\n",
              "\n",
              "[1704 rows x 6 columns]"
            ],
            "text/html": [
              "\n",
              "  <div id=\"df-daafc49e-ae73-49ad-81ca-594ae3648afd\">\n",
              "    <div class=\"colab-df-container\">\n",
              "      <div>\n",
              "<style scoped>\n",
              "    .dataframe tbody tr th:only-of-type {\n",
              "        vertical-align: middle;\n",
              "    }\n",
              "\n",
              "    .dataframe tbody tr th {\n",
              "        vertical-align: top;\n",
              "    }\n",
              "\n",
              "    .dataframe thead th {\n",
              "        text-align: right;\n",
              "    }\n",
              "</style>\n",
              "<table border=\"1\" class=\"dataframe\">\n",
              "  <thead>\n",
              "    <tr style=\"text-align: right;\">\n",
              "      <th></th>\n",
              "      <th>country</th>\n",
              "      <th>continent</th>\n",
              "      <th>year</th>\n",
              "      <th>lifeExp</th>\n",
              "      <th>pop</th>\n",
              "      <th>gdpPercap</th>\n",
              "    </tr>\n",
              "  </thead>\n",
              "  <tbody>\n",
              "    <tr>\n",
              "      <th>0</th>\n",
              "      <td>Afghanistan</td>\n",
              "      <td>Asia</td>\n",
              "      <td>1952</td>\n",
              "      <td>28.801</td>\n",
              "      <td>8425333</td>\n",
              "      <td>779.445314</td>\n",
              "    </tr>\n",
              "    <tr>\n",
              "      <th>1</th>\n",
              "      <td>Afghanistan</td>\n",
              "      <td>Asia</td>\n",
              "      <td>1957</td>\n",
              "      <td>30.332</td>\n",
              "      <td>9240934</td>\n",
              "      <td>820.853030</td>\n",
              "    </tr>\n",
              "    <tr>\n",
              "      <th>2</th>\n",
              "      <td>Afghanistan</td>\n",
              "      <td>Asia</td>\n",
              "      <td>1962</td>\n",
              "      <td>31.997</td>\n",
              "      <td>10267083</td>\n",
              "      <td>853.100710</td>\n",
              "    </tr>\n",
              "    <tr>\n",
              "      <th>3</th>\n",
              "      <td>Afghanistan</td>\n",
              "      <td>Asia</td>\n",
              "      <td>1967</td>\n",
              "      <td>34.020</td>\n",
              "      <td>11537966</td>\n",
              "      <td>836.197138</td>\n",
              "    </tr>\n",
              "    <tr>\n",
              "      <th>4</th>\n",
              "      <td>Afghanistan</td>\n",
              "      <td>Asia</td>\n",
              "      <td>1972</td>\n",
              "      <td>36.088</td>\n",
              "      <td>13079460</td>\n",
              "      <td>739.981106</td>\n",
              "    </tr>\n",
              "    <tr>\n",
              "      <th>...</th>\n",
              "      <td>...</td>\n",
              "      <td>...</td>\n",
              "      <td>...</td>\n",
              "      <td>...</td>\n",
              "      <td>...</td>\n",
              "      <td>...</td>\n",
              "    </tr>\n",
              "    <tr>\n",
              "      <th>1699</th>\n",
              "      <td>Zimbabwe</td>\n",
              "      <td>Africa</td>\n",
              "      <td>1987</td>\n",
              "      <td>62.351</td>\n",
              "      <td>9216418</td>\n",
              "      <td>706.157306</td>\n",
              "    </tr>\n",
              "    <tr>\n",
              "      <th>1700</th>\n",
              "      <td>Zimbabwe</td>\n",
              "      <td>Africa</td>\n",
              "      <td>1992</td>\n",
              "      <td>60.377</td>\n",
              "      <td>10704340</td>\n",
              "      <td>693.420786</td>\n",
              "    </tr>\n",
              "    <tr>\n",
              "      <th>1701</th>\n",
              "      <td>Zimbabwe</td>\n",
              "      <td>Africa</td>\n",
              "      <td>1997</td>\n",
              "      <td>46.809</td>\n",
              "      <td>11404948</td>\n",
              "      <td>792.449960</td>\n",
              "    </tr>\n",
              "    <tr>\n",
              "      <th>1702</th>\n",
              "      <td>Zimbabwe</td>\n",
              "      <td>Africa</td>\n",
              "      <td>2002</td>\n",
              "      <td>39.989</td>\n",
              "      <td>11926563</td>\n",
              "      <td>672.038623</td>\n",
              "    </tr>\n",
              "    <tr>\n",
              "      <th>1703</th>\n",
              "      <td>Zimbabwe</td>\n",
              "      <td>Africa</td>\n",
              "      <td>2007</td>\n",
              "      <td>43.487</td>\n",
              "      <td>12311143</td>\n",
              "      <td>469.709298</td>\n",
              "    </tr>\n",
              "  </tbody>\n",
              "</table>\n",
              "<p>1704 rows × 6 columns</p>\n",
              "</div>\n",
              "      <button class=\"colab-df-convert\" onclick=\"convertToInteractive('df-daafc49e-ae73-49ad-81ca-594ae3648afd')\"\n",
              "              title=\"Convert this dataframe to an interactive table.\"\n",
              "              style=\"display:none;\">\n",
              "        \n",
              "  <svg xmlns=\"http://www.w3.org/2000/svg\" height=\"24px\"viewBox=\"0 0 24 24\"\n",
              "       width=\"24px\">\n",
              "    <path d=\"M0 0h24v24H0V0z\" fill=\"none\"/>\n",
              "    <path d=\"M18.56 5.44l.94 2.06.94-2.06 2.06-.94-2.06-.94-.94-2.06-.94 2.06-2.06.94zm-11 1L8.5 8.5l.94-2.06 2.06-.94-2.06-.94L8.5 2.5l-.94 2.06-2.06.94zm10 10l.94 2.06.94-2.06 2.06-.94-2.06-.94-.94-2.06-.94 2.06-2.06.94z\"/><path d=\"M17.41 7.96l-1.37-1.37c-.4-.4-.92-.59-1.43-.59-.52 0-1.04.2-1.43.59L10.3 9.45l-7.72 7.72c-.78.78-.78 2.05 0 2.83L4 21.41c.39.39.9.59 1.41.59.51 0 1.02-.2 1.41-.59l7.78-7.78 2.81-2.81c.8-.78.8-2.07 0-2.86zM5.41 20L4 18.59l7.72-7.72 1.47 1.35L5.41 20z\"/>\n",
              "  </svg>\n",
              "      </button>\n",
              "      \n",
              "  <style>\n",
              "    .colab-df-container {\n",
              "      display:flex;\n",
              "      flex-wrap:wrap;\n",
              "      gap: 12px;\n",
              "    }\n",
              "\n",
              "    .colab-df-convert {\n",
              "      background-color: #E8F0FE;\n",
              "      border: none;\n",
              "      border-radius: 50%;\n",
              "      cursor: pointer;\n",
              "      display: none;\n",
              "      fill: #1967D2;\n",
              "      height: 32px;\n",
              "      padding: 0 0 0 0;\n",
              "      width: 32px;\n",
              "    }\n",
              "\n",
              "    .colab-df-convert:hover {\n",
              "      background-color: #E2EBFA;\n",
              "      box-shadow: 0px 1px 2px rgba(60, 64, 67, 0.3), 0px 1px 3px 1px rgba(60, 64, 67, 0.15);\n",
              "      fill: #174EA6;\n",
              "    }\n",
              "\n",
              "    [theme=dark] .colab-df-convert {\n",
              "      background-color: #3B4455;\n",
              "      fill: #D2E3FC;\n",
              "    }\n",
              "\n",
              "    [theme=dark] .colab-df-convert:hover {\n",
              "      background-color: #434B5C;\n",
              "      box-shadow: 0px 1px 3px 1px rgba(0, 0, 0, 0.15);\n",
              "      filter: drop-shadow(0px 1px 2px rgba(0, 0, 0, 0.3));\n",
              "      fill: #FFFFFF;\n",
              "    }\n",
              "  </style>\n",
              "\n",
              "      <script>\n",
              "        const buttonEl =\n",
              "          document.querySelector('#df-daafc49e-ae73-49ad-81ca-594ae3648afd button.colab-df-convert');\n",
              "        buttonEl.style.display =\n",
              "          google.colab.kernel.accessAllowed ? 'block' : 'none';\n",
              "\n",
              "        async function convertToInteractive(key) {\n",
              "          const element = document.querySelector('#df-daafc49e-ae73-49ad-81ca-594ae3648afd');\n",
              "          const dataTable =\n",
              "            await google.colab.kernel.invokeFunction('convertToInteractive',\n",
              "                                                     [key], {});\n",
              "          if (!dataTable) return;\n",
              "\n",
              "          const docLinkHtml = 'Like what you see? Visit the ' +\n",
              "            '<a target=\"_blank\" href=https://colab.research.google.com/notebooks/data_table.ipynb>data table notebook</a>'\n",
              "            + ' to learn more about interactive tables.';\n",
              "          element.innerHTML = '';\n",
              "          dataTable['output_type'] = 'display_data';\n",
              "          await google.colab.output.renderOutput(dataTable, element);\n",
              "          const docLink = document.createElement('div');\n",
              "          docLink.innerHTML = docLinkHtml;\n",
              "          element.appendChild(docLink);\n",
              "        }\n",
              "      </script>\n",
              "    </div>\n",
              "  </div>\n",
              "  "
            ]
          },
          "metadata": {},
          "execution_count": 1
        }
      ]
    },
    {
      "cell_type": "code",
      "source": [
        "#대륙별로 나라 갯수 세보자\n",
        "df.groupby('continent')['country'].nunique() #중복방지\n",
        "# df = DataFrame ; 변수이름임."
      ],
      "metadata": {
        "colab": {
          "base_uri": "https://localhost:8080/"
        },
        "id": "M-mzQQahSb_J",
        "outputId": "3d5b4ffd-128a-4b53-b608-5782263faa82"
      },
      "execution_count": null,
      "outputs": [
        {
          "output_type": "execute_result",
          "data": {
            "text/plain": [
              "continent\n",
              "Africa      52\n",
              "Americas    25\n",
              "Asia        33\n",
              "Europe      30\n",
              "Oceania      2\n",
              "Name: country, dtype: int64"
            ]
          },
          "metadata": {},
          "execution_count": 2
        }
      ]
    },
    {
      "cell_type": "code",
      "source": [
        "#열:Series\n",
        "열 = pd.Series((['a','pd','Series']), index = ['ㄱ','ㄴ','ㄷ']) \n",
        "# index 바꾸면 행 이름 바꿀수 있다.\n",
        "print(열,'\\n')\n",
        "\n",
        "# 대소문자 구분 주의!! 파이썬에서 함수는 무조건 뒤에 () 붙습니다.\n",
        "# 문자가 단 하나라도 있으면 object라고 뜹니다.\n",
        "# 숫자만 있으면 int64 떠야함.\n",
        "\n",
        "#표:DataFrame\n",
        "표 = pd.DataFrame({\n",
        "    'A':[1,2,3],\n",
        "    'B':[4,5,6],\n",
        "    'C':[7,8,9]\n",
        "}, index = ['ㄱ','ㄴ','ㄷ'], columns=['B','C','A'])\n",
        "print(표)\n",
        "\n",
        "# Series 보다 DataFrame 쓸일이 훨씬 많다."
      ],
      "metadata": {
        "colab": {
          "base_uri": "https://localhost:8080/"
        },
        "id": "LhIhx4u1Vqj2",
        "outputId": "52d73690-ffa0-4d39-d989-a9878318285d"
      },
      "execution_count": null,
      "outputs": [
        {
          "output_type": "stream",
          "name": "stdout",
          "text": [
            "ㄱ         a\n",
            "ㄴ        pd\n",
            "ㄷ    Series\n",
            "dtype: object \n",
            "\n",
            "   B  C  A\n",
            "ㄱ  4  7  1\n",
            "ㄴ  5  8  2\n",
            "ㄷ  6  9  3\n"
          ]
        }
      ]
    },
    {
      "cell_type": "code",
      "source": [
        "#표:DataFrame\n",
        "# Series 보다 DataFrame 쓸일이 훨씬 많다.\n",
        "표 = pd.DataFrame({\n",
        "    'A':[1,2,3],\n",
        "    'B':[4,5,6],\n",
        "    'C':[7,8,9]\n",
        "}, index = ['ㄱ','ㄴ','ㄷ'], columns=['B','C','A'])\n",
        "print(표)\n",
        "print(표['B'])\n",
        "print(표.index) # index 바꾸면 행 이름 바꿀수 있다.\n",
        "print(표.columns) # columns 쓸일이 많습니다. 통계청 이런곳은 column 이 많더라...\n"
      ],
      "metadata": {
        "id": "-1KrT4RpX6jF"
      },
      "execution_count": null,
      "outputs": []
    },
    {
      "cell_type": "code",
      "source": [
        "import pandas as pd\n",
        "과학자 = pd.read_csv(\"scientists.csv\", sep = ',') \n",
        "# csv 는 기본값이 콤마 기준이므로 sep 굳이 안적어도 되겠죠\n",
        "과학자"
      ],
      "metadata": {
        "id": "543hv-7WaLgO"
      },
      "execution_count": null,
      "outputs": []
    },
    {
      "cell_type": "code",
      "source": [
        "과학자.info() # non - null ; 빈칸이 없다\n",
        "# Born, Died가 문자열이면 안 되겠는데... 숫자여야 좋을텐데...\n",
        "# 예를들어 Born - Died 이런거 해야하니..."
      ],
      "metadata": {
        "id": "9j3sGHKNaVNw"
      },
      "execution_count": null,
      "outputs": []
    },
    {
      "cell_type": "code",
      "source": [
        "나이 = 과학자['Age'] #대괄호 적고 열 이름에 접근\n",
        "나이"
      ],
      "metadata": {
        "id": "QohvT2uza_9o",
        "colab": {
          "base_uri": "https://localhost:8080/"
        },
        "outputId": "f3ec6426-8632-4efe-b2b5-62fe35e59102"
      },
      "execution_count": null,
      "outputs": [
        {
          "output_type": "execute_result",
          "data": {
            "text/plain": [
              "0    37\n",
              "1    61\n",
              "2    90\n",
              "3    66\n",
              "4    56\n",
              "5    45\n",
              "6    41\n",
              "7    77\n",
              "Name: Age, dtype: int64"
            ]
          },
          "metadata": {},
          "execution_count": 8
        }
      ]
    },
    {
      "cell_type": "code",
      "source": [
        "나이.min()"
      ],
      "metadata": {
        "id": "ThVoctBybjtd"
      },
      "execution_count": null,
      "outputs": []
    },
    {
      "cell_type": "code",
      "source": [
        "나이.max()"
      ],
      "metadata": {
        "id": "SgocqcKNecXz"
      },
      "execution_count": null,
      "outputs": []
    },
    {
      "cell_type": "code",
      "source": [
        "나이.mean()"
      ],
      "metadata": {
        "id": "C_4MZYGsef8D"
      },
      "execution_count": null,
      "outputs": []
    },
    {
      "cell_type": "code",
      "source": [
        "나이.drop_duplicates() # Series 안에 중복된 값이 있으면 다 처리"
      ],
      "metadata": {
        "id": "5xZc6WMbejQb"
      },
      "execution_count": null,
      "outputs": []
    },
    {
      "cell_type": "code",
      "source": [
        "나이.median() # mean이랑은 다름... 데이터를 정렬했을 때 가운데 있는값\n",
        "# 평균보다 중앙값이 나을 때도 있긴 합니다. "
      ],
      "metadata": {
        "id": "HAhcbZ1gexFF"
      },
      "execution_count": null,
      "outputs": []
    },
    {
      "cell_type": "code",
      "source": [
        "나이.sort_values(ascending=False) #내림차순"
      ],
      "metadata": {
        "id": "7oTpKxoRezr5"
      },
      "execution_count": null,
      "outputs": []
    },
    {
      "cell_type": "code",
      "source": [
        "#평균보다 큰 값을 찾자\n",
        "나이[나이 > 나이.mean()] # 불 자료형으로 판단"
      ],
      "metadata": {
        "id": "hrf4pSabfPxq"
      },
      "execution_count": null,
      "outputs": []
    },
    {
      "cell_type": "code",
      "source": [
        "나이 > 나이.mean() # 여기서 True만 보여준다는거죠."
      ],
      "metadata": {
        "id": "VGqRMFuzgD23"
      },
      "execution_count": null,
      "outputs": []
    },
    {
      "cell_type": "code",
      "source": [
        "나이[나이 > 나이.median()]"
      ],
      "metadata": {
        "id": "nz23Nxpvf0Br"
      },
      "execution_count": null,
      "outputs": []
    },
    {
      "cell_type": "code",
      "source": [
        "# 나이의 평균값보다 큰 행들만 추출해보자.\n",
        "과학자[과학자['Age']>과학자['Age'].mean()]"
      ],
      "metadata": {
        "id": "ioI98aA0f9rA"
      },
      "execution_count": null,
      "outputs": []
    },
    {
      "cell_type": "code",
      "source": [
        "과학자[나이>나이.mean()]"
      ],
      "metadata": {
        "id": "o36YghrZgb0g"
      },
      "execution_count": null,
      "outputs": []
    },
    {
      "cell_type": "code",
      "source": [
        "나이 + 나이 "
      ],
      "metadata": {
        "id": "fdaIuqLrhedP"
      },
      "execution_count": null,
      "outputs": []
    },
    {
      "cell_type": "code",
      "source": [
        "나이 * 나이"
      ],
      "metadata": {
        "id": "l_MH_5-nhkk9"
      },
      "execution_count": null,
      "outputs": []
    },
    {
      "cell_type": "code",
      "source": [
        "오류주의 = pd.Series([100,100])\n",
        "오류주의"
      ],
      "metadata": {
        "id": "IYYP34ofhoTn",
        "colab": {
          "base_uri": "https://localhost:8080/"
        },
        "outputId": "e0836294-4de5-4f5b-ca6f-74b57d2c81f2"
      },
      "execution_count": null,
      "outputs": [
        {
          "output_type": "execute_result",
          "data": {
            "text/plain": [
              "0    100\n",
              "1    100\n",
              "dtype: int64"
            ]
          },
          "metadata": {},
          "execution_count": 16
        }
      ]
    },
    {
      "cell_type": "markdown",
      "source": [
        "**주의!**"
      ],
      "metadata": {
        "id": "Kle0iYdn8Xst"
      }
    },
    {
      "cell_type": "code",
      "source": [
        "print(과학자)\n",
        "print(나이)\n",
        "print(오류주의)\n",
        "나이 + 오류주의 \n",
        "# 이런건 에러도 안나서 끝까지 모릅니다. 찾기 힘듭니다 여기서 틀리면..."
      ],
      "metadata": {
        "id": "t6H9N9t-hymR"
      },
      "execution_count": null,
      "outputs": []
    },
    {
      "cell_type": "code",
      "source": [
        "과학자['새로운 열3']=  pd.to_datetime(과학자['Born'], format = '%Y-%m-%d')\n",
        "과학자"
      ],
      "metadata": {
        "id": "SfiyenbAiVnU"
      },
      "execution_count": null,
      "outputs": []
    },
    {
      "cell_type": "code",
      "source": [
        "과학자['새로운 열4_Died']=  pd.to_datetime(과학자['Died'], format = '%Y-%m-%d')\n",
        "과학자.info()\n",
        "# type이 datetime으로 바뀌었네요. 이제 문자열이 아닙니다."
      ],
      "metadata": {
        "id": "BM8FLOukjHgL"
      },
      "execution_count": null,
      "outputs": []
    },
    {
      "cell_type": "code",
      "source": [
        "과학자_데이터프레임 = 과학자\n",
        "새롭게데이터프레임만들어보자 = 과학자_데이터프레임[['Name',\n",
        "                             '새로운 열3',\n",
        "                             '새로운 열4_Died',\n",
        "                             'Age',\n",
        "                             'Occupation']]\n",
        "새롭게데이터프레임만들어보자\n",
        "# 날짜로 바꾼 이유는 '연산'하려고 바꾼거죠"
      ],
      "metadata": {
        "id": "EFsO62gxj2cZ"
      },
      "execution_count": null,
      "outputs": []
    },
    {
      "cell_type": "code",
      "source": [
        "새롭게데이터프레임만들어보자['몇일이나 살았을까'] = 새롭게데이터프레임만들어보자['새로운 열4_Died']-새롭게데이터프레임만들어보자['새로운 열3']\n",
        "새롭게데이터프레임만들어보자"
      ],
      "metadata": {
        "id": "qBzwF9NmkPQZ"
      },
      "execution_count": null,
      "outputs": []
    },
    {
      "cell_type": "code",
      "source": [
        "new_dataframe = 새롭게데이터프레임만들어보자\n",
        "new_dataframe.to_csv(\"new_dataframe.csv\")"
      ],
      "metadata": {
        "id": "-KpBe6pzlMF4"
      },
      "execution_count": null,
      "outputs": []
    },
    {
      "cell_type": "code",
      "source": [
        "new_dataframe.to_excel(\"new_dataframe.xlsx\") \n",
        "# 파이썬에서 엑셀로 저장할때 다르게 보일수는 있다\n",
        "# 엑셀은 1900년 기준이라서 그 이전이면 -로 나올수있다."
      ],
      "metadata": {
        "id": "o6Ci9QPMmJRu"
      },
      "execution_count": null,
      "outputs": []
    },
    {
      "cell_type": "code",
      "source": [
        "letsRemove = pd.read_excel('new_dataframe.xlsx')\n",
        "# Unnamed 열이 생겼네..."
      ],
      "metadata": {
        "id": "2cGOpf6ImT8t"
      },
      "execution_count": null,
      "outputs": []
    },
    {
      "cell_type": "code",
      "source": [
        "letsRemove = pd.read_excel('new_dataframe.xlsx')\n",
        "del letsRemove['Unnamed: 0']\n",
        "del letsRemove['살았던날짜']\n",
        "del letsRemove['days']\n",
        "letsRemove"
      ],
      "metadata": {
        "id": "yfcXprVkm63e"
      },
      "execution_count": null,
      "outputs": []
    },
    {
      "cell_type": "code",
      "source": [
        "# 데이터저장... 보통 엑셀,csv\n",
        "# DataFrame 그 자체로 저장해보자; 실행은 못해도 불러올때 좀 더 빠름... 특히 빅데이터\n",
        "# 변환과정이 좀 느려서...\n",
        "나이.to_pickle('나이_Series.pickle')"
      ],
      "metadata": {
        "id": "ikwtV6EJnbUm"
      },
      "execution_count": null,
      "outputs": []
    },
    {
      "cell_type": "code",
      "source": [
        "과학자_Dataframe = letsRemove\n",
        "과학자_Dataframe.to_pickle('과학자_Dataframe') # 확장자 없는거보다 .pickle 있어야 함\n",
        "# 확장자 마다 기능이 있어서....\n",
        "과학자_Dataframe.to_pickle('과학자_Dataframe.pickle')"
      ],
      "metadata": {
        "id": "EatHml-nodhd"
      },
      "execution_count": null,
      "outputs": []
    },
    {
      "cell_type": "code",
      "source": [
        "pickle로불러오기 = pd.read_pickle('나이_Series.pickle')\n",
        "pickle로불러오기"
      ],
      "metadata": {
        "id": "f6preJENo02f"
      },
      "execution_count": null,
      "outputs": []
    },
    {
      "cell_type": "code",
      "source": [
        "pickle로불러오기2 = pd.read_pickle('과학자_Dataframe')\n",
        "pickle로불러오기2"
      ],
      "metadata": {
        "id": "7fHrGpk9o-rj"
      },
      "execution_count": null,
      "outputs": []
    },
    {
      "cell_type": "code",
      "source": [
        "pickle로불러오기2.columns\n",
        "pickle로불러오기2.rename(columns = {'새로운 열':'태어난날', '새로운 열4_Died':'사망한날'}, inplace = True)\n",
        "pickle로불러오기2\n",
        "# cf) df stands for dataframe\n",
        "# **금요일**에 코테침\n",
        "# 지금 한번 연습해보자"
      ],
      "metadata": {
        "id": "lCauJIPApGQz"
      },
      "execution_count": null,
      "outputs": []
    },
    {
      "cell_type": "code",
      "source": [
        "# 금요일에 코테침\n",
        "# 지금 한번 연습해보자\n",
        "# 게임만들기\n",
        "# 간단한게임임.\n",
        "# up-down 게임\n",
        "\n",
        "# 1. 랜덤으로 컴퓨터가 숫자를 하나 지정해놓는다. (1이상 100이하 정수)\n",
        "# 2. input함수로 입력받는다. 숫자를.\n",
        "# 3. 컴퓨터가 생각한 숫자가 input보다 크면 Up이라고 대답함\n",
        "# 4. 컴퓨터가 생각한 숫자가 input보다 낮으면 Down이라고 대답함/\n",
        "# 5. 같으면 정답입니다! 뜨고 끝남\n",
        "# While문 안에서 코드가 이루어지고...\n",
        "# 정답이면 반복문 탈출\n",
        "\n",
        "# 이런 식으로 코테 낼 겁니다.!\n",
        "\n",
        "# 부분점수도 자세히 쪼갤겁니다.\n",
        "\n",
        "# 지금 해보자\n",
        "\n",
        "# Optional 1)\n",
        "# 정답입니다. 몇번만에 맞추셨습니다. <-출력\n",
        "# 5번 안에 못맞추면 실패하셨습니다 출력후 종료\n",
        "\n",
        "import random\n",
        "\n",
        "com_ran_num = random.randint(1,100) \n",
        "count = 0\n",
        "\n",
        "while count != 5:\n",
        "\n",
        "    user_num = int(input('1이상 100이하 정수를 입력해주세요: '))\n",
        "\n",
        "    if com_ran_num > user_num:\n",
        "        print(\"UP. 컴퓨터의 숫자가 더 큽니다\")\n",
        "        count += 1\n",
        "    elif com_ran_num == user_num:\n",
        "        break\n",
        "    else:\n",
        "        print(\"Down. 컴퓨터의 숫자가 더 작습니다\")\n",
        "        count += 1\n",
        "    \n",
        "if count < 5:\n",
        "    print(f\"정답입니다. {count+1}번 만에 맞추셨습니다.\")\n",
        "\n",
        "else:\n",
        "    print(f\"5번 틀렸습니다. 정답은 {com_ran_num}. 게임을 종료합니다.\")\n"
      ],
      "metadata": {
        "id": "f284FCUPqizS",
        "colab": {
          "base_uri": "https://localhost:8080/"
        },
        "outputId": "a9a6113b-6dbf-4207-afdd-32e7382173e2"
      },
      "execution_count": null,
      "outputs": [
        {
          "output_type": "stream",
          "name": "stdout",
          "text": [
            "1이상 100이하 정수를 입력해주세요: 50\n",
            "Down. 컴퓨터의 숫자가 더 작습니다\n",
            "1이상 100이하 정수를 입력해주세요: 25\n",
            "Down. 컴퓨터의 숫자가 더 작습니다\n",
            "1이상 100이하 정수를 입력해주세요: 12\n",
            "UP. 컴퓨터의 숫자가 더 큽니다\n",
            "1이상 100이하 정수를 입력해주세요: 18\n",
            "UP. 컴퓨터의 숫자가 더 큽니다\n",
            "1이상 100이하 정수를 입력해주세요: 21\n",
            "UP. 컴퓨터의 숫자가 더 큽니다\n",
            "5번 틀렸습니다. 정답은 23. 게임을 종료합니다.\n"
          ]
        }
      ]
    },
    {
      "cell_type": "code",
      "source": [
        "# 함수를 만들어서 사용할 수 있는지\n",
        "# 라이브러리 활용할 수 있는지\n",
        "# 반복문 활용할 수 있는지\n",
        "# 조건문도\n",
        "\n",
        "# 너무 쉬우면 프로그래머스 푸시고..."
      ],
      "metadata": {
        "id": "XvuJAl3q2dKf"
      },
      "execution_count": null,
      "outputs": []
    },
    {
      "cell_type": "markdown",
      "source": [
        "### 데이터 시각화"
      ],
      "metadata": {
        "id": "1IUmQCC5CcnN"
      }
    },
    {
      "cell_type": "code",
      "source": [
        "# 데이터 시각화\n",
        "\n",
        "import matplotlib.pyplot as plt # 그림 그리는 \n",
        "# as는 줄여서 부르려고 붙인겁니다.\n",
        "import seaborn as sns # 데이터분석 연습 라이브러리\n",
        "\n",
        "anscombe = sns.load_dataset('anscombe')\n",
        "anscombe"
      ],
      "metadata": {
        "id": "INPu98lT5pMA"
      },
      "execution_count": null,
      "outputs": []
    },
    {
      "cell_type": "code",
      "source": [
        "#로마자 1인 데이터프레임만 가져와보자\n",
        "import matplotlib.pyplot as plt # 그림 그리는 # as는 줄여서 부르려고 붙인겁니다.\n",
        "import seaborn as sns # 데이터분석 연습 라이브러리\n",
        "\n",
        "dataframe0 = sns.load_dataset('anscombe')\n",
        "\n",
        "dataframe1 = dataframe0[dataframe0['dataset'] == 'I']\n",
        "\n",
        "print(dataframe0)\n",
        "print(dataframe1)"
      ],
      "metadata": {
        "id": "y19b6sqg6K7g",
        "colab": {
          "base_uri": "https://localhost:8080/"
        },
        "outputId": "cf0fdfc7-f61e-4956-9d36-f62d7589c84d"
      },
      "execution_count": null,
      "outputs": [
        {
          "output_type": "stream",
          "name": "stdout",
          "text": [
            "   dataset     x      y\n",
            "0        I  10.0   8.04\n",
            "1        I   8.0   6.95\n",
            "2        I  13.0   7.58\n",
            "3        I   9.0   8.81\n",
            "4        I  11.0   8.33\n",
            "5        I  14.0   9.96\n",
            "6        I   6.0   7.24\n",
            "7        I   4.0   4.26\n",
            "8        I  12.0  10.84\n",
            "9        I   7.0   4.82\n",
            "10       I   5.0   5.68\n",
            "11      II  10.0   9.14\n",
            "12      II   8.0   8.14\n",
            "13      II  13.0   8.74\n",
            "14      II   9.0   8.77\n",
            "15      II  11.0   9.26\n",
            "16      II  14.0   8.10\n",
            "17      II   6.0   6.13\n",
            "18      II   4.0   3.10\n",
            "19      II  12.0   9.13\n",
            "20      II   7.0   7.26\n",
            "21      II   5.0   4.74\n",
            "22     III  10.0   7.46\n",
            "23     III   8.0   6.77\n",
            "24     III  13.0  12.74\n",
            "25     III   9.0   7.11\n",
            "26     III  11.0   7.81\n",
            "27     III  14.0   8.84\n",
            "28     III   6.0   6.08\n",
            "29     III   4.0   5.39\n",
            "30     III  12.0   8.15\n",
            "31     III   7.0   6.42\n",
            "32     III   5.0   5.73\n",
            "33      IV   8.0   6.58\n",
            "34      IV   8.0   5.76\n",
            "35      IV   8.0   7.71\n",
            "36      IV   8.0   8.84\n",
            "37      IV   8.0   8.47\n",
            "38      IV   8.0   7.04\n",
            "39      IV   8.0   5.25\n",
            "40      IV  19.0  12.50\n",
            "41      IV   8.0   5.56\n",
            "42      IV   8.0   7.91\n",
            "43      IV   8.0   6.89\n",
            "   dataset     x      y\n",
            "0        I  10.0   8.04\n",
            "1        I   8.0   6.95\n",
            "2        I  13.0   7.58\n",
            "3        I   9.0   8.81\n",
            "4        I  11.0   8.33\n",
            "5        I  14.0   9.96\n",
            "6        I   6.0   7.24\n",
            "7        I   4.0   4.26\n",
            "8        I  12.0  10.84\n",
            "9        I   7.0   4.82\n",
            "10       I   5.0   5.68\n"
          ]
        }
      ]
    },
    {
      "cell_type": "code",
      "source": [
        "로마자II = 로마자찾기[로마자찾기['dataset'] == 'II']\n",
        "로마자II"
      ],
      "metadata": {
        "id": "7-BvQcXS7hdo"
      },
      "execution_count": null,
      "outputs": []
    },
    {
      "cell_type": "code",
      "source": [
        "로마자I = 로마자찾기[로마자찾기['dataset'] == 'I']\n",
        "로마자II = 로마자찾기[로마자찾기['dataset'] == 'II']\n",
        "로마자III = 로마자찾기[로마자찾기['dataset'] == 'III']\n",
        "로마자IV = 로마자찾기[로마자찾기['dataset'] == 'IV']\n",
        "print(로마자I.mean())\n",
        "print(로마자II.mean())\n",
        "print(로마자III.mean())\n",
        "print(로마자IV.mean())\n",
        "# 평균(mean)은 같은데 표준편차(std)는 다름"
      ],
      "metadata": {
        "id": "aSSegdg576Un"
      },
      "execution_count": null,
      "outputs": []
    },
    {
      "cell_type": "code",
      "source": [
        "print(로마자I.std())\n",
        "print(로마자II.std())\n",
        "print(로마자III.std())\n",
        "print(로마자IV.std())\n",
        "\n",
        "#그림 그리면 더 잘보일 듯함..."
      ],
      "metadata": {
        "id": "e-pdzsZu8V7a"
      },
      "execution_count": null,
      "outputs": []
    },
    {
      "cell_type": "code",
      "source": [
        "그림그려보자 = plt.figure() # 빈 종이를 준비함\n",
        "# 2행 2열 느낌의 그림을 그려보자\n",
        "\n",
        "축1 = 그림그려보자.add_subplot(2,2,1) # cf) 한줄복사는 shift alt 방향키\n",
        "축2 = 그림그려보자.add_subplot(2,2,2)\n",
        "축3 = 그림그려보자.add_subplot(2,2,3)\n",
        "축4 = 그림그려보자.add_subplot(2,2,4)\n"
      ],
      "metadata": {
        "id": "dfLmRBpp8vuo"
      },
      "execution_count": null,
      "outputs": []
    },
    {
      "cell_type": "code",
      "source": [
        "축1.scatter(로마자I['x'], 로마자I['y'])\n",
        "축2.scatter(로마자II['x'], 로마자II['y'])\n",
        "축3.scatter(로마자III['x'], 로마자III['y'])\n",
        "축4.scatter(로마자IV['x'], 로마자IV['y'])\n",
        "그림그려보자"
      ],
      "metadata": {
        "id": "O9OkHyi89ZFn"
      },
      "execution_count": null,
      "outputs": []
    },
    {
      "cell_type": "code",
      "source": [
        "# 한번더 실행하면 다른 색으로 칠해준다\n",
        "축1.scatter(로마자I['x'], 로마자I['y'])\n",
        "축2.scatter(로마자II['x'], 로마자II['y'])\n",
        "축3.scatter(로마자III['x'], 로마자III['x'])\n",
        "축4.scatter(로마자IV['x'], 로마자IV['y'])\n",
        "그림그려보자"
      ],
      "metadata": {
        "id": "YIem6tXg-jyi"
      },
      "execution_count": null,
      "outputs": []
    },
    {
      "cell_type": "code",
      "source": [
        "import matplotlib.pyplot as plt # 그림 그리는 # as는 줄여서 부르려고 붙인겁니다.\n",
        "import seaborn as sns\n",
        "\n",
        "anscombe = sns.load_dataset('anscombe')\n",
        "anscombe\n",
        "로마자찾기 = anscombe\n",
        "\n",
        "로마자I = 로마자찾기[로마자찾기['dataset'] == 'I']\n",
        "로마자II = 로마자찾기[로마자찾기['dataset'] == 'II']\n",
        "로마자III = 로마자찾기[로마자찾기['dataset'] == 'III']\n",
        "로마자IV = 로마자찾기[로마자찾기['dataset'] == 'IV']\n",
        "\n",
        "그림그려보자 = plt.figure()\n",
        "축1 = 그림그려보자.add_subplot(2,2,1) # cf) 한줄복사는 shift alt 방향키\n",
        "축2 = 그림그려보자.add_subplot(2,2,2)\n",
        "축3 = 그림그려보자.add_subplot(2,2,3)\n",
        "축4 = 그림그려보자.add_subplot(2,2,4)\n",
        "\n",
        "축1.scatter(로마자I['x'], 로마자I['y'])\n",
        "축2.scatter(로마자II['x'], 로마자II['y'])\n",
        "축3.scatter(로마자III['x'], 로마자III['y'])\n",
        "축4.scatter(로마자IV['x'], 로마자IV['y'])\n",
        "\n",
        "축1.set_title('1')\n",
        "축2.set_title('2')\n",
        "축3.set_title('3')\n",
        "축4.set_title('4')\n",
        "그림그려보자\n",
        "\n",
        "그림그려보자.suptitle('Title')\n",
        "그림그려보자\n",
        "\n",
        "그림그려보자.tight_layout()\n",
        "그림그려보자"
      ],
      "metadata": {
        "colab": {
          "base_uri": "https://localhost:8080/",
          "height": 587
        },
        "id": "Pbis2T7I-w52",
        "outputId": "4de6a9cf-af6e-4f5e-e5aa-cebefa19d584"
      },
      "execution_count": null,
      "outputs": [
        {
          "output_type": "execute_result",
          "data": {
            "text/plain": [
              "<Figure size 432x288 with 4 Axes>"
            ],
            "image/png": "[encoded data removed]"
          },
          "metadata": {},
          "execution_count": 106
        },
        {
          "output_type": "display_data",
          "data": {
            "text/plain": [
              "<Figure size 432x288 with 4 Axes>"
            ],
            "image/png": "[encoded data removed]"
          },
          "metadata": {
            "needs_background": "light"
          }
        }
      ]
    },
    {
      "cell_type": "code",
      "source": [
        "\n",
        "tip_dt = sns.load_dataset('tips')\n",
        "tip_dt"
      ],
      "metadata": {
        "id": "jNGdQDgqV7U3"
      },
      "execution_count": null,
      "outputs": []
    },
    {
      "cell_type": "code",
      "source": [
        "import matplotlib.pyplot as plt # 그림 그리는 # as는 줄여서 부르려고 붙인겁니다.\n",
        "import seaborn as sns\n",
        "\n",
        "# T는 time, lunch, dinner 했음\n",
        "\n",
        "tip_dt = sns.load_dataset('tips')\n",
        "\n",
        "\n",
        "c_sex_m = tip_dt[tip_dt['sex'] == 'Male']\n",
        "\n",
        "c_sex_f = tip_dt[tip_dt['sex'] == 'Female']\n",
        "\n",
        "tip_dt"
      ],
      "metadata": {
        "colab": {
          "base_uri": "https://localhost:8080/",
          "height": 424
        },
        "id": "uHicKp61Xl0d",
        "outputId": "d172693a-9000-4ba6-971d-c68ba11e80fc"
      },
      "execution_count": null,
      "outputs": [
        {
          "output_type": "execute_result",
          "data": {
            "text/plain": [
              "     total_bill   tip     sex smoker   day    time  size\n",
              "0         16.99  1.01  Female     No   Sun  Dinner     2\n",
              "1         10.34  1.66    Male     No   Sun  Dinner     3\n",
              "2         21.01  3.50    Male     No   Sun  Dinner     3\n",
              "3         23.68  3.31    Male     No   Sun  Dinner     2\n",
              "4         24.59  3.61  Female     No   Sun  Dinner     4\n",
              "..          ...   ...     ...    ...   ...     ...   ...\n",
              "239       29.03  5.92    Male     No   Sat  Dinner     3\n",
              "240       27.18  2.00  Female    Yes   Sat  Dinner     2\n",
              "241       22.67  2.00    Male    Yes   Sat  Dinner     2\n",
              "242       17.82  1.75    Male     No   Sat  Dinner     2\n",
              "243       18.78  3.00  Female     No  Thur  Dinner     2\n",
              "\n",
              "[244 rows x 7 columns]"
            ],
            "text/html": [
              "\n",
              "  <div id=\"df-d5993638-6138-4192-9946-0f6f5dbd675d\">\n",
              "    <div class=\"colab-df-container\">\n",
              "      <div>\n",
              "<style scoped>\n",
              "    .dataframe tbody tr th:only-of-type {\n",
              "        vertical-align: middle;\n",
              "    }\n",
              "\n",
              "    .dataframe tbody tr th {\n",
              "        vertical-align: top;\n",
              "    }\n",
              "\n",
              "    .dataframe thead th {\n",
              "        text-align: right;\n",
              "    }\n",
              "</style>\n",
              "<table border=\"1\" class=\"dataframe\">\n",
              "  <thead>\n",
              "    <tr style=\"text-align: right;\">\n",
              "      <th></th>\n",
              "      <th>total_bill</th>\n",
              "      <th>tip</th>\n",
              "      <th>sex</th>\n",
              "      <th>smoker</th>\n",
              "      <th>day</th>\n",
              "      <th>time</th>\n",
              "      <th>size</th>\n",
              "    </tr>\n",
              "  </thead>\n",
              "  <tbody>\n",
              "    <tr>\n",
              "      <th>0</th>\n",
              "      <td>16.99</td>\n",
              "      <td>1.01</td>\n",
              "      <td>Female</td>\n",
              "      <td>No</td>\n",
              "      <td>Sun</td>\n",
              "      <td>Dinner</td>\n",
              "      <td>2</td>\n",
              "    </tr>\n",
              "    <tr>\n",
              "      <th>1</th>\n",
              "      <td>10.34</td>\n",
              "      <td>1.66</td>\n",
              "      <td>Male</td>\n",
              "      <td>No</td>\n",
              "      <td>Sun</td>\n",
              "      <td>Dinner</td>\n",
              "      <td>3</td>\n",
              "    </tr>\n",
              "    <tr>\n",
              "      <th>2</th>\n",
              "      <td>21.01</td>\n",
              "      <td>3.50</td>\n",
              "      <td>Male</td>\n",
              "      <td>No</td>\n",
              "      <td>Sun</td>\n",
              "      <td>Dinner</td>\n",
              "      <td>3</td>\n",
              "    </tr>\n",
              "    <tr>\n",
              "      <th>3</th>\n",
              "      <td>23.68</td>\n",
              "      <td>3.31</td>\n",
              "      <td>Male</td>\n",
              "      <td>No</td>\n",
              "      <td>Sun</td>\n",
              "      <td>Dinner</td>\n",
              "      <td>2</td>\n",
              "    </tr>\n",
              "    <tr>\n",
              "      <th>4</th>\n",
              "      <td>24.59</td>\n",
              "      <td>3.61</td>\n",
              "      <td>Female</td>\n",
              "      <td>No</td>\n",
              "      <td>Sun</td>\n",
              "      <td>Dinner</td>\n",
              "      <td>4</td>\n",
              "    </tr>\n",
              "    <tr>\n",
              "      <th>...</th>\n",
              "      <td>...</td>\n",
              "      <td>...</td>\n",
              "      <td>...</td>\n",
              "      <td>...</td>\n",
              "      <td>...</td>\n",
              "      <td>...</td>\n",
              "      <td>...</td>\n",
              "    </tr>\n",
              "    <tr>\n",
              "      <th>239</th>\n",
              "      <td>29.03</td>\n",
              "      <td>5.92</td>\n",
              "      <td>Male</td>\n",
              "      <td>No</td>\n",
              "      <td>Sat</td>\n",
              "      <td>Dinner</td>\n",
              "      <td>3</td>\n",
              "    </tr>\n",
              "    <tr>\n",
              "      <th>240</th>\n",
              "      <td>27.18</td>\n",
              "      <td>2.00</td>\n",
              "      <td>Female</td>\n",
              "      <td>Yes</td>\n",
              "      <td>Sat</td>\n",
              "      <td>Dinner</td>\n",
              "      <td>2</td>\n",
              "    </tr>\n",
              "    <tr>\n",
              "      <th>241</th>\n",
              "      <td>22.67</td>\n",
              "      <td>2.00</td>\n",
              "      <td>Male</td>\n",
              "      <td>Yes</td>\n",
              "      <td>Sat</td>\n",
              "      <td>Dinner</td>\n",
              "      <td>2</td>\n",
              "    </tr>\n",
              "    <tr>\n",
              "      <th>242</th>\n",
              "      <td>17.82</td>\n",
              "      <td>1.75</td>\n",
              "      <td>Male</td>\n",
              "      <td>No</td>\n",
              "      <td>Sat</td>\n",
              "      <td>Dinner</td>\n",
              "      <td>2</td>\n",
              "    </tr>\n",
              "    <tr>\n",
              "      <th>243</th>\n",
              "      <td>18.78</td>\n",
              "      <td>3.00</td>\n",
              "      <td>Female</td>\n",
              "      <td>No</td>\n",
              "      <td>Thur</td>\n",
              "      <td>Dinner</td>\n",
              "      <td>2</td>\n",
              "    </tr>\n",
              "  </tbody>\n",
              "</table>\n",
              "<p>244 rows × 7 columns</p>\n",
              "</div>\n",
              "      <button class=\"colab-df-convert\" onclick=\"convertToInteractive('df-d5993638-6138-4192-9946-0f6f5dbd675d')\"\n",
              "              title=\"Convert this dataframe to an interactive table.\"\n",
              "              style=\"display:none;\">\n",
              "        \n",
              "  <svg xmlns=\"http://www.w3.org/2000/svg\" height=\"24px\"viewBox=\"0 0 24 24\"\n",
              "       width=\"24px\">\n",
              "    <path d=\"M0 0h24v24H0V0z\" fill=\"none\"/>\n",
              "    <path d=\"M18.56 5.44l.94 2.06.94-2.06 2.06-.94-2.06-.94-.94-2.06-.94 2.06-2.06.94zm-11 1L8.5 8.5l.94-2.06 2.06-.94-2.06-.94L8.5 2.5l-.94 2.06-2.06.94zm10 10l.94 2.06.94-2.06 2.06-.94-2.06-.94-.94-2.06-.94 2.06-2.06.94z\"/><path d=\"M17.41 7.96l-1.37-1.37c-.4-.4-.92-.59-1.43-.59-.52 0-1.04.2-1.43.59L10.3 9.45l-7.72 7.72c-.78.78-.78 2.05 0 2.83L4 21.41c.39.39.9.59 1.41.59.51 0 1.02-.2 1.41-.59l7.78-7.78 2.81-2.81c.8-.78.8-2.07 0-2.86zM5.41 20L4 18.59l7.72-7.72 1.47 1.35L5.41 20z\"/>\n",
              "  </svg>\n",
              "      </button>\n",
              "      \n",
              "  <style>\n",
              "    .colab-df-container {\n",
              "      display:flex;\n",
              "      flex-wrap:wrap;\n",
              "      gap: 12px;\n",
              "    }\n",
              "\n",
              "    .colab-df-convert {\n",
              "      background-color: #E8F0FE;\n",
              "      border: none;\n",
              "      border-radius: 50%;\n",
              "      cursor: pointer;\n",
              "      display: none;\n",
              "      fill: #1967D2;\n",
              "      height: 32px;\n",
              "      padding: 0 0 0 0;\n",
              "      width: 32px;\n",
              "    }\n",
              "\n",
              "    .colab-df-convert:hover {\n",
              "      background-color: #E2EBFA;\n",
              "      box-shadow: 0px 1px 2px rgba(60, 64, 67, 0.3), 0px 1px 3px 1px rgba(60, 64, 67, 0.15);\n",
              "      fill: #174EA6;\n",
              "    }\n",
              "\n",
              "    [theme=dark] .colab-df-convert {\n",
              "      background-color: #3B4455;\n",
              "      fill: #D2E3FC;\n",
              "    }\n",
              "\n",
              "    [theme=dark] .colab-df-convert:hover {\n",
              "      background-color: #434B5C;\n",
              "      box-shadow: 0px 1px 3px 1px rgba(0, 0, 0, 0.15);\n",
              "      filter: drop-shadow(0px 1px 2px rgba(0, 0, 0, 0.3));\n",
              "      fill: #FFFFFF;\n",
              "    }\n",
              "  </style>\n",
              "\n",
              "      <script>\n",
              "        const buttonEl =\n",
              "          document.querySelector('#df-d5993638-6138-4192-9946-0f6f5dbd675d button.colab-df-convert');\n",
              "        buttonEl.style.display =\n",
              "          google.colab.kernel.accessAllowed ? 'block' : 'none';\n",
              "\n",
              "        async function convertToInteractive(key) {\n",
              "          const element = document.querySelector('#df-d5993638-6138-4192-9946-0f6f5dbd675d');\n",
              "          const dataTable =\n",
              "            await google.colab.kernel.invokeFunction('convertToInteractive',\n",
              "                                                     [key], {});\n",
              "          if (!dataTable) return;\n",
              "\n",
              "          const docLinkHtml = 'Like what you see? Visit the ' +\n",
              "            '<a target=\"_blank\" href=https://colab.research.google.com/notebooks/data_table.ipynb>data table notebook</a>'\n",
              "            + ' to learn more about interactive tables.';\n",
              "          element.innerHTML = '';\n",
              "          dataTable['output_type'] = 'display_data';\n",
              "          await google.colab.output.renderOutput(dataTable, element);\n",
              "          const docLink = document.createElement('div');\n",
              "          docLink.innerHTML = docLinkHtml;\n",
              "          element.appendChild(docLink);\n",
              "        }\n",
              "      </script>\n",
              "    </div>\n",
              "  </div>\n",
              "  "
            ]
          },
          "metadata": {},
          "execution_count": 63
        }
      ]
    },
    {
      "cell_type": "code",
      "source": [
        "import matplotlib.pyplot as plt # 그림 그리는 # as는 줄여서 부르려고 붙인겁니다.\n",
        "import seaborn as sns\n",
        "\n",
        "# T는 time, lunch, dinner 했음\n",
        "\n",
        "tip_dt = sns.load_dataset('tips')\n",
        "\n",
        "\n",
        "c_sex_m = tip_dt[tip_dt['sex'] == 'Male']\n",
        "\n",
        "c_sex_f = tip_dt[tip_dt['sex'] == 'Female']\n",
        "\n",
        "\n",
        "그림 = plt.figure() # 여기서 한번 그려준다\n",
        "축1 = 그림.add_subplot(1,2,1) # cf) 한줄복사는 shift alt 방향키\n",
        "축2 = 그림.add_subplot(1,2,2) # 1행 2열 2번째자리\n",
        "\n",
        "축1.scatter(c_sex_m['total_bill'], c_sex_m['tip'])\n",
        "축2.scatter(c_sex_f['total_bill'], c_sex_f['tip'])\n",
        "\n",
        "축1.set_title('Male')\n",
        "축2.set_title('Female')\n",
        "\n",
        "그림.suptitle('x=total_bill, y=tip')\n",
        "그림.tight_layout()\n",
        "#print(그림)"
      ],
      "metadata": {
        "colab": {
          "base_uri": "https://localhost:8080/",
          "height": 302
        },
        "id": "XcwPOgU5-6Zb",
        "outputId": "6a5f93cb-477f-4c66-95f4-c57a6988b1e2"
      },
      "execution_count": null,
      "outputs": [
        {
          "output_type": "display_data",
          "data": {
            "text/plain": [
              "<Figure size 432x288 with 2 Axes>"
            ],
            "image/png": "[encoded data removed]"
          },
          "metadata": {
            "needs_background": "light"
          }
        }
      ]
    },
    {
      "cell_type": "code",
      "source": [
        "# 산점도 이외의 것도 그려보자.\n",
        "# matplotlib\n",
        "import matplotlib.pyplot as plt # 그림 그리는 # as는 줄여서 부르려고 붙인겁니다.\n",
        "import seaborn as sns\n",
        "\n",
        "# T는 time, lunch, dinner 했음\n",
        "\n",
        "tip_dt = sns.load_dataset('tips')\n",
        "\n",
        "\n",
        "c_sex_m = tip_dt[tip_dt['sex'] == 'Male']\n",
        "\n",
        "c_sex_f = tip_dt[tip_dt['sex'] == 'Female']\n",
        "\n",
        "도화지 = plt.figure()\n",
        "\n",
        "for number in range(10, 51, 10):\n",
        "\n",
        "    ax1 = 도화지.add_subplot(1,1,1)\n",
        "    ax1.hist(tips['total_bill'], bins = number)\n",
        "    ax1.set_title('HISTOGRAM')\n",
        "    ax1.set_xlabel('x = TotalBill')\n",
        "    ax1.set_ylabel('y = Frequency')"
      ],
      "metadata": {
        "colab": {
          "base_uri": "https://localhost:8080/",
          "height": 333
        },
        "id": "14bfPXAZAUwd",
        "outputId": "55daab9b-bdaf-4050-9bff-419ea5608e72"
      },
      "execution_count": null,
      "outputs": [
        {
          "output_type": "stream",
          "name": "stderr",
          "text": [
            "/usr/local/lib/python3.7/dist-packages/ipykernel_launcher.py:19: MatplotlibDeprecationWarning: Adding an axes using the same arguments as a previous axes currently reuses the earlier instance.  In a future version, a new instance will always be created and returned.  Meanwhile, this warning can be suppressed, and the future behavior ensured, by passing a unique label to each axes instance.\n"
          ]
        },
        {
          "output_type": "display_data",
          "data": {
            "text/plain": [
              "<Figure size 432x288 with 1 Axes>"
            ],
            "image/png": "[encoded data removed]"
          },
          "metadata": {
            "needs_background": "light"
          }
        }
      ]
    },
    {
      "cell_type": "code",
      "source": [
        "ax1.hist(tips['total_bill'], bins = 20)\n",
        "도화지"
      ],
      "metadata": {
        "colab": {
          "base_uri": "https://localhost:8080/",
          "height": 295
        },
        "id": "k3Paj9b2V_5X",
        "outputId": "6a900743-2662-416a-9f45-e9e074727474"
      },
      "execution_count": null,
      "outputs": [
        {
          "output_type": "execute_result",
          "data": {
            "text/plain": [
              "<Figure size 432x288 with 1 Axes>"
            ],
            "image/png": "[encoded data removed]"
          },
          "metadata": {},
          "execution_count": 58
        }
      ]
    },
    {
      "cell_type": "code",
      "source": [
        "ax1.hist(tips['total_bill'], bins = 30)\n",
        "도화지"
      ],
      "metadata": {
        "colab": {
          "base_uri": "https://localhost:8080/",
          "height": 295
        },
        "id": "_OFLwkTlW5Z9",
        "outputId": "0bae1a35-2db4-4858-e5dd-66b32a081502"
      },
      "execution_count": null,
      "outputs": [
        {
          "output_type": "execute_result",
          "data": {
            "text/plain": [
              "<Figure size 432x288 with 1 Axes>"
            ],
            "image/png": "[encoded data removed]"
          },
          "metadata": {},
          "execution_count": 59
        }
      ]
    },
    {
      "cell_type": "code",
      "source": [
        "import seaborn #as sns\n",
        "\n",
        "tip_data = sns.load_dataset('tips')\n",
        "\n",
        "seaborn.distplot(tips['total_bill'])"
      ],
      "metadata": {
        "colab": {
          "base_uri": "https://localhost:8080/",
          "height": 356
        },
        "id": "AOQiPuXcW6zm",
        "outputId": "8bc01419-f8fe-44e3-8dc0-468598a18689"
      },
      "execution_count": null,
      "outputs": [
        {
          "output_type": "stream",
          "name": "stderr",
          "text": [
            "/usr/local/lib/python3.7/dist-packages/seaborn/distributions.py:2619: FutureWarning: `distplot` is a deprecated function and will be removed in a future version. Please adapt your code to use either `displot` (a figure-level function with similar flexibility) or `histplot` (an axes-level function for histograms).\n",
            "  warnings.warn(msg, FutureWarning)\n"
          ]
        },
        {
          "output_type": "execute_result",
          "data": {
            "text/plain": [
              "<matplotlib.axes._subplots.AxesSubplot at 0x7f6d4e1d0410>"
            ]
          },
          "metadata": {},
          "execution_count": 64
        },
        {
          "output_type": "display_data",
          "data": {
            "text/plain": [
              "<Figure size 432x288 with 1 Axes>"
            ],
            "image/png": "[encoded data removed]"
          },
          "metadata": {
            "needs_background": "light"
          }
        }
      ]
    },
    {
      "cell_type": "code",
      "source": [
        "\n",
        "seaborn.distplot(tips['total_bill'], kde = False)"
      ],
      "metadata": {
        "colab": {
          "base_uri": "https://localhost:8080/",
          "height": 357
        },
        "id": "NGr7rEURYIj2",
        "outputId": "86905105-5449-44c9-8cd8-45aa90a24bbc"
      },
      "execution_count": null,
      "outputs": [
        {
          "output_type": "stream",
          "name": "stderr",
          "text": [
            "/usr/local/lib/python3.7/dist-packages/seaborn/distributions.py:2619: FutureWarning: `distplot` is a deprecated function and will be removed in a future version. Please adapt your code to use either `displot` (a figure-level function with similar flexibility) or `histplot` (an axes-level function for histograms).\n",
            "  warnings.warn(msg, FutureWarning)\n"
          ]
        },
        {
          "output_type": "execute_result",
          "data": {
            "text/plain": [
              "<matplotlib.axes._subplots.AxesSubplot at 0x7f6d4ed7a350>"
            ]
          },
          "metadata": {},
          "execution_count": 65
        },
        {
          "output_type": "display_data",
          "data": {
            "text/plain": [
              "<Figure size 432x288 with 1 Axes>"
            ],
            "image/png": "[encoded data removed]"
          },
          "metadata": {
            "needs_background": "light"
          }
        }
      ]
    },
    {
      "cell_type": "code",
      "source": [
        "seaborn.distplot(tips['total_bill'], hist = False)"
      ],
      "metadata": {
        "colab": {
          "base_uri": "https://localhost:8080/",
          "height": 354
        },
        "id": "e4pYu8q3YgVQ",
        "outputId": "989ac10d-b32a-4009-a4f0-4bdd077eef68"
      },
      "execution_count": null,
      "outputs": [
        {
          "output_type": "stream",
          "name": "stderr",
          "text": [
            "/usr/local/lib/python3.7/dist-packages/seaborn/distributions.py:2619: FutureWarning: `distplot` is a deprecated function and will be removed in a future version. Please adapt your code to use either `displot` (a figure-level function with similar flexibility) or `kdeplot` (an axes-level function for kernel density plots).\n",
            "  warnings.warn(msg, FutureWarning)\n"
          ]
        },
        {
          "output_type": "execute_result",
          "data": {
            "text/plain": [
              "<matplotlib.axes._subplots.AxesSubplot at 0x7f6d4ee03290>"
            ]
          },
          "metadata": {},
          "execution_count": 66
        },
        {
          "output_type": "display_data",
          "data": {
            "text/plain": [
              "<Figure size 432x288 with 1 Axes>"
            ],
            "image/png": "[encoded data removed]"
          },
          "metadata": {
            "needs_background": "light"
          }
        }
      ]
    },
    {
      "cell_type": "code",
      "source": [
        "seaborn.distplot(tips['total_bill'], rug = True) # 어디에 데이터 밀집해있는지 알 수 있다"
      ],
      "metadata": {
        "colab": {
          "base_uri": "https://localhost:8080/",
          "height": 391
        },
        "id": "v-e02xZkYibV",
        "outputId": "8b82e3c6-cce8-48c1-da2a-5a0804958ad4"
      },
      "execution_count": null,
      "outputs": [
        {
          "output_type": "stream",
          "name": "stderr",
          "text": [
            "/usr/local/lib/python3.7/dist-packages/seaborn/distributions.py:2619: FutureWarning: `distplot` is a deprecated function and will be removed in a future version. Please adapt your code to use either `displot` (a figure-level function with similar flexibility) or `histplot` (an axes-level function for histograms).\n",
            "  warnings.warn(msg, FutureWarning)\n",
            "/usr/local/lib/python3.7/dist-packages/seaborn/distributions.py:2103: FutureWarning: The `axis` variable is no longer used and will be removed. Instead, assign variables directly to `x` or `y`.\n",
            "  warnings.warn(msg, FutureWarning)\n"
          ]
        },
        {
          "output_type": "execute_result",
          "data": {
            "text/plain": [
              "<matplotlib.axes._subplots.AxesSubplot at 0x7f6d4e869dd0>"
            ]
          },
          "metadata": {},
          "execution_count": 67
        },
        {
          "output_type": "display_data",
          "data": {
            "text/plain": [
              "<Figure size 432x288 with 1 Axes>"
            ],
            "image/png": "[encoded data removed]"
          },
          "metadata": {
            "needs_background": "light"
          }
        }
      ]
    },
    {
      "cell_type": "code",
      "source": [
        "seaborn.countplot(tips['day'])"
      ],
      "metadata": {
        "colab": {
          "base_uri": "https://localhost:8080/",
          "height": 353
        },
        "id": "XldXTfsDYo4g",
        "outputId": "44e629df-5ad7-40da-c71b-35d3f2cee4cf"
      },
      "execution_count": null,
      "outputs": [
        {
          "output_type": "stream",
          "name": "stderr",
          "text": [
            "/usr/local/lib/python3.7/dist-packages/seaborn/_decorators.py:43: FutureWarning: Pass the following variable as a keyword arg: x. From version 0.12, the only valid positional argument will be `data`, and passing other arguments without an explicit keyword will result in an error or misinterpretation.\n",
            "  FutureWarning\n"
          ]
        },
        {
          "output_type": "execute_result",
          "data": {
            "text/plain": [
              "<matplotlib.axes._subplots.AxesSubplot at 0x7f6d4e988190>"
            ]
          },
          "metadata": {},
          "execution_count": 68
        },
        {
          "output_type": "display_data",
          "data": {
            "text/plain": [
              "<Figure size 432x288 with 1 Axes>"
            ],
            "image/png": "[encoded data removed]"
          },
          "metadata": {
            "needs_background": "light"
          }
        }
      ]
    },
    {
      "cell_type": "code",
      "source": [
        "seaborn.lmplot(x='total_bill',y='tip',data=tip_dt)\n",
        "#statistical data visualization\n",
        "#산점도. scatter"
      ],
      "metadata": {
        "colab": {
          "base_uri": "https://localhost:8080/",
          "height": 387
        },
        "id": "UiTJjcvEZDIO",
        "outputId": "e05ebc72-d9c6-42a6-c9d6-283274f935e3"
      },
      "execution_count": null,
      "outputs": [
        {
          "output_type": "execute_result",
          "data": {
            "text/plain": [
              "<seaborn.axisgrid.FacetGrid at 0x7f6d4c101090>"
            ]
          },
          "metadata": {},
          "execution_count": 71
        },
        {
          "output_type": "display_data",
          "data": {
            "text/plain": [
              "<Figure size 360x360 with 1 Axes>"
            ],
            "image/png": "[encoded data removed]"
          },
          "metadata": {
            "needs_background": "light"
          }
        }
      ]
    },
    {
      "cell_type": "code",
      "source": [
        "seaborn.lmplot(x='total_bill',y='tip',data=tip_dt, fit_reg=False) #회귀선을 빼달라\n",
        "#statistical data visualization\n",
        "#산점도. scatter"
      ],
      "metadata": {
        "colab": {
          "base_uri": "https://localhost:8080/",
          "height": 387
        },
        "id": "z1_qfdKuZYz1",
        "outputId": "fb170467-00bf-456a-a235-68be883f3cbe"
      },
      "execution_count": null,
      "outputs": [
        {
          "output_type": "execute_result",
          "data": {
            "text/plain": [
              "<seaborn.axisgrid.FacetGrid at 0x7f6d4c07f6d0>"
            ]
          },
          "metadata": {},
          "execution_count": 72
        },
        {
          "output_type": "display_data",
          "data": {
            "text/plain": [
              "<Figure size 360x360 with 1 Axes>"
            ],
            "image/png": "[encoded data removed]"
          },
          "metadata": {
            "needs_background": "light"
          }
        }
      ]
    },
    {
      "cell_type": "code",
      "source": [
        "seaborn.lmplot(x='total_bill',y='tip',data=tip_dt,\n",
        "               fit_reg=False,\n",
        "               hue = 'sex',markers = ['o','+'])# hue, marker \n"
      ],
      "metadata": {
        "id": "kBRCrfOUesNN"
      },
      "execution_count": null,
      "outputs": []
    },
    {
      "cell_type": "code",
      "source": [
        "# 과제나 논문에 쓰기좋음...\n",
        "import seaborn #as sns\n",
        "\n",
        "tip_data = sns.load_dataset('tips')\n",
        "\n",
        "seaborn.jointplot(x='total_bill',y='tip', data=tip_dt, kind = 'hex') \n",
        "# 이외에도 많이 있으니  구글 검색 해보십시오"
      ],
      "metadata": {
        "id": "FSw0ApKWZ4ba"
      },
      "execution_count": null,
      "outputs": []
    },
    {
      "cell_type": "code",
      "source": [
        "\n",
        "seaborn.kdeplot(data=tips['total_bill'],data2=tips['tip'],shade=True)"
      ],
      "metadata": {
        "id": "Qr1NmzzsaOMs"
      },
      "execution_count": null,
      "outputs": []
    },
    {
      "cell_type": "code",
      "source": [
        "# T) joint, lm, boxplot 을 많이 썼습니다 \n",
        "\n",
        "# 평균구하기\n",
        "seaborn.barplot(x='time',y='total_bill', data=tip_dt)"
      ],
      "metadata": {
        "id": "pn0hcUtTbF4N"
      },
      "execution_count": null,
      "outputs": []
    },
    {
      "cell_type": "code",
      "source": [
        "seaborn.boxplot(x='time',y='total_bill', data=tip_dt)\n",
        "\n",
        "# 가운데가 중앙값\n",
        "# 어떤 데이터는 빼야하는지...\n",
        "# 스스로 판단해야함. 데이터에 따라 다르므로.\n",
        "# 상자 세로 x 1.5 가 upper fence 더라.\n",
        "# 그 위로는 허용치를 넘는다는 뜻"
      ],
      "metadata": {
        "id": "Ys8-PaTTbipN"
      },
      "execution_count": null,
      "outputs": []
    },
    {
      "cell_type": "code",
      "source": [
        "seaborn.violinplot(x='time',y='total_bill', data=tip_dt)\n",
        "\n",
        "# 데이터 분포를 알기 쉬움\n",
        "# 이거보단 boxplot을 더 많이 쓰는 편..."
      ],
      "metadata": {
        "id": "Ztbg9xU6bzSM"
      },
      "execution_count": null,
      "outputs": []
    },
    {
      "cell_type": "code",
      "source": [
        "seaborn.violinplot(x='time',y='total_bill', data=tip_dt, hue = 'sex', split = True) \n",
        "# hue = '변수'로 기준을 추가할 수 있다.\n",
        "# split = True  <- 얘는 violinplot 전용"
      ],
      "metadata": {
        "id": "xU2OH7Zmd8df"
      },
      "execution_count": null,
      "outputs": []
    },
    {
      "cell_type": "code",
      "source": [
        "seaborn.violinplot(x='time',y='total_bill', data=tip_dt, hue = 'sex') \n",
        "# hue = '변수'로 기준을 추가할 수 있다.\n"
      ],
      "metadata": {
        "id": "pBY6Ht41eL1u"
      },
      "execution_count": null,
      "outputs": []
    },
    {
      "cell_type": "code",
      "source": [
        "#이것도 쌤이 많이 씀\n",
        "\n",
        "seaborn.pairplot(tip_dt)"
      ],
      "metadata": {
        "id": "KtErORDPcXqV"
      },
      "execution_count": null,
      "outputs": []
    },
    {
      "cell_type": "code",
      "source": [
        "#이것도 쌤이 많이 썼다고 함\n",
        "\n",
        "seaborn.pairplot(tip_dt, hue = 'sex') #범주형 기준 을 추가"
      ],
      "metadata": {
        "id": "03e9zp-YehJW"
      },
      "execution_count": null,
      "outputs": []
    },
    {
      "cell_type": "code",
      "source": [
        "a = seaborn.PairGrid(tip_dt)\n",
        "a = a.map_upper(seaborn.regplot)\n",
        "a = a.map_lower(seaborn.kdeplot)\n",
        "a = a.map_diag(seaborn.distplot, rug = True) \n",
        "# 데이터에 따라 못 그리는 그림도 있음"
      ],
      "metadata": {
        "id": "c3u8y108cnL9"
      },
      "execution_count": null,
      "outputs": []
    },
    {
      "cell_type": "code",
      "source": [
        "import matplotlib.pyplot as plt # 그림 그리는 # as는 줄여서 부르려고 붙인겁니다.\n",
        "import seaborn as sns\n",
        "\n",
        "anscombe = sns.load_dataset('anscombe')\n",
        "anscombe\n",
        "\n"
      ],
      "metadata": {
        "id": "81BMhZ19jYu7"
      },
      "execution_count": null,
      "outputs": []
    },
    {
      "cell_type": "code",
      "source": [
        "# cf) seaborn.pydata.org\n",
        "#     matplotlib.org\n",
        "\n",
        "import matplotlib.pyplot as plt # 그림 그리는 # as는 줄여서 부르려고 붙인겁니다.\n",
        "import seaborn as sns\n",
        "\n",
        "anscombe = sns.load_dataset('anscombe')\n",
        "\n",
        "sns.lmplot(x='x',y='y',data=anscombe, col='dataset')"
      ],
      "metadata": {
        "id": "3ciLValUdYv7"
      },
      "execution_count": null,
      "outputs": []
    },
    {
      "cell_type": "code",
      "source": [
        "\n",
        "import matplotlib.pyplot as plt # 그림 그리는 # as는 줄여서 부르려고 붙인겁니다.\n",
        "import seaborn as sns\n",
        "\n",
        "anscombe = sns.load_dataset('anscombe')\n",
        "\n",
        "sns.lmplot(x='x',y='y',data=anscombe, col='dataset', col_wrap=2)"
      ],
      "metadata": {
        "id": "SB24C8WvjfJY"
      },
      "execution_count": null,
      "outputs": []
    },
    {
      "cell_type": "code",
      "source": [
        "import matplotlib.pyplot as plt \n",
        "import seaborn as sns\n",
        "\n",
        "#tips 데이터에서 day별 lmplot을 그려보세요 (성별분할)\n",
        "\n",
        "tips_data = sns.load_dataset('tips')\n",
        "tips_data"
      ],
      "metadata": {
        "id": "-jd7raukkyZA"
      },
      "execution_count": null,
      "outputs": []
    },
    {
      "cell_type": "code",
      "source": [
        "import matplotlib.pyplot as plt \n",
        "import seaborn as sns\n",
        "\n",
        "#tips 데이터에서 day별 lmplot을 그려보세요 (성별분할)\n",
        "\n",
        "#linear regression\n",
        "\n",
        "tips_data = sns.load_dataset('tips')\n",
        "# lm stands for linear model\n",
        "sns.lmplot(x='total_bill',y='tip',data=tips_data, col='day',hue = 'sex')"
      ],
      "metadata": {
        "id": "otdH9ftEjrdY"
      },
      "execution_count": null,
      "outputs": []
    },
    {
      "cell_type": "code",
      "source": [
        "# 그룹별 그래프 그릴때 주로 쓰는 FacetGrid\n",
        "# rug = True ; 어디에 데이터 밀집해있는지 알 수 있다\n",
        "nameOfvariable = sns.FacetGrid(tips, col = 'time')\n",
        "nameOfvariable.map(sns.distplot, 'total_bill', rug=True)"
      ],
      "metadata": {
        "colab": {
          "base_uri": "https://localhost:8080/",
          "height": 408
        },
        "id": "LlhZbEXRlAWP",
        "outputId": "d328eb79-3ea2-4ea3-d12d-d065fb89b1f2"
      },
      "execution_count": null,
      "outputs": [
        {
          "output_type": "stream",
          "name": "stderr",
          "text": [
            "/usr/local/lib/python3.7/dist-packages/seaborn/distributions.py:2619: FutureWarning: `distplot` is a deprecated function and will be removed in a future version. Please adapt your code to use either `displot` (a figure-level function with similar flexibility) or `histplot` (an axes-level function for histograms).\n",
            "  warnings.warn(msg, FutureWarning)\n",
            "/usr/local/lib/python3.7/dist-packages/seaborn/distributions.py:2103: FutureWarning: The `axis` variable is no longer used and will be removed. Instead, assign variables directly to `x` or `y`.\n",
            "  warnings.warn(msg, FutureWarning)\n",
            "/usr/local/lib/python3.7/dist-packages/seaborn/distributions.py:2619: FutureWarning: `distplot` is a deprecated function and will be removed in a future version. Please adapt your code to use either `displot` (a figure-level function with similar flexibility) or `histplot` (an axes-level function for histograms).\n",
            "  warnings.warn(msg, FutureWarning)\n",
            "/usr/local/lib/python3.7/dist-packages/seaborn/distributions.py:2103: FutureWarning: The `axis` variable is no longer used and will be removed. Instead, assign variables directly to `x` or `y`.\n",
            "  warnings.warn(msg, FutureWarning)\n"
          ]
        },
        {
          "output_type": "execute_result",
          "data": {
            "text/plain": [
              "<seaborn.axisgrid.FacetGrid at 0x7f6d47199590>"
            ]
          },
          "metadata": {},
          "execution_count": 120
        },
        {
          "output_type": "display_data",
          "data": {
            "text/plain": [
              "<Figure size 432x216 with 2 Axes>"
            ],
            "image/png": "[encoded data removed]"
          },
          "metadata": {
            "needs_background": "light"
          }
        }
      ]
    },
    {
      "cell_type": "code",
      "source": [
        "변수이름 = sns.FacetGrid(tips, col = 'day', hue = 'sex')\n",
        "변수이름 = 변수이름.map(plt.scatter, 'total_bill','tip')\n",
        "a.add_legend()\n",
        "# legend ; 범례"
      ],
      "metadata": {
        "colab": {
          "base_uri": "https://localhost:8080/",
          "height": 243
        },
        "id": "Mwi-9NiOnsRc",
        "outputId": "959b2679-f968-4bbe-fafb-363845c30053"
      },
      "execution_count": null,
      "outputs": [
        {
          "output_type": "execute_result",
          "data": {
            "text/plain": [
              "<seaborn.axisgrid.FacetGrid at 0x7f6d4a9a8fd0>"
            ]
          },
          "metadata": {},
          "execution_count": 122
        },
        {
          "output_type": "display_data",
          "data": {
            "text/plain": [
              "<Figure size 864x216 with 4 Axes>"
            ],
            "image/png": "[encoded data removed]"
          },
          "metadata": {
            "needs_background": "light"
          }
        }
      ]
    },
    {
      "cell_type": "code",
      "source": [
        "# import matplotlib.pyplot as plt\n",
        "변수이름 = sns.FacetGrid(tips, col = 'time', hue = 'sex') # FacetGrid는 Seaborn...\n",
        "변수이름 = 변수이름.map(plt.scatter, 'total_bill','tip') # plt(matplotlib) 는 호환성이 좋더라. 다른 라이브러리랑도...\n",
        "a.add_legend()\n",
        "# legend ; 범례\n",
        "\n",
        "# plt.scatter, time별 성별분할 \n",
        "# x축 total_bill\n",
        "# y축 tip"
      ],
      "metadata": {
        "colab": {
          "base_uri": "https://localhost:8080/",
          "height": 243
        },
        "id": "qr29_bGYoFUu",
        "outputId": "99197df4-0279-4a41-c21a-7429a0a5bb89"
      },
      "execution_count": null,
      "outputs": [
        {
          "output_type": "execute_result",
          "data": {
            "text/plain": [
              "<seaborn.axisgrid.FacetGrid at 0x7f6d4a9a8fd0>"
            ]
          },
          "metadata": {},
          "execution_count": 127
        },
        {
          "output_type": "display_data",
          "data": {
            "text/plain": [
              "<Figure size 432x216 with 2 Axes>"
            ],
            "image/png": "[encoded data removed]"
          },
          "metadata": {
            "needs_background": "light"
          }
        }
      ]
    },
    {
      "cell_type": "code",
      "source": [
        "# import matplotlib.pyplot as plt\n",
        "\n",
        "# 논문에 넣기 편한 모양으로 나오네요\n",
        "sns.set_style('whitegrid')\n",
        "변수이름 = sns.FacetGrid(tips, col = 'time', hue = 'sex', row = 'smoker') # FacetGrid는 Seaborn...\n",
        "변수이름 = 변수이름.map(plt.scatter, 'total_bill','tip') # plt(matplotlib) 는 호환성이 좋더라. 다른 라이브러리랑도...\n",
        "변수이름.add_legend()\n",
        "# legend ; 범례\n",
        "\n",
        "# plt.scatter, time별 성별분할 \n",
        "# x축 total_bill\n",
        "# y축 tip"
      ],
      "metadata": {
        "id": "JU0zoN5FopyO"
      },
      "execution_count": null,
      "outputs": []
    },
    {
      "cell_type": "markdown",
      "source": [
        "### 데이터 가공"
      ],
      "metadata": {
        "id": "rRejffiiwuQg"
      }
    },
    {
      "cell_type": "code",
      "source": [
        "# 데이터 가공방법을 또 알아보자\n",
        "import pandas #as pd\n",
        "dataframe1 = pandas.read_csv(\"concat_1.csv\")\n",
        "dataframe2 = pandas.read_csv(\"concat_2.csv\")\n",
        "dataframe3 = pandas.read_csv(\"concat_3.csv\")\n",
        "\n",
        "dataframe1"
      ],
      "metadata": {
        "id": "TERD0g6Rpii2"
      },
      "execution_count": null,
      "outputs": []
    },
    {
      "cell_type": "code",
      "source": [
        "dataframe2"
      ],
      "metadata": {
        "id": "S_dFq5FHqZ2F"
      },
      "execution_count": null,
      "outputs": []
    },
    {
      "cell_type": "code",
      "source": [
        "dataframe3"
      ],
      "metadata": {
        "id": "8hhxLV_xq7xt"
      },
      "execution_count": null,
      "outputs": []
    },
    {
      "cell_type": "code",
      "source": [
        "# 합쳐보자. pd.concat\n",
        "\n",
        "pandas.concat([dataframe1,dataframe2,dataframe3])\n"
      ],
      "metadata": {
        "id": "N6hVtJ-xrBRN"
      },
      "execution_count": null,
      "outputs": []
    },
    {
      "cell_type": "code",
      "source": [
        "# 행번호를 바꾸고 싶다면 ; ignore_index\n",
        "저장을_하자 = pandas.concat([dataframe1,dataframe2,dataframe3],ignore_index=True)\n",
        "저장을_하자"
      ],
      "metadata": {
        "id": "oYtQhZw7rI09"
      },
      "execution_count": null,
      "outputs": []
    },
    {
      "cell_type": "code",
      "source": [
        "저장을_하자.loc[0]"
      ],
      "metadata": {
        "id": "cQijTD5RsVB4"
      },
      "execution_count": null,
      "outputs": []
    },
    {
      "cell_type": "code",
      "source": [
        "# 가로로(행) 숫자가 같으니 왼->오 로 붙여보자\n",
        "\n",
        "b = pandas.concat([dataframe1,dataframe2,dataframe3], axis =1, ignore_index = True)\n",
        "# 0 ; 아래에서 위\n",
        "# 1 ; 오른쪽에서 왼\n",
        "b"
      ],
      "metadata": {
        "id": "GF0vBxKerXSs"
      },
      "execution_count": null,
      "outputs": []
    },
    {
      "cell_type": "code",
      "source": [
        "dataframe1"
      ],
      "metadata": {
        "id": "xLM6JVwlr59-"
      },
      "execution_count": null,
      "outputs": []
    },
    {
      "cell_type": "code",
      "source": [
        "dataframe1.columns = ['E','F','G','H']\n",
        "pandas.concat([dataframe1,dataframe2,dataframe3],ignore_index = True)\n",
        "# ignore_index 쓰면 열 이름 다를때 새로 만들어서 붙이네."
      ],
      "metadata": {
        "id": "dwD5Qhw6sieU"
      },
      "execution_count": null,
      "outputs": []
    },
    {
      "cell_type": "code",
      "source": [
        "dataframe1.columns = ['E','F','G','H']\n",
        "pandas.concat([dataframe1,dataframe2,dataframe3],axis=1)"
      ],
      "metadata": {
        "id": "Nrcqdd2ZswLA"
      },
      "execution_count": null,
      "outputs": []
    },
    {
      "cell_type": "code",
      "source": [
        "import pandas as 판다\n",
        "\n",
        "관측자 = 판다.read_csv(\"survey_person.csv\") #관측자\n",
        "관측위치 = 판다.read_csv(\"survey_site.csv\") #관측위치\n",
        "날씨정보 = 판다.read_csv(\"survey_survey.csv\") #날씨정보\n",
        "관측날짜 = 판다.read_csv(\"survey_visited.csv\") #관측날짜"
      ],
      "metadata": {
        "id": "n3qaZCXItdNk"
      },
      "execution_count": null,
      "outputs": []
    },
    {
      "cell_type": "code",
      "source": [
        "관측자"
      ],
      "metadata": {
        "id": "PHXwYNSgxaHy"
      },
      "execution_count": null,
      "outputs": []
    },
    {
      "cell_type": "code",
      "source": [
        "관측위치 # lat ; latitude"
      ],
      "metadata": {
        "id": "icH9e0-txa_6"
      },
      "execution_count": null,
      "outputs": []
    },
    {
      "cell_type": "code",
      "source": [
        "날씨정보"
      ],
      "metadata": {
        "id": "eM7EpkEixyrq"
      },
      "execution_count": null,
      "outputs": []
    },
    {
      "cell_type": "code",
      "source": [
        "관측날짜"
      ],
      "metadata": {
        "id": "X4fNovKOx3pq"
      },
      "execution_count": null,
      "outputs": []
    },
    {
      "cell_type": "code",
      "source": [
        "# merge ; 스마트하게 합쳐줌\n",
        "\n",
        "변수이름 = 관측날짜.merge(관측위치,left_on = 'site', right_on = 'name')"
      ],
      "metadata": {
        "id": "HwnGGZVix7Tu"
      },
      "execution_count": null,
      "outputs": []
    },
    {
      "cell_type": "code",
      "source": [
        "del 변수이름['name']\n",
        "변수이름 "
      ],
      "metadata": {
        "id": "v5Iwn8nfyeyC"
      },
      "execution_count": null,
      "outputs": []
    },
    {
      "cell_type": "code",
      "source": [
        "# person과 survey를 합쳐보자\n",
        "import pandas as pd\n",
        "\n",
        "person = pd.read_csv(\"survey_person.csv\") #관측자\n",
        "site = pd.read_csv(\"survey_site.csv\") #관측위치\n",
        "survey = pd.read_csv(\"survey_survey.csv\") #날씨정보\n",
        "visited = pd.read_csv(\"survey_visited.csv\") #관측날짜"
      ],
      "metadata": {
        "id": "EOE9zYdUysrP"
      },
      "execution_count": null,
      "outputs": []
    },
    {
      "cell_type": "code",
      "source": [
        "personAndsurvey = person.merge(survey,left_on = 'ident', right_on = 'person')\n",
        "personAndsurvey "
      ],
      "metadata": {
        "id": "Q6gWGZEFzkf7"
      },
      "execution_count": null,
      "outputs": []
    },
    {
      "cell_type": "code",
      "source": [
        "surveyAndperson = survey.merge(person,left_on = 'person', right_on = 'ident')\n",
        "surveyAndperson "
      ],
      "metadata": {
        "id": "hgGZnNJH1XXp"
      },
      "execution_count": null,
      "outputs": []
    },
    {
      "cell_type": "code",
      "source": [
        "print(person)\n",
        "print(survey)\n",
        "print(visited)\n"
      ],
      "metadata": {
        "id": "aDn7t95szWTt"
      },
      "execution_count": null,
      "outputs": []
    },
    {
      "cell_type": "code",
      "source": [
        "a = visited.merge(survey,left_on = 'ident', right_on = 'taken')\n",
        "a\n",
        "# 합치는건 여기까지 하고..."
      ],
      "metadata": {
        "id": "RLup692azY4i"
      },
      "execution_count": null,
      "outputs": []
    },
    {
      "cell_type": "code",
      "source": [
        "from numpy import NAN, nan, NaN\n",
        "import pandas as pd\n",
        "# from numpy NAN\n",
        "# from numpy nan\n",
        "# from numpy Nan\n",
        "\n",
        "# Missing Value 를 가져올때 nan을 사용함\n",
        "\n",
        "# 주의. nan은 비교 자체가 안됩니다.\n",
        "# \n",
        "\n",
        "# ex\n",
        "print(nan == nan) # nan은 비교하면 무조건 False 뜹니다\n",
        "print(nan==True)\n",
        "print(nan==False)\n",
        "a = [0,1,2,nan,4,nan]\n",
        "print(a, pd.isnull(a[3]))"
      ],
      "metadata": {
        "colab": {
          "base_uri": "https://localhost:8080/"
        },
        "id": "UYR4hyXB0Orq",
        "outputId": "d6d1ef4c-2b8e-4009-a2c5-8739a96dd7c2"
      },
      "execution_count": null,
      "outputs": [
        {
          "output_type": "stream",
          "name": "stdout",
          "text": [
            "False\n",
            "False\n",
            "False\n",
            "[0, 1, 2, nan, 4, nan] True\n"
          ]
        }
      ]
    },
    {
      "cell_type": "code",
      "source": [
        "import pandas as pd\n",
        "pd.isnull(nan) # 판다스 써야 함\n",
        "# 판다스 써서 포문 돌리란 이야기죠"
      ],
      "metadata": {
        "colab": {
          "base_uri": "https://localhost:8080/"
        },
        "id": "cI8a4NGs2o5p",
        "outputId": "40953b72-512e-4520-d60d-b9200acfb808"
      },
      "execution_count": null,
      "outputs": [
        {
          "output_type": "execute_result",
          "data": {
            "text/plain": [
              "True"
            ]
          },
          "metadata": {},
          "execution_count": 255
        }
      ]
    },
    {
      "cell_type": "code",
      "source": [
        "import pandas as pd\n",
        "ebola = pd.read_csv(\"country_timeseries.csv\")\n",
        "ebola"
      ],
      "metadata": {
        "id": "uOqxb_4T26v5"
      },
      "execution_count": null,
      "outputs": []
    },
    {
      "cell_type": "code",
      "source": [
        "import pandas as pd\n",
        "import numpy\n",
        "\n",
        "pd.isnull(numpy.nan) \n",
        "#결국 import pandas 후 isnull()로 판단하자!!!\n",
        "#nan == 으로 판단하지말고...(무조건 False뜨기 때문)"
      ],
      "metadata": {
        "colab": {
          "base_uri": "https://localhost:8080/"
        },
        "id": "hlMsmN6z3QBx",
        "outputId": "2b06268e-42d5-48bd-afc5-8b2aedbe7afa"
      },
      "execution_count": null,
      "outputs": [
        {
          "output_type": "execute_result",
          "data": {
            "text/plain": [
              "True"
            ]
          },
          "metadata": {},
          "execution_count": 3
        }
      ]
    },
    {
      "cell_type": "code",
      "source": [
        "print(ebola.count())"
      ],
      "metadata": {
        "id": "PAKAIzyk3r9w"
      },
      "execution_count": null,
      "outputs": []
    },
    {
      "cell_type": "code",
      "source": [
        "122 - ebola.count() # 이게 다 결측치"
      ],
      "metadata": {
        "id": "n2XBnc0j39MJ"
      },
      "execution_count": null,
      "outputs": []
    },
    {
      "cell_type": "code",
      "source": [
        "# sum(df['열']) \n",
        "# 결측치를 처리해줘야만 연산이 가능\n",
        "# 결측치 있으면 그걸 빼고 계산 안해주고 에러낸다."
      ],
      "metadata": {
        "id": "5otNxA0-4NtM"
      },
      "execution_count": null,
      "outputs": []
    },
    {
      "cell_type": "code",
      "source": [
        "# 시계열데이터는 전체 평균내면 안되고; 평균이 더 높이 뜸; (괜찮은 경우 빼고)\n",
        "\n",
        "# 바로 앞과 바로 뒤의 평균을 내서 연결해야..."
      ],
      "metadata": {
        "id": "2hXMFnEy4q_v"
      },
      "execution_count": null,
      "outputs": []
    },
    {
      "cell_type": "code",
      "source": [
        "ebola.fillna(0) #으로 채우기"
      ],
      "metadata": {
        "id": "S5ZqRtIK5AMQ"
      },
      "execution_count": null,
      "outputs": []
    },
    {
      "cell_type": "code",
      "source": [
        "ebola.fillna(ebola.mean()) #평균으로 채우기"
      ],
      "metadata": {
        "id": "-V0RbJFk5Dm3"
      },
      "execution_count": null,
      "outputs": []
    },
    {
      "cell_type": "code",
      "source": [
        "ebola.fillna(method = 'ffill') # front fill로 채우기"
      ],
      "metadata": {
        "id": "pQA7iODp5Sfo"
      },
      "execution_count": null,
      "outputs": []
    },
    {
      "cell_type": "code",
      "source": [
        "ebola.fillna(method = 'bfill') # back fill"
      ],
      "metadata": {
        "id": "P7Z7pgdB5ZYI"
      },
      "execution_count": null,
      "outputs": []
    },
    {
      "cell_type": "code",
      "source": [
        "ebola.interpolate() #보간하다, (값을) 채우다 ; 주로 시계열(time series) 데이터에 사용"
      ],
      "metadata": {
        "id": "8lTUr4UE5wjQ"
      },
      "execution_count": null,
      "outputs": []
    },
    {
      "cell_type": "code",
      "source": [
        "import pandas as pd\n",
        "ebola = pd.read_csv(\"country_timeseries.csv\")\n",
        "ebola"
      ],
      "metadata": {
        "id": "TVIkYMsM61qH"
      },
      "execution_count": null,
      "outputs": []
    },
    {
      "cell_type": "code",
      "source": [
        "import pandas as pd\n",
        "ebola = pd.read_csv(\"country_timeseries.csv\")\n",
        "\n",
        "ebola = ebola.interpolate() # 1개 기준 앞뒤 채워줌\n",
        "# 쌤은 주로 주식데이터...\n",
        "ebola = ebola.fillna(method = 'ffill')\n",
        "ebola = ebola.fillna(method = 'bfill')\n",
        "ebola"
      ],
      "metadata": {
        "id": "QyJvvJzx6QbW"
      },
      "execution_count": null,
      "outputs": []
    },
    {
      "cell_type": "code",
      "source": [
        "# 판다스 3대 함수 중 하나인 melt (매우 편리함)\n",
        "# 열을 행으로 내리는 함수.\n",
        "\n",
        "import pandas as pd\n",
        "\n",
        "pew = pd.read_csv(\"pew.csv\")\n",
        "pew"
      ],
      "metadata": {
        "id": "mU_YosyB6dT4"
      },
      "execution_count": null,
      "outputs": []
    },
    {
      "cell_type": "code",
      "source": [
        "pd.melt(pew, id_vars = 'religion', var_name='income',value_name='count')"
      ],
      "metadata": {
        "id": "Q5a_QLKV-df_"
      },
      "execution_count": null,
      "outputs": []
    },
    {
      "cell_type": "code",
      "source": [
        "pew2=pd.melt(pew, id_vars = 'religion', var_name='income',value_name='count')\n",
        "pew2\n",
        "\n",
        "# 필요한 열만 남겨서 좋은 model이 나오도록 하자."
      ],
      "metadata": {
        "id": "_5bN6iIH_FrW"
      },
      "execution_count": null,
      "outputs": []
    },
    {
      "cell_type": "code",
      "source": [
        "import pandas as pd\n",
        "\n",
        "billboard = pd.read_csv(\"billboard.csv\")\n",
        "billboard"
      ],
      "metadata": {
        "id": "TZ6RLRScBPUw"
      },
      "execution_count": null,
      "outputs": []
    },
    {
      "cell_type": "code",
      "source": [
        "# billboard\n",
        "import pandas as pd\n",
        "\n",
        "billboard = pd.read_csv(\"billboard.csv\")\n",
        "b2 = pd.melt(billboard, id_vars=['year','artist','track','time','date.entered'],\n",
        "             var_name='week',value_name='score')\n",
        "# id_vars 에 고정할 열들을 리스트로 넣었다.\n",
        "b2"
      ],
      "metadata": {
        "id": "v7xOhtjw_Zee"
      },
      "execution_count": null,
      "outputs": []
    },
    {
      "cell_type": "code",
      "source": [
        "import pandas as pd\n",
        "ebola_df = pd.read_csv(\"country_timeseries.csv\")\n",
        "ebola_df"
      ],
      "metadata": {
        "id": "Mqycg90DFdAo"
      },
      "execution_count": null,
      "outputs": []
    },
    {
      "cell_type": "code",
      "source": [
        "import pandas as pd\n",
        "ebola_df = pd.read_csv(\"country_timeseries.csv\")\n",
        "ebola_df\n",
        "ebola_df2 = pd.melt(ebola_df, id_vars=['Date','Day'])\n",
        "ebola_df2"
      ],
      "metadata": {
        "id": "92Ao8YWuAqel"
      },
      "execution_count": null,
      "outputs": []
    },
    {
      "cell_type": "code",
      "source": [
        "# 안의 내용물을 잘라보자\n",
        "Cases_Deaths_Country = ebola_df2['variable'].str.split('_')\n",
        "# 판다스 문법을 따르자\n",
        "Cases_Deaths_Country"
      ],
      "metadata": {
        "id": "dH_LZkCfDyZF"
      },
      "execution_count": null,
      "outputs": []
    },
    {
      "cell_type": "code",
      "source": [
        "Total = Cases_Deaths_Country.str.get(0) # 0번째 열\n",
        "Country = Cases_Deaths_Country.str.get(1) # 1번째 열\n",
        "ebola_df2['Total'] = Total\n",
        "ebola_df2['Country'] = Country\n",
        "ebola_df2"
      ],
      "metadata": {
        "id": "HG4vqLlLE6RF"
      },
      "execution_count": null,
      "outputs": []
    },
    {
      "cell_type": "code",
      "source": [
        "import pandas as pd\n",
        "weather = pd.read_csv(\"weather.csv\")\n",
        "weather"
      ],
      "metadata": {
        "id": "Q5gaPhZCILu8"
      },
      "execution_count": null,
      "outputs": []
    },
    {
      "cell_type": "code",
      "source": [
        "import pandas as pd\n",
        "weather = pd.read_csv(\"weather.csv\")\n",
        "weather2 = pd.melt(weather, id_vars=['id','year','month','element'])\n",
        "weather2\n",
        "# tmax, tmin을 올려보자"
      ],
      "metadata": {
        "id": "s_a9tniZGknz"
      },
      "execution_count": null,
      "outputs": []
    },
    {
      "cell_type": "code",
      "source": [
        "# 행 데이터 열로 올리기\n",
        "\n",
        "weather3 = weather2.pivot_table(index=['id','year','month','variable'],\n",
        "                                columns = 'element',\n",
        "                                values = 'value',\n",
        "                                dropna = False) # dropna = False ; 결측치도 포함하라는 뜻\n",
        "weather3.reset_index()"
      ],
      "metadata": {
        "id": "XAcXgXFJGv6E"
      },
      "execution_count": null,
      "outputs": []
    },
    {
      "cell_type": "code",
      "source": [
        "weather3"
      ],
      "metadata": {
        "id": "_afELHFhIVX7"
      },
      "execution_count": null,
      "outputs": []
    },
    {
      "cell_type": "code",
      "source": [
        ""
      ],
      "metadata": {
        "id": "5Ib5xUT2JFjT"
      },
      "execution_count": null,
      "outputs": []
    }
  ]
}