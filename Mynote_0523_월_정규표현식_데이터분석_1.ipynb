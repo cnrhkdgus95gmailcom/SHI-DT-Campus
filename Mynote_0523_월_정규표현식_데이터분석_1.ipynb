{
  "nbformat": 4,
  "nbformat_minor": 0,
  "metadata": {
    "colab": {
      "name": "Mynote_0523_월_정규표현식_데이터분석_1.ipynb",
      "provenance": [],
      "collapsed_sections": [
        "ut_uqJvyEQTl",
        "cIg4EHKMEUNR"
      ],
      "toc_visible": true,
      "authorship_tag": "ABX9TyMPmIELsXyJ7pUXXCkIejMn",
      "include_colab_link": true
    },
    "kernelspec": {
      "name": "python3",
      "display_name": "Python 3"
    },
    "language_info": {
      "name": "python"
    }
  },
  "cells": [
    {
      "cell_type": "markdown",
      "metadata": {
        "id": "view-in-github",
        "colab_type": "text"
      },
      "source": [
        "<a href=\"https://colab.research.google.com/github/cnrhkdgus95gmailcom/SHI-DT-Campus/blob/main/Mynote_0523_%EC%9B%94_%EC%A0%95%EA%B7%9C%ED%91%9C%ED%98%84%EC%8B%9D_%EB%8D%B0%EC%9D%B4%ED%84%B0%EB%B6%84%EC%84%9D_1.ipynb\" target=\"_parent\"><img src=\"https://colab.research.google.com/assets/colab-badge.svg\" alt=\"Open In Colab\"/></a>"
      ]
    },
    {
      "cell_type": "markdown",
      "source": [
        "# 정규표현식"
      ],
      "metadata": {
        "id": "ut_uqJvyEQTl"
      }
    },
    {
      "cell_type": "code",
      "execution_count": null,
      "metadata": {
        "id": "0CvjW1V8LVuV"
      },
      "outputs": [],
      "source": [
        "#정규표현식(모든 프로그래밍 언어에 있는 기능.)\n",
        "#'Regular Expressions'\n",
        "#내가 원하는 패턴의 문자열을 찾는다.\n",
        "\n",
        "\n",
        "[abc]# abc중에 원하는 문자가 하나라도 있는지 찾는다\n",
        "\n",
        "[a-z]#a to z\n",
        "[a-zA-Z]\n",
        "[0-9]\n",
        "[가-힣]\n",
        "\n",
        "\\d : 숫자\n",
        "\\D : 숫자가 아닌것\n",
        "\n",
        "\\s : 공백\n",
        "WS : 공백이 아닌것\n",
        "\n",
        "\\w : 문자 또는 숫자(alphanumeric)\n",
        "\\W : 문자 또는 숫자가 아닌것\n",
        "\n",
        ". : 모든 문자(엔터 제외)\n",
        "a.b # acccccb, arrrrrb\n",
        "a[.]b # \"a.b\"\n",
        "\n",
        "a.b # aab, a0b, (abc는 안되고)\n",
        "\n",
        "* : 0개 이상\n",
        "ca*t #ct, cat, caat\n",
        "\n",
        "+ : 1개 이상\n",
        "ca+t #ct는 안됨. cat, caat\n",
        "\n",
        "{}\n",
        "ca{2}t # caat\n",
        "ca{2,3}t # caat or caaat\n",
        "ca{2,}t # a가 2개 이상\n",
        "ca{,3}t # a가 3개 이하\n",
        "\n",
        "? : 있어도 되고 없어도 된다\n",
        "ab?c # abc, ac\n"
      ]
    },
    {
      "cell_type": "code",
      "source": [
        "import re #regular expression\n",
        "#pattern\n",
        "p = re.compile('[a-z]+') #영어 소문자로 이루어진 문자가 1개 이상 있다\n",
        "\n",
        "#match : 문자열의 처음부터 패턴과 매칭\n",
        "#search : 문자열 전체로부터 패턴과 매칭이 되는지\n",
        "#findall : 문자열 전체로부터 매칭되는 모든 것\n",
        "\n",
        "p.match('python')"
      ],
      "metadata": {
        "colab": {
          "base_uri": "https://localhost:8080/"
        },
        "id": "xtEwbTIyOkWI",
        "outputId": "11b767ef-6323-49b3-ff71-6efb2c18162e",
        "collapsed": true
      },
      "execution_count": null,
      "outputs": [
        {
          "output_type": "execute_result",
          "data": {
            "text/plain": [
              "<re.Match object; span=(0, 6), match='python'>"
            ]
          },
          "metadata": {},
          "execution_count": 1
        }
      ]
    },
    {
      "cell_type": "code",
      "source": [
        "p.match('3 python') #p = re.compile('[a-z]+') 이거랑은 안 맞고"
      ],
      "metadata": {
        "id": "OurhNTJuPRt7"
      },
      "execution_count": null,
      "outputs": []
    },
    {
      "cell_type": "code",
      "source": [
        "p.search('3 python')"
      ],
      "metadata": {
        "colab": {
          "base_uri": "https://localhost:8080/"
        },
        "id": "xP9G1UKMPeM2",
        "outputId": "c119d4e2-e33b-4688-ca9c-7e9810e0c1c6",
        "collapsed": true
      },
      "execution_count": null,
      "outputs": [
        {
          "output_type": "execute_result",
          "data": {
            "text/plain": [
              "<re.Match object; span=(2, 8), match='python'>"
            ]
          },
          "metadata": {},
          "execution_count": 3
        }
      ]
    },
    {
      "cell_type": "code",
      "source": [
        "p.findall('python is so fun') #크롤링 할때 이런게 편하죠"
      ],
      "metadata": {
        "colab": {
          "base_uri": "https://localhost:8080/"
        },
        "id": "dknNTBSgPnm_",
        "outputId": "f557c64e-9012-4fc2-afa7-01135a18aa92",
        "collapsed": true
      },
      "execution_count": null,
      "outputs": [
        {
          "output_type": "execute_result",
          "data": {
            "text/plain": [
              "['python', 'is', 'so', 'fun']"
            ]
          },
          "metadata": {},
          "execution_count": 4
        }
      ]
    },
    {
      "cell_type": "code",
      "source": [
        "p = re.compile('a.b') #엔터키를 제외한 모든 문자가 가운데 있다\n",
        "p.match('a\\nb') #만약 엔터도 잡고싶다?"
      ],
      "metadata": {
        "id": "9L1BZuUZP1_b"
      },
      "execution_count": null,
      "outputs": []
    },
    {
      "cell_type": "code",
      "source": [
        "p = re.compile('a.b'.re.DOTALL)  # 엔터도 잡는다"
      ],
      "metadata": {
        "id": "zA8Pk4T6RAIx"
      },
      "execution_count": null,
      "outputs": []
    },
    {
      "cell_type": "code",
      "source": [
        "#python one, python two, python three\n",
        "import re\n",
        "\n",
        "data = \"\"\"python one\n",
        "life is too short\n",
        "python two\n",
        "you need python\n",
        "python three\"\"\"\n",
        "\n",
        "p = re.compile('python \\w+')\n",
        "p.findall(data)"
      ],
      "metadata": {
        "colab": {
          "base_uri": "https://localhost:8080/"
        },
        "id": "PmR--b81RQvJ",
        "outputId": "406bbb03-624e-41b1-fb38-0d1345e522ed",
        "collapsed": true
      },
      "execution_count": null,
      "outputs": [
        {
          "output_type": "execute_result",
          "data": {
            "text/plain": [
              "['python one', 'python two', 'python three']"
            ]
          },
          "metadata": {},
          "execution_count": 16
        }
      ]
    },
    {
      "cell_type": "code",
      "source": [
        "data = \"\"\"\"\\section\"\"\"\n",
        "#p = re.compile('\\section') #공백ection\n",
        "p = re.compile('\\\\\\section')\n",
        "print(p.findall(data))"
      ],
      "metadata": {
        "colab": {
          "base_uri": "https://localhost:8080/"
        },
        "id": "qyMdHn-TSaAL",
        "outputId": "9c923df9-5463-4806-b470-ee6a0d27aa7e",
        "collapsed": true
      },
      "execution_count": null,
      "outputs": [
        {
          "output_type": "stream",
          "name": "stdout",
          "text": [
            "['\\\\section']\n"
          ]
        }
      ]
    },
    {
      "cell_type": "code",
      "source": [
        "p = re.compile('Crow|Servo')\n",
        "p.search(\"CrowHello\")"
      ],
      "metadata": {
        "colab": {
          "base_uri": "https://localhost:8080/"
        },
        "id": "nt-yFqZ_Txc6",
        "outputId": "c449985c-f582-4c6c-d3e8-9e57b934c9f6",
        "collapsed": true
      },
      "execution_count": null,
      "outputs": [
        {
          "output_type": "execute_result",
          "data": {
            "text/plain": [
              "<re.Match object; span=(0, 4), match='Crow'>"
            ]
          },
          "metadata": {},
          "execution_count": 21
        }
      ]
    },
    {
      "cell_type": "code",
      "source": [
        "#  ^ : 맨 처음과 일치하는지\n",
        "\n",
        "re.search(\"Life\", \"The Life is too short\") # 왼 패턴 오른 텍스트"
      ],
      "metadata": {
        "colab": {
          "base_uri": "https://localhost:8080/"
        },
        "id": "B0Ga2VZ9UQFn",
        "outputId": "535b9c89-ac3e-44cc-aae7-b2d9e7dd013d",
        "collapsed": true
      },
      "execution_count": null,
      "outputs": [
        {
          "output_type": "execute_result",
          "data": {
            "text/plain": [
              "<re.Match object; span=(4, 8), match='Life'>"
            ]
          },
          "metadata": {},
          "execution_count": 23
        }
      ]
    },
    {
      "cell_type": "code",
      "source": [
        "re.search(\"^Life\", \"The Life is too short\") # 못찾음"
      ],
      "metadata": {
        "id": "dCFLYYGUUk82"
      },
      "execution_count": null,
      "outputs": []
    },
    {
      "cell_type": "code",
      "source": [
        "re.search(\"short\", \"The Life is too short, you need python\")"
      ],
      "metadata": {
        "colab": {
          "base_uri": "https://localhost:8080/"
        },
        "id": "1-w6g0jJUzdK",
        "outputId": "ad048a83-1bfe-4350-c6be-063138067c77",
        "collapsed": true
      },
      "execution_count": null,
      "outputs": [
        {
          "output_type": "execute_result",
          "data": {
            "text/plain": [
              "<re.Match object; span=(16, 21), match='short'>"
            ]
          },
          "metadata": {},
          "execution_count": 25
        }
      ]
    },
    {
      "cell_type": "code",
      "source": [
        "# $ : 무조건 이거로 끝나야함\n",
        "\n",
        "re.search(\"short$\", \"The Life is too short, you need python\") #못찾음"
      ],
      "metadata": {
        "id": "m_qUIBvhU9SJ"
      },
      "execution_count": null,
      "outputs": []
    },
    {
      "cell_type": "code",
      "source": [
        "#전화번호만\n",
        "import re\n",
        "data = \"\"\"홍길동 010-1234-5678\n",
        "장원영 010-2345-4567\n",
        "김아무개 010-1212-3434\"\"\"\n",
        "\n",
        "p = re.compile('\\d*-\\d*-\\d*')\n",
        "p.findall(data)"
      ],
      "metadata": {
        "colab": {
          "base_uri": "https://localhost:8080/"
        },
        "id": "RyynUgFZVIEt",
        "outputId": "da4226b8-674c-401c-9fac-15e4e31652b8",
        "collapsed": true
      },
      "execution_count": null,
      "outputs": [
        {
          "output_type": "execute_result",
          "data": {
            "text/plain": [
              "['010-1234-5678', '010-2345-4567', '010-1212-3434']"
            ]
          },
          "metadata": {},
          "execution_count": 38
        }
      ]
    },
    {
      "cell_type": "code",
      "source": [
        "data = \"\"\"ab123\n",
        "cnrhkdgus95@naver.com\n",
        "abd123\"\"\"\n",
        "p = re.compile('\\w*@.*')\n",
        "p = re.compile('c')\n",
        "p.findall(data)"
      ],
      "metadata": {
        "colab": {
          "base_uri": "https://localhost:8080/"
        },
        "id": "wv1fsyK1V3Q4",
        "outputId": "4262945d-30e5-4a4a-ef9c-0bab641b846f",
        "collapsed": true
      },
      "execution_count": null,
      "outputs": [
        {
          "output_type": "execute_result",
          "data": {
            "text/plain": [
              "['c', 'c']"
            ]
          },
          "metadata": {},
          "execution_count": 52
        }
      ]
    },
    {
      "cell_type": "code",
      "source": [
        ""
      ],
      "metadata": {
        "id": "GF4-Lb2pET8n"
      },
      "execution_count": null,
      "outputs": []
    },
    {
      "cell_type": "markdown",
      "source": [
        "# 코테 연습"
      ],
      "metadata": {
        "id": "cIg4EHKMEUNR"
      }
    },
    {
      "cell_type": "code",
      "source": [
        "#코테연습\n",
        "#평균구하기\n",
        "# 2.\t서울에서 김서방 찾기\n",
        "# 3.\t짝수와 홀수\n",
        "# 4.\t핸드폰 번호 가리기\n",
        "# 5.\t수박수박수박수박수\n",
        "# 6.\t문자열을 정수로 바꾸기\n",
        "# 7.\t내적\n",
        "# 8.\tx만큼 간격이 있는 n개의 숫자\n",
        "# 9.\t음양 더하기\n",
        "# 10.\t완주하지 못한 선수\n",
        "# 11.\t없는 숫자 더하기\n",
        "# 12.\tK번째수\n",
        "# 13.\t두개 뽑아서 더하기\n",
        "# 14.\t문자열 내 p와 y의 개수\n",
        "# 15.\t자릿수 더하기\n",
        "# 16.\t제일 작은 수 제거하기\n",
        "# 17.\t체육복\n",
        "# 18.\t같은 숫자는 싫어\n",
        "# 19.\t두 정수 사이의 합\n",
        "# 20.\t자연수 뒤집어 배열로 만들기\n",
        "# 21.\t소수 찾기\n",
        "# 22.\t하샤드 수\n",
        "# 23.\t2016년\n",
        "# 24.\t이상한 문자 만들기\n",
        "# 25.\t크레인 인형뽑기 게임\n",
        "\n",
        "#혼자 푸는게 제일 좋습니다...!\n",
        "#왜틀렸는지 확인하고, 지우고 쓰고 하십쇼\n",
        "#쌤은 17 체육복 일주일걸림 ㄷㄷ;"
      ],
      "metadata": {
        "id": "ekeGO8OVY36X"
      },
      "execution_count": null,
      "outputs": []
    },
    {
      "cell_type": "code",
      "source": [
        "# 4.\t핸드폰 번호 가리기\n",
        "def solution(phone_number):\n",
        "    a = len(phone_number[:-4])*'*'\n",
        "    b = phone_number[-4:]\n",
        "    return a+b"
      ],
      "metadata": {
        "id": "uoLwlS34iwzz"
      },
      "execution_count": null,
      "outputs": []
    },
    {
      "cell_type": "code",
      "source": [
        "#5. 수박 T's solution\n",
        "\n",
        "def solution(n):\n",
        "    t = '수박'*n\n",
        "    return t[:n]"
      ],
      "metadata": {
        "id": "Gcg8YbmgoYtY"
      },
      "execution_count": null,
      "outputs": []
    },
    {
      "cell_type": "code",
      "source": [
        "# 5.\t수박수박수박수박수\n",
        "n = 5\n",
        "\n",
        "def solution(n):\n",
        "    num = n/2\n",
        "    num2 = int(num)\n",
        "    if n%2==0: #짝수\n",
        "        print(\"수박\"*num2)\n",
        "    else:#홀수\n",
        "        print(\"수박\"*num2 + \"수\")\n",
        "\n"
      ],
      "metadata": {
        "id": "zw_SHHrYiaNn"
      },
      "execution_count": null,
      "outputs": []
    },
    {
      "cell_type": "code",
      "source": [
        "# 6.\t문자열을 정수로 바꾸기\n",
        "\n",
        "def solution(s):\n",
        "    \n",
        "    num = int(s)\n",
        "    print(num)\n",
        "    # answer = \n",
        "    # return answer\n",
        "\n",
        "s = \"-1234\"\n",
        "solution(s)"
      ],
      "metadata": {
        "colab": {
          "base_uri": "https://localhost:8080/"
        },
        "id": "ZfhEL0lwj1qA",
        "outputId": "a3fbd25e-5f07-4f92-918d-6e4acd3b2acd",
        "collapsed": true
      },
      "execution_count": null,
      "outputs": [
        {
          "output_type": "stream",
          "name": "stdout",
          "text": [
            "-1234\n"
          ]
        }
      ]
    },
    {
      "cell_type": "code",
      "source": [
        "#7 T'soultion\n",
        "\n",
        "def solution(a,b):\n",
        "\n",
        "    box = []\n",
        "    for i in range(len(a)):\n",
        "        box.append(a[i]*b[i])\n",
        "    return sum(box)\n",
        "        "
      ],
      "metadata": {
        "id": "xbOYiHWWv1BN"
      },
      "execution_count": null,
      "outputs": []
    },
    {
      "cell_type": "code",
      "source": [
        "#7\n",
        "def solution(a, b):\n",
        "    \n",
        "    len_a_and_b = len(a)\n",
        "    box = []\n",
        "    for i in range(len_a_and_b):\n",
        "        box.append(a[i]*b[i])\n",
        "    answer = sum(box)\n",
        "\n",
        "    return answer\n",
        "\n",
        "a=[1,2,3,4]\n",
        "b=[-3,-1,0,2]\n",
        "print(solution(a,b))"
      ],
      "metadata": {
        "colab": {
          "base_uri": "https://localhost:8080/"
        },
        "id": "zFCQ8CVxlGx0",
        "outputId": "fbb0a956-3419-42cd-eac9-66061a3f9693",
        "collapsed": true
      },
      "execution_count": null,
      "outputs": [
        {
          "output_type": "stream",
          "name": "stdout",
          "text": [
            "3\n"
          ]
        }
      ]
    },
    {
      "cell_type": "code",
      "source": [
        "#8\n",
        "\n",
        "def solution(x, n):\n",
        "    listLen = int(n)\n",
        "    listStart = int(x)\n",
        "    box = []\n",
        "    for i in range(listLen):\n",
        "        box.append(listStart+listStart*i)\n",
        "    return box\n",
        "\n",
        "\n",
        "x = 2\n",
        "n = 5\n",
        "solution(x,n)\n"
      ],
      "metadata": {
        "colab": {
          "base_uri": "https://localhost:8080/"
        },
        "id": "pM025ah6nBiR",
        "outputId": "4c9ef856-9083-489c-9138-059e332d68d9",
        "collapsed": true
      },
      "execution_count": null,
      "outputs": [
        {
          "output_type": "execute_result",
          "data": {
            "text/plain": [
              "[2, 4, 6, 8, 10]"
            ]
          },
          "metadata": {},
          "execution_count": 62
        }
      ]
    },
    {
      "cell_type": "code",
      "source": [
        "#9. T's sol\n",
        "#T 는 걍 아예 빈 리스트 하나 만들어놓고 시작한다 \n",
        "box = []\n",
        "def solution(absolutes, signs):\n",
        "    for i in range(len(signs)):\n",
        "        if signs[i] == False:\n",
        "            box.append(absolutes[i]*-1)\n",
        "        else:\n",
        "            box.append(absolutes[i])\n",
        "\n",
        "        return sum(box)"
      ],
      "metadata": {
        "id": "cQDw_XPgyMbK"
      },
      "execution_count": null,
      "outputs": []
    },
    {
      "cell_type": "code",
      "source": [
        "#9.\t음양 더하기\n",
        "\n",
        "def solution(absolutes, signs):\n",
        "    \n",
        "    abs = absolutes\n",
        "    lenOflist = len(abs)\n",
        "    sign = signs\n",
        "\n",
        "    box = []\n",
        "\n",
        "    for i in range (lenOflist):\n",
        "        if sign[i] == True:\n",
        "            box.append(abs[i])\n",
        "        else:\n",
        "            box.append(-abs[i])\n",
        "    \n",
        "    ans = sum(box)\n",
        "    return ans\n",
        "\n",
        "\n",
        "absolutes = [4,7,12]\n",
        "signs = [True,False,True]\n",
        "solution(absolutes,signs)"
      ],
      "metadata": {
        "colab": {
          "base_uri": "https://localhost:8080/"
        },
        "id": "TKwLffJroJsD",
        "outputId": "65805cef-54e0-44b0-8b18-0ad5269121bc",
        "collapsed": true
      },
      "execution_count": null,
      "outputs": [
        {
          "output_type": "execute_result",
          "data": {
            "text/plain": [
              "9"
            ]
          },
          "metadata": {},
          "execution_count": 65
        }
      ]
    },
    {
      "cell_type": "code",
      "source": [
        "#10.완주하지 못한 선수\n",
        "\n",
        "def returnOfone(participant, completion):\n",
        "    \n",
        "    boxOfone = []\n",
        "    lenOfpar = len(participant)\n",
        "    lenOfcom = len(completion)\n",
        "\n",
        "    for i in range(lenOfpar):      \n",
        "        if participant[i] not in completion:\n",
        "            return participant[i]\n",
        "    for i in range(lenOfcom):\n",
        "        participant.count(completion[i]) != completion.count(completion[i]):\n",
        "            return(participant[i])\n",
        "    \n",
        "     \n",
        "\n",
        "\n",
        "\n",
        "participant = [\"mislav\", \"mislav\", \"mislav\", \"mislav\"]\n",
        "completion = [\"mislav\", \"mislav\", \"mislav\"]\n",
        "returnOfone(participant, completion) #mislav"
      ],
      "metadata": {
        "id": "cp-KFOh8oNNr"
      },
      "execution_count": null,
      "outputs": []
    },
    {
      "cell_type": "code",
      "source": [
        "#sol 10) 정렬을 써야함\n",
        "\n",
        "participant.sort()\n",
        "completion.sort()\n",
        "\n",
        "for i in range(len(completion)):\n",
        "    if participant[i] != completion[i]:\n",
        "        return participant[i]\n",
        "return participant[-1]\n"
      ],
      "metadata": {
        "id": "YQqurhlv5S1X"
      },
      "execution_count": null,
      "outputs": []
    },
    {
      "cell_type": "code",
      "source": [
        "def solution(numbers):\n",
        "    box = []\n",
        "    A = [0,1,2,3,4,5,6,7,8,9]\n",
        "    B = set(A)\n",
        "    C = set(numbers)\n",
        "    D = B-C\n",
        "    return sum(D)\n",
        "\n",
        "numbers = [1,2,3,4,6,7,8,0]\n",
        "solution(numbers)"
      ],
      "metadata": {
        "colab": {
          "base_uri": "https://localhost:8080/"
        },
        "id": "64t_3QwU6MVf",
        "outputId": "6a004886-4199-420c-eed7-c83335e54376",
        "collapsed": true
      },
      "execution_count": null,
      "outputs": [
        {
          "output_type": "execute_result",
          "data": {
            "text/plain": [
              "14"
            ]
          },
          "metadata": {},
          "execution_count": 78
        }
      ]
    },
    {
      "cell_type": "code",
      "source": [
        "box = []\n",
        "A = [0,1,2,3,4,5,6,7,8,9]\n",
        "B = set(A)\n",
        "print(B)"
      ],
      "metadata": {
        "colab": {
          "base_uri": "https://localhost:8080/"
        },
        "id": "5vOSgeaN6ytG",
        "outputId": "e79e15dd-d5a6-47d5-9383-39f2fc6c7cbf",
        "collapsed": true
      },
      "execution_count": null,
      "outputs": [
        {
          "output_type": "stream",
          "name": "stdout",
          "text": [
            "{0, 1, 2, 3, 4, 5, 6, 7, 8, 9}\n"
          ]
        }
      ]
    },
    {
      "cell_type": "code",
      "source": [
        "# 12. K번째수\n",
        "\n",
        "# array의 i번째 숫자부터 j번째 숫자까지 자르고 정렬했을 때, \n",
        "# k번째에 있는 수를 구하려 합니다.\n",
        "\n",
        "# 예를 들어 array가 [1, 5, 2, 6, 3, 7, 4], i = 2, j = 5, k = 3이라면\n",
        "\n",
        "# array의 2번째부터 5번째까지 자르면 [5, 2, 6, 3]입니다.\n",
        "# 1에서 나온 배열을 정렬하면 [2, 3, 5, 6]입니다.\n",
        "# 2에서 나온 배열의 3번째 숫자는 5입니다.\n",
        "\n",
        "array = [1,5,2,6,3,7,4]\n",
        "commands = [[2, 5, 3], [4, 4, 1], [1, 7, 3]]\n",
        "\n",
        "def solution(array, commands):\n",
        "    box = []"
      ],
      "metadata": {
        "id": "dl7VOpGu7dxh"
      },
      "execution_count": null,
      "outputs": []
    },
    {
      "cell_type": "code",
      "source": [
        "#15. 자릿수 더하기(sol)\n",
        "\n",
        "def solution(n):\n",
        "    \n",
        "    n = str(n)\n",
        "    n = list(n)\n",
        "    \n",
        "    return sum(map(int,n))\n",
        "\n",
        "solution(123)\n",
        "\n"
      ],
      "metadata": {
        "colab": {
          "base_uri": "https://localhost:8080/"
        },
        "id": "ON5z-OsPKYhN",
        "outputId": "78aa7945-26db-4a79-cc66-a5f17f2f0667",
        "collapsed": true
      },
      "execution_count": null,
      "outputs": [
        {
          "output_type": "execute_result",
          "data": {
            "text/plain": [
              "6"
            ]
          },
          "metadata": {},
          "execution_count": 18
        }
      ]
    },
    {
      "cell_type": "code",
      "source": [
        "#탐욕법...ex)큰 돈부터 거슬러주는...\n",
        "#현재 선택 중에서 가장 최선 선택\n",
        "#미래는 신경x...\n",
        "#앞번호의 학생이나 바로 뒷번호의 학생에게만 체육복을 빌려줄 수 있습니다. \n",
        "#최대한 많은 학생이 체육수업을 들어야 합니다.\n",
        "\n",
        "def solution(n,lost,reserve):\n",
        "\n",
        "    box = []\n",
        "    for i in range(0,n):\n",
        "        box.append(i)\n",
        "    total = box\n",
        "    \n",
        "    numOfreserve = len(reserve)\n",
        "    numOflost = len(lost)\n",
        "\n",
        "    if i in reserve:\n",
        "        if i-1 in lost:\n",
        "            lost.remove(i-1)\n",
        "        elif i+1 in lost:\n",
        "            lost.remove(i+1)\n",
        "    \n",
        "\n",
        "\n",
        "n = 5\n",
        "lost = [1,2,4]\n",
        "reserve = [1,3,5]\n",
        "solution(n,lost,reserve)"
      ],
      "metadata": {
        "colab": {
          "base_uri": "https://localhost:8080/"
        },
        "id": "NWvOiDeTLpKi",
        "outputId": "862e0e84-95b7-48a9-962c-bab9c0c08bbc",
        "collapsed": true
      },
      "execution_count": null,
      "outputs": [
        {
          "output_type": "stream",
          "name": "stdout",
          "text": [
            "3\n"
          ]
        }
      ]
    },
    {
      "cell_type": "code",
      "source": [
        "#17.sol)\n",
        "\n",
        "def solution(n,lost,reserve):\n",
        "\n",
        "    #함정\n",
        "    a = set(lost) & set(reserve)\n",
        "    lost = list(set(lost) - a )\n",
        "    reserve = list(set(reserve) - a )\n",
        "    #못 빌려주는 애들 뺌\n",
        "\n",
        "    lost.sort()\n",
        "    reserve.sort()\n",
        "\n",
        "    for i in reserve: #탐욕법\n",
        "        if i-1 in lost:\n",
        "            lost.remove(i-1)\n",
        "        elif i+1 in lost:\n",
        "            lost.remove(i+1)\n",
        "\n",
        "    return n-len(lost)\n",
        "    "
      ],
      "metadata": {
        "id": "giZQT2KHUQL_"
      },
      "execution_count": null,
      "outputs": []
    },
    {
      "cell_type": "code",
      "source": [
        "#구명보트\n",
        "\n",
        "def solution(people, limit):\n",
        "\n",
        "    count = 0\n",
        "    people.sort()\n",
        "    people_samelimit = []\n",
        "    people_underlimit = []\n",
        "\n",
        "    for i in people:\n",
        "        if i == limit:\n",
        "            people_samelimit.append(i)\n",
        "        else:\n",
        "            people_underlimit.append(i)\n",
        "    \n",
        "    count += len(people_samelimit)\n",
        "\n",
        "    if sum(people_underlimit)<limit:\n",
        "        count+=1\n",
        "    \n",
        "    for i in people_underlimit\n",
        "            \n",
        "            \n",
        "            \n",
        "\n",
        "\n",
        "people = [70,50,80,50]\n",
        "limit = 100\n",
        "solution(people,limit)"
      ],
      "metadata": {
        "colab": {
          "base_uri": "https://localhost:8080/"
        },
        "id": "b0Uf-zrPXo6o",
        "outputId": "ba81a315-9904-49d0-bf7a-203eea254c3b",
        "collapsed": true
      },
      "execution_count": null,
      "outputs": [
        {
          "output_type": "stream",
          "name": "stdout",
          "text": [
            "[] [50, 50, 70, 80]\n"
          ]
        }
      ]
    },
    {
      "cell_type": "code",
      "source": [
        "#sol. 구명보트\n",
        "#Greedy Algorithm\n",
        "\n",
        "def solution(people, limit):\n",
        "\n",
        "    people.sort()\n",
        "\n",
        "    start = 0 # 번호 지정\n",
        "    end = len(people)-1 # 예 [0,1,2,3] 이라면 end = 3\n",
        "\n",
        "    while start <= end:\n",
        "        if people[start] + people[end] <= limit:\n",
        "            start += 1\n",
        "            end -= 1\n",
        "        else:\n",
        "            end -= 1 \n",
        "        count += 1\n",
        "\n",
        "    return count"
      ],
      "metadata": {
        "id": "CNKxU9e7dI5r"
      },
      "execution_count": null,
      "outputs": []
    },
    {
      "cell_type": "markdown",
      "source": [
        "데이터분석"
      ],
      "metadata": {
        "id": "C6b8aaQrRO3-"
      }
    },
    {
      "cell_type": "markdown",
      "source": [
        "# 데이터분석 - 1"
      ],
      "metadata": {
        "id": "Yb-9rq42DrWi"
      }
    },
    {
      "cell_type": "code",
      "source": [
        "#1. pandas : 데이터분석(무료)\n",
        "#2. numpy : 수치계산\n",
        "#3. tensorflow : 구글에서 만든 인공지능 도구\n",
        "\n",
        "import pandas as pd\n",
        "\n",
        "df = pd.read_csv('gapminder.tsv', sep = '\\t')\n",
        "df\n",
        "#csv는 데이터가 콤마로 나뉘어져있고, tsv는 tab으로 나뉘어져 있다."
      ],
      "metadata": {
        "id": "6p3k84_DfI0o",
        "collapsed": true
      },
      "execution_count": null,
      "outputs": []
    },
    {
      "cell_type": "code",
      "source": [
        "df['country']#대괄호 적고 열 이름에 접근\n",
        "#표는 데이터프레임, 열은 시리즈"
      ],
      "metadata": {
        "id": "LGPWm10Dfz8z",
        "collapsed": true
      },
      "execution_count": null,
      "outputs": []
    },
    {
      "cell_type": "code",
      "source": [
        "df[['country','year']] #접근할 때는 하나의 리스트로 묶으세요"
      ],
      "metadata": {
        "id": "ms4pri68gp6o",
        "collapsed": true
      },
      "execution_count": null,
      "outputs": []
    },
    {
      "cell_type": "code",
      "source": [
        "df.loc[0]# 행 접근\n",
        "#0이라고 적힌 행에 접근 ; 행 이름으로 접근하는 방법임.\n",
        "# df.loc[-1] 이라면 뒤에 것이 아니고! -1 이라 적힌걸 찾는거..."
      ],
      "metadata": {
        "colab": {
          "base_uri": "https://localhost:8080/"
        },
        "id": "eCHurZNwg2b0",
        "outputId": "4bf294ca-8ee1-4c33-ff83-45f5fffba8e3",
        "collapsed": true
      },
      "execution_count": null,
      "outputs": [
        {
          "output_type": "execute_result",
          "data": {
            "text/plain": [
              "country      Afghanistan\n",
              "continent           Asia\n",
              "year                1952\n",
              "lifeExp           28.801\n",
              "pop              8425333\n",
              "gdpPercap     779.445314\n",
              "Name: 0, dtype: object"
            ]
          },
          "metadata": {},
          "execution_count": 28
        }
      ]
    },
    {
      "cell_type": "code",
      "source": [
        "df.iloc[0] #0번째 행에 접근 ; 순서로 접근하는 방법임.\n",
        "# 행번호가 애매할때 순서로 접근해볼수 있겠네..\n",
        "# i stands for integer\n",
        "# l stands for label"
      ],
      "metadata": {
        "colab": {
          "base_uri": "https://localhost:8080/"
        },
        "id": "j5ngt_wThDgC",
        "outputId": "a0b021f3-a3ac-4186-cda1-6baa6a1da70d",
        "collapsed": true
      },
      "execution_count": null,
      "outputs": [
        {
          "output_type": "execute_result",
          "data": {
            "text/plain": [
              "country      Afghanistan\n",
              "continent           Asia\n",
              "year                1952\n",
              "lifeExp           28.801\n",
              "pop              8425333\n",
              "gdpPercap     779.445314\n",
              "Name: 0, dtype: object"
            ]
          },
          "metadata": {},
          "execution_count": 29
        }
      ]
    },
    {
      "cell_type": "code",
      "source": [
        "df.loc[[0,10,100,1000],['country','year']] # 행 과 열\n",
        "df.loc[:,['country','year']] # 콜론 : 쓰면 모든 행 접근 가능."
      ],
      "metadata": {
        "colab": {
          "base_uri": "https://localhost:8080/",
          "height": 424
        },
        "id": "n5Ys7gkuhU7i",
        "outputId": "6205925f-b355-42eb-be0f-ea1ef466188a",
        "collapsed": true
      },
      "execution_count": null,
      "outputs": [
        {
          "output_type": "execute_result",
          "data": {
            "text/plain": [
              "          country  year\n",
              "0     Afghanistan  1952\n",
              "1     Afghanistan  1957\n",
              "2     Afghanistan  1962\n",
              "3     Afghanistan  1967\n",
              "4     Afghanistan  1972\n",
              "...           ...   ...\n",
              "1699     Zimbabwe  1987\n",
              "1700     Zimbabwe  1992\n",
              "1701     Zimbabwe  1997\n",
              "1702     Zimbabwe  2002\n",
              "1703     Zimbabwe  2007\n",
              "\n",
              "[1704 rows x 2 columns]"
            ],
            "text/html": [
              "\n",
              "  <div id=\"df-5794a7a8-8c16-48ec-98d6-77e5acf64240\">\n",
              "    <div class=\"colab-df-container\">\n",
              "      <div>\n",
              "<style scoped>\n",
              "    .dataframe tbody tr th:only-of-type {\n",
              "        vertical-align: middle;\n",
              "    }\n",
              "\n",
              "    .dataframe tbody tr th {\n",
              "        vertical-align: top;\n",
              "    }\n",
              "\n",
              "    .dataframe thead th {\n",
              "        text-align: right;\n",
              "    }\n",
              "</style>\n",
              "<table border=\"1\" class=\"dataframe\">\n",
              "  <thead>\n",
              "    <tr style=\"text-align: right;\">\n",
              "      <th></th>\n",
              "      <th>country</th>\n",
              "      <th>year</th>\n",
              "    </tr>\n",
              "  </thead>\n",
              "  <tbody>\n",
              "    <tr>\n",
              "      <th>0</th>\n",
              "      <td>Afghanistan</td>\n",
              "      <td>1952</td>\n",
              "    </tr>\n",
              "    <tr>\n",
              "      <th>1</th>\n",
              "      <td>Afghanistan</td>\n",
              "      <td>1957</td>\n",
              "    </tr>\n",
              "    <tr>\n",
              "      <th>2</th>\n",
              "      <td>Afghanistan</td>\n",
              "      <td>1962</td>\n",
              "    </tr>\n",
              "    <tr>\n",
              "      <th>3</th>\n",
              "      <td>Afghanistan</td>\n",
              "      <td>1967</td>\n",
              "    </tr>\n",
              "    <tr>\n",
              "      <th>4</th>\n",
              "      <td>Afghanistan</td>\n",
              "      <td>1972</td>\n",
              "    </tr>\n",
              "    <tr>\n",
              "      <th>...</th>\n",
              "      <td>...</td>\n",
              "      <td>...</td>\n",
              "    </tr>\n",
              "    <tr>\n",
              "      <th>1699</th>\n",
              "      <td>Zimbabwe</td>\n",
              "      <td>1987</td>\n",
              "    </tr>\n",
              "    <tr>\n",
              "      <th>1700</th>\n",
              "      <td>Zimbabwe</td>\n",
              "      <td>1992</td>\n",
              "    </tr>\n",
              "    <tr>\n",
              "      <th>1701</th>\n",
              "      <td>Zimbabwe</td>\n",
              "      <td>1997</td>\n",
              "    </tr>\n",
              "    <tr>\n",
              "      <th>1702</th>\n",
              "      <td>Zimbabwe</td>\n",
              "      <td>2002</td>\n",
              "    </tr>\n",
              "    <tr>\n",
              "      <th>1703</th>\n",
              "      <td>Zimbabwe</td>\n",
              "      <td>2007</td>\n",
              "    </tr>\n",
              "  </tbody>\n",
              "</table>\n",
              "<p>1704 rows × 2 columns</p>\n",
              "</div>\n",
              "      <button class=\"colab-df-convert\" onclick=\"convertToInteractive('df-5794a7a8-8c16-48ec-98d6-77e5acf64240')\"\n",
              "              title=\"Convert this dataframe to an interactive table.\"\n",
              "              style=\"display:none;\">\n",
              "        \n",
              "  <svg xmlns=\"http://www.w3.org/2000/svg\" height=\"24px\"viewBox=\"0 0 24 24\"\n",
              "       width=\"24px\">\n",
              "    <path d=\"M0 0h24v24H0V0z\" fill=\"none\"/>\n",
              "    <path d=\"M18.56 5.44l.94 2.06.94-2.06 2.06-.94-2.06-.94-.94-2.06-.94 2.06-2.06.94zm-11 1L8.5 8.5l.94-2.06 2.06-.94-2.06-.94L8.5 2.5l-.94 2.06-2.06.94zm10 10l.94 2.06.94-2.06 2.06-.94-2.06-.94-.94-2.06-.94 2.06-2.06.94z\"/><path d=\"M17.41 7.96l-1.37-1.37c-.4-.4-.92-.59-1.43-.59-.52 0-1.04.2-1.43.59L10.3 9.45l-7.72 7.72c-.78.78-.78 2.05 0 2.83L4 21.41c.39.39.9.59 1.41.59.51 0 1.02-.2 1.41-.59l7.78-7.78 2.81-2.81c.8-.78.8-2.07 0-2.86zM5.41 20L4 18.59l7.72-7.72 1.47 1.35L5.41 20z\"/>\n",
              "  </svg>\n",
              "      </button>\n",
              "      \n",
              "  <style>\n",
              "    .colab-df-container {\n",
              "      display:flex;\n",
              "      flex-wrap:wrap;\n",
              "      gap: 12px;\n",
              "    }\n",
              "\n",
              "    .colab-df-convert {\n",
              "      background-color: #E8F0FE;\n",
              "      border: none;\n",
              "      border-radius: 50%;\n",
              "      cursor: pointer;\n",
              "      display: none;\n",
              "      fill: #1967D2;\n",
              "      height: 32px;\n",
              "      padding: 0 0 0 0;\n",
              "      width: 32px;\n",
              "    }\n",
              "\n",
              "    .colab-df-convert:hover {\n",
              "      background-color: #E2EBFA;\n",
              "      box-shadow: 0px 1px 2px rgba(60, 64, 67, 0.3), 0px 1px 3px 1px rgba(60, 64, 67, 0.15);\n",
              "      fill: #174EA6;\n",
              "    }\n",
              "\n",
              "    [theme=dark] .colab-df-convert {\n",
              "      background-color: #3B4455;\n",
              "      fill: #D2E3FC;\n",
              "    }\n",
              "\n",
              "    [theme=dark] .colab-df-convert:hover {\n",
              "      background-color: #434B5C;\n",
              "      box-shadow: 0px 1px 3px 1px rgba(0, 0, 0, 0.15);\n",
              "      filter: drop-shadow(0px 1px 2px rgba(0, 0, 0, 0.3));\n",
              "      fill: #FFFFFF;\n",
              "    }\n",
              "  </style>\n",
              "\n",
              "      <script>\n",
              "        const buttonEl =\n",
              "          document.querySelector('#df-5794a7a8-8c16-48ec-98d6-77e5acf64240 button.colab-df-convert');\n",
              "        buttonEl.style.display =\n",
              "          google.colab.kernel.accessAllowed ? 'block' : 'none';\n",
              "\n",
              "        async function convertToInteractive(key) {\n",
              "          const element = document.querySelector('#df-5794a7a8-8c16-48ec-98d6-77e5acf64240');\n",
              "          const dataTable =\n",
              "            await google.colab.kernel.invokeFunction('convertToInteractive',\n",
              "                                                     [key], {});\n",
              "          if (!dataTable) return;\n",
              "\n",
              "          const docLinkHtml = 'Like what you see? Visit the ' +\n",
              "            '<a target=\"_blank\" href=https://colab.research.google.com/notebooks/data_table.ipynb>data table notebook</a>'\n",
              "            + ' to learn more about interactive tables.';\n",
              "          element.innerHTML = '';\n",
              "          dataTable['output_type'] = 'display_data';\n",
              "          await google.colab.output.renderOutput(dataTable, element);\n",
              "          const docLink = document.createElement('div');\n",
              "          docLink.innerHTML = docLinkHtml;\n",
              "          element.appendChild(docLink);\n",
              "        }\n",
              "      </script>\n",
              "    </div>\n",
              "  </div>\n",
              "  "
            ]
          },
          "metadata": {},
          "execution_count": 30
        }
      ]
    },
    {
      "cell_type": "code",
      "source": [
        "df.iloc[[0,10,100,1000]] # 열 순서를 지정 안해줘서 열은 정리가 안되었다."
      ],
      "metadata": {
        "colab": {
          "base_uri": "https://localhost:8080/",
          "height": 175
        },
        "id": "-s0pL8sdhbHD",
        "outputId": "71526599-ce34-4772-ff80-b1f9fa6e6a25",
        "collapsed": true
      },
      "execution_count": null,
      "outputs": [
        {
          "output_type": "execute_result",
          "data": {
            "text/plain": [
              "          country continent  year  lifeExp       pop    gdpPercap\n",
              "0     Afghanistan      Asia  1952   28.801   8425333   779.445314\n",
              "10    Afghanistan      Asia  2002   42.129  25268405   726.734055\n",
              "100    Bangladesh      Asia  1972   45.252  70759295   630.233627\n",
              "1000     Mongolia      Asia  1972   53.754   1320500  1421.741975"
            ],
            "text/html": [
              "\n",
              "  <div id=\"df-42688673-fedd-4e1d-8298-eddd00d1f6b9\">\n",
              "    <div class=\"colab-df-container\">\n",
              "      <div>\n",
              "<style scoped>\n",
              "    .dataframe tbody tr th:only-of-type {\n",
              "        vertical-align: middle;\n",
              "    }\n",
              "\n",
              "    .dataframe tbody tr th {\n",
              "        vertical-align: top;\n",
              "    }\n",
              "\n",
              "    .dataframe thead th {\n",
              "        text-align: right;\n",
              "    }\n",
              "</style>\n",
              "<table border=\"1\" class=\"dataframe\">\n",
              "  <thead>\n",
              "    <tr style=\"text-align: right;\">\n",
              "      <th></th>\n",
              "      <th>country</th>\n",
              "      <th>continent</th>\n",
              "      <th>year</th>\n",
              "      <th>lifeExp</th>\n",
              "      <th>pop</th>\n",
              "      <th>gdpPercap</th>\n",
              "    </tr>\n",
              "  </thead>\n",
              "  <tbody>\n",
              "    <tr>\n",
              "      <th>0</th>\n",
              "      <td>Afghanistan</td>\n",
              "      <td>Asia</td>\n",
              "      <td>1952</td>\n",
              "      <td>28.801</td>\n",
              "      <td>8425333</td>\n",
              "      <td>779.445314</td>\n",
              "    </tr>\n",
              "    <tr>\n",
              "      <th>10</th>\n",
              "      <td>Afghanistan</td>\n",
              "      <td>Asia</td>\n",
              "      <td>2002</td>\n",
              "      <td>42.129</td>\n",
              "      <td>25268405</td>\n",
              "      <td>726.734055</td>\n",
              "    </tr>\n",
              "    <tr>\n",
              "      <th>100</th>\n",
              "      <td>Bangladesh</td>\n",
              "      <td>Asia</td>\n",
              "      <td>1972</td>\n",
              "      <td>45.252</td>\n",
              "      <td>70759295</td>\n",
              "      <td>630.233627</td>\n",
              "    </tr>\n",
              "    <tr>\n",
              "      <th>1000</th>\n",
              "      <td>Mongolia</td>\n",
              "      <td>Asia</td>\n",
              "      <td>1972</td>\n",
              "      <td>53.754</td>\n",
              "      <td>1320500</td>\n",
              "      <td>1421.741975</td>\n",
              "    </tr>\n",
              "  </tbody>\n",
              "</table>\n",
              "</div>\n",
              "      <button class=\"colab-df-convert\" onclick=\"convertToInteractive('df-42688673-fedd-4e1d-8298-eddd00d1f6b9')\"\n",
              "              title=\"Convert this dataframe to an interactive table.\"\n",
              "              style=\"display:none;\">\n",
              "        \n",
              "  <svg xmlns=\"http://www.w3.org/2000/svg\" height=\"24px\"viewBox=\"0 0 24 24\"\n",
              "       width=\"24px\">\n",
              "    <path d=\"M0 0h24v24H0V0z\" fill=\"none\"/>\n",
              "    <path d=\"M18.56 5.44l.94 2.06.94-2.06 2.06-.94-2.06-.94-.94-2.06-.94 2.06-2.06.94zm-11 1L8.5 8.5l.94-2.06 2.06-.94-2.06-.94L8.5 2.5l-.94 2.06-2.06.94zm10 10l.94 2.06.94-2.06 2.06-.94-2.06-.94-.94-2.06-.94 2.06-2.06.94z\"/><path d=\"M17.41 7.96l-1.37-1.37c-.4-.4-.92-.59-1.43-.59-.52 0-1.04.2-1.43.59L10.3 9.45l-7.72 7.72c-.78.78-.78 2.05 0 2.83L4 21.41c.39.39.9.59 1.41.59.51 0 1.02-.2 1.41-.59l7.78-7.78 2.81-2.81c.8-.78.8-2.07 0-2.86zM5.41 20L4 18.59l7.72-7.72 1.47 1.35L5.41 20z\"/>\n",
              "  </svg>\n",
              "      </button>\n",
              "      \n",
              "  <style>\n",
              "    .colab-df-container {\n",
              "      display:flex;\n",
              "      flex-wrap:wrap;\n",
              "      gap: 12px;\n",
              "    }\n",
              "\n",
              "    .colab-df-convert {\n",
              "      background-color: #E8F0FE;\n",
              "      border: none;\n",
              "      border-radius: 50%;\n",
              "      cursor: pointer;\n",
              "      display: none;\n",
              "      fill: #1967D2;\n",
              "      height: 32px;\n",
              "      padding: 0 0 0 0;\n",
              "      width: 32px;\n",
              "    }\n",
              "\n",
              "    .colab-df-convert:hover {\n",
              "      background-color: #E2EBFA;\n",
              "      box-shadow: 0px 1px 2px rgba(60, 64, 67, 0.3), 0px 1px 3px 1px rgba(60, 64, 67, 0.15);\n",
              "      fill: #174EA6;\n",
              "    }\n",
              "\n",
              "    [theme=dark] .colab-df-convert {\n",
              "      background-color: #3B4455;\n",
              "      fill: #D2E3FC;\n",
              "    }\n",
              "\n",
              "    [theme=dark] .colab-df-convert:hover {\n",
              "      background-color: #434B5C;\n",
              "      box-shadow: 0px 1px 3px 1px rgba(0, 0, 0, 0.15);\n",
              "      filter: drop-shadow(0px 1px 2px rgba(0, 0, 0, 0.3));\n",
              "      fill: #FFFFFF;\n",
              "    }\n",
              "  </style>\n",
              "\n",
              "      <script>\n",
              "        const buttonEl =\n",
              "          document.querySelector('#df-42688673-fedd-4e1d-8298-eddd00d1f6b9 button.colab-df-convert');\n",
              "        buttonEl.style.display =\n",
              "          google.colab.kernel.accessAllowed ? 'block' : 'none';\n",
              "\n",
              "        async function convertToInteractive(key) {\n",
              "          const element = document.querySelector('#df-42688673-fedd-4e1d-8298-eddd00d1f6b9');\n",
              "          const dataTable =\n",
              "            await google.colab.kernel.invokeFunction('convertToInteractive',\n",
              "                                                     [key], {});\n",
              "          if (!dataTable) return;\n",
              "\n",
              "          const docLinkHtml = 'Like what you see? Visit the ' +\n",
              "            '<a target=\"_blank\" href=https://colab.research.google.com/notebooks/data_table.ipynb>data table notebook</a>'\n",
              "            + ' to learn more about interactive tables.';\n",
              "          element.innerHTML = '';\n",
              "          dataTable['output_type'] = 'display_data';\n",
              "          await google.colab.output.renderOutput(dataTable, element);\n",
              "          const docLink = document.createElement('div');\n",
              "          docLink.innerHTML = docLinkHtml;\n",
              "          element.appendChild(docLink);\n",
              "        }\n",
              "      </script>\n",
              "    </div>\n",
              "  </div>\n",
              "  "
            ]
          },
          "metadata": {},
          "execution_count": 31
        }
      ]
    },
    {
      "cell_type": "code",
      "source": [
        "df.iloc[[0,10,100,1000],[0,2]] # iloc은 'column'도 순서로 접근\n",
        "df.iloc[[0,10,100,1000],:3] # 0이상 3미만 열"
      ],
      "metadata": {
        "colab": {
          "base_uri": "https://localhost:8080/",
          "height": 175
        },
        "id": "YeSj6XIRhvrf",
        "outputId": "12e8a507-d38d-4f25-f23e-407e9fde1c0a",
        "collapsed": true
      },
      "execution_count": null,
      "outputs": [
        {
          "output_type": "execute_result",
          "data": {
            "text/plain": [
              "          country continent  year\n",
              "0     Afghanistan      Asia  1952\n",
              "10    Afghanistan      Asia  2002\n",
              "100    Bangladesh      Asia  1972\n",
              "1000     Mongolia      Asia  1972"
            ],
            "text/html": [
              "\n",
              "  <div id=\"df-1c00ea16-3395-4f7d-9c4f-99d07e41cfc8\">\n",
              "    <div class=\"colab-df-container\">\n",
              "      <div>\n",
              "<style scoped>\n",
              "    .dataframe tbody tr th:only-of-type {\n",
              "        vertical-align: middle;\n",
              "    }\n",
              "\n",
              "    .dataframe tbody tr th {\n",
              "        vertical-align: top;\n",
              "    }\n",
              "\n",
              "    .dataframe thead th {\n",
              "        text-align: right;\n",
              "    }\n",
              "</style>\n",
              "<table border=\"1\" class=\"dataframe\">\n",
              "  <thead>\n",
              "    <tr style=\"text-align: right;\">\n",
              "      <th></th>\n",
              "      <th>country</th>\n",
              "      <th>continent</th>\n",
              "      <th>year</th>\n",
              "    </tr>\n",
              "  </thead>\n",
              "  <tbody>\n",
              "    <tr>\n",
              "      <th>0</th>\n",
              "      <td>Afghanistan</td>\n",
              "      <td>Asia</td>\n",
              "      <td>1952</td>\n",
              "    </tr>\n",
              "    <tr>\n",
              "      <th>10</th>\n",
              "      <td>Afghanistan</td>\n",
              "      <td>Asia</td>\n",
              "      <td>2002</td>\n",
              "    </tr>\n",
              "    <tr>\n",
              "      <th>100</th>\n",
              "      <td>Bangladesh</td>\n",
              "      <td>Asia</td>\n",
              "      <td>1972</td>\n",
              "    </tr>\n",
              "    <tr>\n",
              "      <th>1000</th>\n",
              "      <td>Mongolia</td>\n",
              "      <td>Asia</td>\n",
              "      <td>1972</td>\n",
              "    </tr>\n",
              "  </tbody>\n",
              "</table>\n",
              "</div>\n",
              "      <button class=\"colab-df-convert\" onclick=\"convertToInteractive('df-1c00ea16-3395-4f7d-9c4f-99d07e41cfc8')\"\n",
              "              title=\"Convert this dataframe to an interactive table.\"\n",
              "              style=\"display:none;\">\n",
              "        \n",
              "  <svg xmlns=\"http://www.w3.org/2000/svg\" height=\"24px\"viewBox=\"0 0 24 24\"\n",
              "       width=\"24px\">\n",
              "    <path d=\"M0 0h24v24H0V0z\" fill=\"none\"/>\n",
              "    <path d=\"M18.56 5.44l.94 2.06.94-2.06 2.06-.94-2.06-.94-.94-2.06-.94 2.06-2.06.94zm-11 1L8.5 8.5l.94-2.06 2.06-.94-2.06-.94L8.5 2.5l-.94 2.06-2.06.94zm10 10l.94 2.06.94-2.06 2.06-.94-2.06-.94-.94-2.06-.94 2.06-2.06.94z\"/><path d=\"M17.41 7.96l-1.37-1.37c-.4-.4-.92-.59-1.43-.59-.52 0-1.04.2-1.43.59L10.3 9.45l-7.72 7.72c-.78.78-.78 2.05 0 2.83L4 21.41c.39.39.9.59 1.41.59.51 0 1.02-.2 1.41-.59l7.78-7.78 2.81-2.81c.8-.78.8-2.07 0-2.86zM5.41 20L4 18.59l7.72-7.72 1.47 1.35L5.41 20z\"/>\n",
              "  </svg>\n",
              "      </button>\n",
              "      \n",
              "  <style>\n",
              "    .colab-df-container {\n",
              "      display:flex;\n",
              "      flex-wrap:wrap;\n",
              "      gap: 12px;\n",
              "    }\n",
              "\n",
              "    .colab-df-convert {\n",
              "      background-color: #E8F0FE;\n",
              "      border: none;\n",
              "      border-radius: 50%;\n",
              "      cursor: pointer;\n",
              "      display: none;\n",
              "      fill: #1967D2;\n",
              "      height: 32px;\n",
              "      padding: 0 0 0 0;\n",
              "      width: 32px;\n",
              "    }\n",
              "\n",
              "    .colab-df-convert:hover {\n",
              "      background-color: #E2EBFA;\n",
              "      box-shadow: 0px 1px 2px rgba(60, 64, 67, 0.3), 0px 1px 3px 1px rgba(60, 64, 67, 0.15);\n",
              "      fill: #174EA6;\n",
              "    }\n",
              "\n",
              "    [theme=dark] .colab-df-convert {\n",
              "      background-color: #3B4455;\n",
              "      fill: #D2E3FC;\n",
              "    }\n",
              "\n",
              "    [theme=dark] .colab-df-convert:hover {\n",
              "      background-color: #434B5C;\n",
              "      box-shadow: 0px 1px 3px 1px rgba(0, 0, 0, 0.15);\n",
              "      filter: drop-shadow(0px 1px 2px rgba(0, 0, 0, 0.3));\n",
              "      fill: #FFFFFF;\n",
              "    }\n",
              "  </style>\n",
              "\n",
              "      <script>\n",
              "        const buttonEl =\n",
              "          document.querySelector('#df-1c00ea16-3395-4f7d-9c4f-99d07e41cfc8 button.colab-df-convert');\n",
              "        buttonEl.style.display =\n",
              "          google.colab.kernel.accessAllowed ? 'block' : 'none';\n",
              "\n",
              "        async function convertToInteractive(key) {\n",
              "          const element = document.querySelector('#df-1c00ea16-3395-4f7d-9c4f-99d07e41cfc8');\n",
              "          const dataTable =\n",
              "            await google.colab.kernel.invokeFunction('convertToInteractive',\n",
              "                                                     [key], {});\n",
              "          if (!dataTable) return;\n",
              "\n",
              "          const docLinkHtml = 'Like what you see? Visit the ' +\n",
              "            '<a target=\"_blank\" href=https://colab.research.google.com/notebooks/data_table.ipynb>data table notebook</a>'\n",
              "            + ' to learn more about interactive tables.';\n",
              "          element.innerHTML = '';\n",
              "          dataTable['output_type'] = 'display_data';\n",
              "          await google.colab.output.renderOutput(dataTable, element);\n",
              "          const docLink = document.createElement('div');\n",
              "          docLink.innerHTML = docLinkHtml;\n",
              "          element.appendChild(docLink);\n",
              "        }\n",
              "      </script>\n",
              "    </div>\n",
              "  </div>\n",
              "  "
            ]
          },
          "metadata": {},
          "execution_count": 32
        }
      ]
    },
    {
      "cell_type": "code",
      "source": [
        "df.info() #pandas에서는 object가 문자열을 뜻함"
      ],
      "metadata": {
        "colab": {
          "base_uri": "https://localhost:8080/"
        },
        "id": "rJsEwJN9h3oL",
        "outputId": "07293b80-855c-48af-af14-67e8b90c8233",
        "collapsed": true
      },
      "execution_count": null,
      "outputs": [
        {
          "output_type": "stream",
          "name": "stdout",
          "text": [
            "<class 'pandas.core.frame.DataFrame'>\n",
            "RangeIndex: 1704 entries, 0 to 1703\n",
            "Data columns (total 6 columns):\n",
            " #   Column     Non-Null Count  Dtype  \n",
            "---  ------     --------------  -----  \n",
            " 0   country    1704 non-null   object \n",
            " 1   continent  1704 non-null   object \n",
            " 2   year       1704 non-null   int64  \n",
            " 3   lifeExp    1704 non-null   float64\n",
            " 4   pop        1704 non-null   int64  \n",
            " 5   gdpPercap  1704 non-null   float64\n",
            "dtypes: float64(2), int64(2), object(2)\n",
            "memory usage: 80.0+ KB\n"
          ]
        }
      ]
    },
    {
      "cell_type": "code",
      "source": [
        "df.iloc[[0,10,100,1000],[0,2]]\n",
        "a = df.groupby('year')\n",
        "\n",
        "for i in a:\n",
        "    print(i)\n",
        "\n",
        "a.plot()"
      ],
      "metadata": {
        "id": "3YzsJExfF6dO"
      },
      "execution_count": null,
      "outputs": []
    },
    {
      "cell_type": "code",
      "source": [
        "a = df.groupby('year')['lifeExp']\n",
        "for i in a:\n",
        "    print(i)"
      ],
      "metadata": {
        "id": "NR1vFUTWGJrl"
      },
      "execution_count": null,
      "outputs": []
    },
    {
      "cell_type": "code",
      "source": [
        "a.plot()"
      ],
      "metadata": {
        "id": "cQaMjlwNGy0g"
      },
      "execution_count": null,
      "outputs": []
    },
    {
      "cell_type": "code",
      "source": [
        "# 엑셀보다 간단히 정리가능한 파이썬...\n",
        "a = df.groupby('year')['lifeExp'].mean()\n",
        "\n",
        "a.to_excel('year.xlsx')"
      ],
      "metadata": {
        "id": "LTyaXhb3iL7R"
      },
      "execution_count": null,
      "outputs": []
    },
    {
      "cell_type": "code",
      "source": [
        "a.plot() #논문쓸때 편리"
      ],
      "metadata": {
        "id": "px2IG_IAiyJL",
        "collapsed": true
      },
      "execution_count": null,
      "outputs": []
    },
    {
      "cell_type": "code",
      "source": [
        "a = df.groupby(['year','continent'])['lifeExp'].mean()\n",
        "a.plot()\n",
        "# 먼저 year로 묶고, 그 안에서 continent로 묶는다.\n",
        "# 그 후 lifeExp 접근\n",
        "\n",
        "a.to_excel('year.xlsx')"
      ],
      "metadata": {
        "id": "yp9jy68wjalK"
      },
      "execution_count": null,
      "outputs": []
    },
    {
      "cell_type": "code",
      "source": [
        "# 대륙별 국가 개수?\n",
        "\n",
        "a = df.groupby(['continent'])['country'].nunique() # nunique() ; 중복 허용 않고 센다\n",
        "for i in a:\n",
        "    print(i)\n"
      ],
      "metadata": {
        "id": "QdB90Xt4kNtI",
        "colab": {
          "base_uri": "https://localhost:8080/"
        },
        "outputId": "176f13b3-8d3f-43f6-f06c-b0bd354ba429"
      },
      "execution_count": null,
      "outputs": [
        {
          "output_type": "stream",
          "name": "stdout",
          "text": [
            "52\n",
            "25\n",
            "33\n",
            "30\n",
            "2\n"
          ]
        }
      ]
    },
    {
      "cell_type": "code",
      "source": [
        "a = pd.Series( [100,110,120], index = ['A','B','C'] )\n",
        "a"
      ],
      "metadata": {
        "colab": {
          "base_uri": "https://localhost:8080/"
        },
        "id": "xgD7bw92KGaL",
        "outputId": "3dd5d028-ac9b-4e64-d79a-a6756ac76b7b"
      },
      "execution_count": null,
      "outputs": [
        {
          "output_type": "execute_result",
          "data": {
            "text/plain": [
              "A    100\n",
              "B    110\n",
              "C    120\n",
              "dtype: int64"
            ]
          },
          "metadata": {},
          "execution_count": 52
        }
      ]
    },
    {
      "cell_type": "code",
      "source": [
        "\n",
        "a = pd.DataFrame({\n",
        "    'a':[1,2,3],\n",
        "    'b':[4,5,6],\n",
        "    'c':[7,8,9]\n",
        "}, index = ['d','e','f'], columns = ['c','b','a']) \n",
        "a"
      ],
      "metadata": {
        "colab": {
          "base_uri": "https://localhost:8080/",
          "height": 143
        },
        "id": "wYQ0pkaaI65_",
        "outputId": "cf5868d6-13a5-40d5-9fd5-d8e5ca31f297"
      },
      "execution_count": null,
      "outputs": [
        {
          "output_type": "execute_result",
          "data": {
            "text/plain": [
              "   c  b  a\n",
              "d  7  4  1\n",
              "e  8  5  2\n",
              "f  9  6  3"
            ],
            "text/html": [
              "\n",
              "  <div id=\"df-96a5fe85-8b7b-4e33-a207-49c1e00a7ad7\">\n",
              "    <div class=\"colab-df-container\">\n",
              "      <div>\n",
              "<style scoped>\n",
              "    .dataframe tbody tr th:only-of-type {\n",
              "        vertical-align: middle;\n",
              "    }\n",
              "\n",
              "    .dataframe tbody tr th {\n",
              "        vertical-align: top;\n",
              "    }\n",
              "\n",
              "    .dataframe thead th {\n",
              "        text-align: right;\n",
              "    }\n",
              "</style>\n",
              "<table border=\"1\" class=\"dataframe\">\n",
              "  <thead>\n",
              "    <tr style=\"text-align: right;\">\n",
              "      <th></th>\n",
              "      <th>c</th>\n",
              "      <th>b</th>\n",
              "      <th>a</th>\n",
              "    </tr>\n",
              "  </thead>\n",
              "  <tbody>\n",
              "    <tr>\n",
              "      <th>d</th>\n",
              "      <td>7</td>\n",
              "      <td>4</td>\n",
              "      <td>1</td>\n",
              "    </tr>\n",
              "    <tr>\n",
              "      <th>e</th>\n",
              "      <td>8</td>\n",
              "      <td>5</td>\n",
              "      <td>2</td>\n",
              "    </tr>\n",
              "    <tr>\n",
              "      <th>f</th>\n",
              "      <td>9</td>\n",
              "      <td>6</td>\n",
              "      <td>3</td>\n",
              "    </tr>\n",
              "  </tbody>\n",
              "</table>\n",
              "</div>\n",
              "      <button class=\"colab-df-convert\" onclick=\"convertToInteractive('df-96a5fe85-8b7b-4e33-a207-49c1e00a7ad7')\"\n",
              "              title=\"Convert this dataframe to an interactive table.\"\n",
              "              style=\"display:none;\">\n",
              "        \n",
              "  <svg xmlns=\"http://www.w3.org/2000/svg\" height=\"24px\"viewBox=\"0 0 24 24\"\n",
              "       width=\"24px\">\n",
              "    <path d=\"M0 0h24v24H0V0z\" fill=\"none\"/>\n",
              "    <path d=\"M18.56 5.44l.94 2.06.94-2.06 2.06-.94-2.06-.94-.94-2.06-.94 2.06-2.06.94zm-11 1L8.5 8.5l.94-2.06 2.06-.94-2.06-.94L8.5 2.5l-.94 2.06-2.06.94zm10 10l.94 2.06.94-2.06 2.06-.94-2.06-.94-.94-2.06-.94 2.06-2.06.94z\"/><path d=\"M17.41 7.96l-1.37-1.37c-.4-.4-.92-.59-1.43-.59-.52 0-1.04.2-1.43.59L10.3 9.45l-7.72 7.72c-.78.78-.78 2.05 0 2.83L4 21.41c.39.39.9.59 1.41.59.51 0 1.02-.2 1.41-.59l7.78-7.78 2.81-2.81c.8-.78.8-2.07 0-2.86zM5.41 20L4 18.59l7.72-7.72 1.47 1.35L5.41 20z\"/>\n",
              "  </svg>\n",
              "      </button>\n",
              "      \n",
              "  <style>\n",
              "    .colab-df-container {\n",
              "      display:flex;\n",
              "      flex-wrap:wrap;\n",
              "      gap: 12px;\n",
              "    }\n",
              "\n",
              "    .colab-df-convert {\n",
              "      background-color: #E8F0FE;\n",
              "      border: none;\n",
              "      border-radius: 50%;\n",
              "      cursor: pointer;\n",
              "      display: none;\n",
              "      fill: #1967D2;\n",
              "      height: 32px;\n",
              "      padding: 0 0 0 0;\n",
              "      width: 32px;\n",
              "    }\n",
              "\n",
              "    .colab-df-convert:hover {\n",
              "      background-color: #E2EBFA;\n",
              "      box-shadow: 0px 1px 2px rgba(60, 64, 67, 0.3), 0px 1px 3px 1px rgba(60, 64, 67, 0.15);\n",
              "      fill: #174EA6;\n",
              "    }\n",
              "\n",
              "    [theme=dark] .colab-df-convert {\n",
              "      background-color: #3B4455;\n",
              "      fill: #D2E3FC;\n",
              "    }\n",
              "\n",
              "    [theme=dark] .colab-df-convert:hover {\n",
              "      background-color: #434B5C;\n",
              "      box-shadow: 0px 1px 3px 1px rgba(0, 0, 0, 0.15);\n",
              "      filter: drop-shadow(0px 1px 2px rgba(0, 0, 0, 0.3));\n",
              "      fill: #FFFFFF;\n",
              "    }\n",
              "  </style>\n",
              "\n",
              "      <script>\n",
              "        const buttonEl =\n",
              "          document.querySelector('#df-96a5fe85-8b7b-4e33-a207-49c1e00a7ad7 button.colab-df-convert');\n",
              "        buttonEl.style.display =\n",
              "          google.colab.kernel.accessAllowed ? 'block' : 'none';\n",
              "\n",
              "        async function convertToInteractive(key) {\n",
              "          const element = document.querySelector('#df-96a5fe85-8b7b-4e33-a207-49c1e00a7ad7');\n",
              "          const dataTable =\n",
              "            await google.colab.kernel.invokeFunction('convertToInteractive',\n",
              "                                                     [key], {});\n",
              "          if (!dataTable) return;\n",
              "\n",
              "          const docLinkHtml = 'Like what you see? Visit the ' +\n",
              "            '<a target=\"_blank\" href=https://colab.research.google.com/notebooks/data_table.ipynb>data table notebook</a>'\n",
              "            + ' to learn more about interactive tables.';\n",
              "          element.innerHTML = '';\n",
              "          dataTable['output_type'] = 'display_data';\n",
              "          await google.colab.output.renderOutput(dataTable, element);\n",
              "          const docLink = document.createElement('div');\n",
              "          docLink.innerHTML = docLinkHtml;\n",
              "          element.appendChild(docLink);\n",
              "        }\n",
              "      </script>\n",
              "    </div>\n",
              "  </div>\n",
              "  "
            ]
          },
          "metadata": {},
          "execution_count": 56
        }
      ]
    },
    {
      "cell_type": "code",
      "source": [
        "life = df['lifeExp']\n",
        "max(life)"
      ],
      "metadata": {
        "colab": {
          "base_uri": "https://localhost:8080/"
        },
        "id": "8LEalAKdKvgi",
        "outputId": "a01840bd-6150-4a67-a52e-93a42d8465d0"
      },
      "execution_count": null,
      "outputs": [
        {
          "output_type": "execute_result",
          "data": {
            "text/plain": [
              "82.603"
            ]
          },
          "metadata": {},
          "execution_count": 57
        }
      ]
    },
    {
      "cell_type": "code",
      "source": [
        "# lifeExp의 중앙값보다 큰 행들을 찾아보자.\n",
        "df.iloc[:]"
      ],
      "metadata": {
        "id": "f6yFPIOSLWn_"
      },
      "execution_count": null,
      "outputs": []
    },
    {
      "cell_type": "code",
      "source": [
        "life = df['lifeExp']\n",
        "life"
      ],
      "metadata": {
        "id": "gVdHAOUSMEi1"
      },
      "execution_count": null,
      "outputs": []
    },
    {
      "cell_type": "code",
      "source": [
        "life.sort_values()"
      ],
      "metadata": {
        "id": "mHVc1ltzLHXU"
      },
      "execution_count": null,
      "outputs": []
    },
    {
      "cell_type": "code",
      "source": [
        "life.sort_values(ascending = False) # 내림차순"
      ],
      "metadata": {
        "id": "Y52aBeUDLQuw"
      },
      "execution_count": null,
      "outputs": []
    },
    {
      "cell_type": "code",
      "source": [
        "df[life]>df['lifExp'.median()]"
      ],
      "metadata": {
        "colab": {
          "base_uri": "https://localhost:8080/",
          "height": 360
        },
        "id": "jp8CQUtiMT0w",
        "outputId": "26f0fffc-22f2-447f-b397-cb0f8df0d310"
      },
      "execution_count": null,
      "outputs": [
        {
          "output_type": "error",
          "ename": "KeyError",
          "evalue": "ignored",
          "traceback": [
            "\u001b[0;31m---------------------------------------------------------------------------\u001b[0m",
            "\u001b[0;31mKeyError\u001b[0m                                  Traceback (most recent call last)",
            "\u001b[0;32m<ipython-input-73-0ca98cd23dca>\u001b[0m in \u001b[0;36m<module>\u001b[0;34m()\u001b[0m\n\u001b[0;32m----> 1\u001b[0;31m \u001b[0mdf\u001b[0m\u001b[0;34m[\u001b[0m\u001b[0mlife\u001b[0m\u001b[0;34m]\u001b[0m\u001b[0;34m>\u001b[0m\u001b[0mdf\u001b[0m\u001b[0;34m[\u001b[0m\u001b[0;34m'lifExp'\u001b[0m\u001b[0;34m.\u001b[0m\u001b[0mmedian\u001b[0m\u001b[0;34m(\u001b[0m\u001b[0;34m)\u001b[0m\u001b[0;34m]\u001b[0m\u001b[0;34m\u001b[0m\u001b[0;34m\u001b[0m\u001b[0m\n\u001b[0m",
            "\u001b[0;32m/usr/local/lib/python3.7/dist-packages/pandas/core/frame.py\u001b[0m in \u001b[0;36m__getitem__\u001b[0;34m(self, key)\u001b[0m\n\u001b[1;32m   3462\u001b[0m             \u001b[0;32mif\u001b[0m \u001b[0mis_iterator\u001b[0m\u001b[0;34m(\u001b[0m\u001b[0mkey\u001b[0m\u001b[0;34m)\u001b[0m\u001b[0;34m:\u001b[0m\u001b[0;34m\u001b[0m\u001b[0;34m\u001b[0m\u001b[0m\n\u001b[1;32m   3463\u001b[0m                 \u001b[0mkey\u001b[0m \u001b[0;34m=\u001b[0m \u001b[0mlist\u001b[0m\u001b[0;34m(\u001b[0m\u001b[0mkey\u001b[0m\u001b[0;34m)\u001b[0m\u001b[0;34m\u001b[0m\u001b[0;34m\u001b[0m\u001b[0m\n\u001b[0;32m-> 3464\u001b[0;31m             \u001b[0mindexer\u001b[0m \u001b[0;34m=\u001b[0m \u001b[0mself\u001b[0m\u001b[0;34m.\u001b[0m\u001b[0mloc\u001b[0m\u001b[0;34m.\u001b[0m\u001b[0m_get_listlike_indexer\u001b[0m\u001b[0;34m(\u001b[0m\u001b[0mkey\u001b[0m\u001b[0;34m,\u001b[0m \u001b[0maxis\u001b[0m\u001b[0;34m=\u001b[0m\u001b[0;36m1\u001b[0m\u001b[0;34m)\u001b[0m\u001b[0;34m[\u001b[0m\u001b[0;36m1\u001b[0m\u001b[0;34m]\u001b[0m\u001b[0;34m\u001b[0m\u001b[0;34m\u001b[0m\u001b[0m\n\u001b[0m\u001b[1;32m   3465\u001b[0m \u001b[0;34m\u001b[0m\u001b[0m\n\u001b[1;32m   3466\u001b[0m         \u001b[0;31m# take() does not accept boolean indexers\u001b[0m\u001b[0;34m\u001b[0m\u001b[0;34m\u001b[0m\u001b[0;34m\u001b[0m\u001b[0m\n",
            "\u001b[0;32m/usr/local/lib/python3.7/dist-packages/pandas/core/indexing.py\u001b[0m in \u001b[0;36m_get_listlike_indexer\u001b[0;34m(self, key, axis)\u001b[0m\n\u001b[1;32m   1312\u001b[0m             \u001b[0mkeyarr\u001b[0m\u001b[0;34m,\u001b[0m \u001b[0mindexer\u001b[0m\u001b[0;34m,\u001b[0m \u001b[0mnew_indexer\u001b[0m \u001b[0;34m=\u001b[0m \u001b[0max\u001b[0m\u001b[0;34m.\u001b[0m\u001b[0m_reindex_non_unique\u001b[0m\u001b[0;34m(\u001b[0m\u001b[0mkeyarr\u001b[0m\u001b[0;34m)\u001b[0m\u001b[0;34m\u001b[0m\u001b[0;34m\u001b[0m\u001b[0m\n\u001b[1;32m   1313\u001b[0m \u001b[0;34m\u001b[0m\u001b[0m\n\u001b[0;32m-> 1314\u001b[0;31m         \u001b[0mself\u001b[0m\u001b[0;34m.\u001b[0m\u001b[0m_validate_read_indexer\u001b[0m\u001b[0;34m(\u001b[0m\u001b[0mkeyarr\u001b[0m\u001b[0;34m,\u001b[0m \u001b[0mindexer\u001b[0m\u001b[0;34m,\u001b[0m \u001b[0maxis\u001b[0m\u001b[0;34m)\u001b[0m\u001b[0;34m\u001b[0m\u001b[0;34m\u001b[0m\u001b[0m\n\u001b[0m\u001b[1;32m   1315\u001b[0m \u001b[0;34m\u001b[0m\u001b[0m\n\u001b[1;32m   1316\u001b[0m         if needs_i8_conversion(ax.dtype) or isinstance(\n",
            "\u001b[0;32m/usr/local/lib/python3.7/dist-packages/pandas/core/indexing.py\u001b[0m in \u001b[0;36m_validate_read_indexer\u001b[0;34m(self, key, indexer, axis)\u001b[0m\n\u001b[1;32m   1372\u001b[0m                 \u001b[0;32mif\u001b[0m \u001b[0muse_interval_msg\u001b[0m\u001b[0;34m:\u001b[0m\u001b[0;34m\u001b[0m\u001b[0;34m\u001b[0m\u001b[0m\n\u001b[1;32m   1373\u001b[0m                     \u001b[0mkey\u001b[0m \u001b[0;34m=\u001b[0m \u001b[0mlist\u001b[0m\u001b[0;34m(\u001b[0m\u001b[0mkey\u001b[0m\u001b[0;34m)\u001b[0m\u001b[0;34m\u001b[0m\u001b[0;34m\u001b[0m\u001b[0m\n\u001b[0;32m-> 1374\u001b[0;31m                 \u001b[0;32mraise\u001b[0m \u001b[0mKeyError\u001b[0m\u001b[0;34m(\u001b[0m\u001b[0;34mf\"None of [{key}] are in the [{axis_name}]\"\u001b[0m\u001b[0;34m)\u001b[0m\u001b[0;34m\u001b[0m\u001b[0;34m\u001b[0m\u001b[0m\n\u001b[0m\u001b[1;32m   1375\u001b[0m \u001b[0;34m\u001b[0m\u001b[0m\n\u001b[1;32m   1376\u001b[0m             \u001b[0mnot_found\u001b[0m \u001b[0;34m=\u001b[0m \u001b[0mlist\u001b[0m\u001b[0;34m(\u001b[0m\u001b[0mensure_index\u001b[0m\u001b[0;34m(\u001b[0m\u001b[0mkey\u001b[0m\u001b[0;34m)\u001b[0m\u001b[0;34m[\u001b[0m\u001b[0mmissing_mask\u001b[0m\u001b[0;34m.\u001b[0m\u001b[0mnonzero\u001b[0m\u001b[0;34m(\u001b[0m\u001b[0;34m)\u001b[0m\u001b[0;34m[\u001b[0m\u001b[0;36m0\u001b[0m\u001b[0;34m]\u001b[0m\u001b[0;34m]\u001b[0m\u001b[0;34m.\u001b[0m\u001b[0munique\u001b[0m\u001b[0;34m(\u001b[0m\u001b[0;34m)\u001b[0m\u001b[0;34m)\u001b[0m\u001b[0;34m\u001b[0m\u001b[0;34m\u001b[0m\u001b[0m\n",
            "\u001b[0;31mKeyError\u001b[0m: \"None of [Float64Index([28.801, 30.332, 31.997,  34.02, 36.088, 38.438, 39.854, 40.822,\\n              41.674, 41.763,\\n              ...\\n              52.358, 53.995, 55.635, 57.674, 60.363, 62.351, 60.377, 46.809,\\n              39.989, 43.487],\\n             dtype='float64', length=1704)] are in the [columns]\""
          ]
        }
      ]
    },
    {
      "cell_type": "code",
      "source": [
        "a.index\n",
        "a.columns"
      ],
      "metadata": {
        "colab": {
          "base_uri": "https://localhost:8080/"
        },
        "id": "LSSIFyrrKA8q",
        "outputId": "10109421-c97f-4bf2-a201-4098e31dc417"
      },
      "execution_count": null,
      "outputs": [
        {
          "output_type": "execute_result",
          "data": {
            "text/plain": [
              "Index(['c', 'b', 'a'], dtype='object')"
            ]
          },
          "metadata": {},
          "execution_count": 50
        }
      ]
    },
    {
      "cell_type": "code",
      "source": [
        "def solution(n):\n",
        "    \n",
        "    box = []\n",
        "    lenOflist = len(box)\n",
        "\n",
        "    if n == 2:\n",
        "        return 1\n",
        "    \n",
        "    for i in range(3,n+1):\n",
        "        box.append(i)\n",
        "    \n",
        "    \n",
        "        \n",
        "\n",
        "\n",
        "    # for i in range(2,n+1): # 집합의 갯수 n-1\n",
        "    #     box.append(i)\n",
        "    # for i in range(2,n):\n",
        "\n",
        "\n",
        "solution(10)\n"
      ],
      "metadata": {
        "colab": {
          "base_uri": "https://localhost:8080/"
        },
        "id": "K77bAzgSnKMQ",
        "outputId": "e427bcfb-ff92-4da4-8e03-65b0090599e4",
        "collapsed": true
      },
      "execution_count": null,
      "outputs": [
        {
          "output_type": "stream",
          "name": "stdout",
          "text": [
            "[3, 4, 5, 6, 7, 8, 9, 10]\n"
          ]
        }
      ]
    },
    {
      "cell_type": "code",
      "source": [
        "#sol) 에라토스테네스의 체\n",
        "\n",
        "def solution(n):\n",
        "\n",
        "    box = [i for i in range(2,n+1)]\n",
        "    \n",
        "    if n==2:\n",
        "        return 1\n",
        "    \n",
        "    for i in range(3, n+1):\n",
        "        for j in range(i,n+1, i):#에라토스테네스의 체\n",
        "            if i!=j and j in box:\n",
        "                box.remove(j)\n",
        "    return len(box)\n",
        "\n",
        "solution(10)"
      ],
      "metadata": {
        "colab": {
          "base_uri": "https://localhost:8080/"
        },
        "id": "DtXnHLqppFVX",
        "outputId": "41142240-012b-454c-c054-37c87c8b1ea2",
        "collapsed": true
      },
      "execution_count": null,
      "outputs": [
        {
          "output_type": "execute_result",
          "data": {
            "text/plain": [
              "4"
            ]
          },
          "metadata": {},
          "execution_count": 59
        }
      ]
    },
    {
      "cell_type": "code",
      "source": [
        "#에라토스테네스의 체 sol2\n",
        "def solution(n):\n",
        "\n",
        "    box = [True] * (n+1)\n",
        "    box[0]=False\n",
        "    box[1]=False\n",
        "\n",
        "    for i in range(2,n+1):\n",
        "        for j in range(i,n+1,i):\n",
        "            if i!=j:\n",
        "                box[j]=False\n",
        "    return box.count(True)\n",
        "\n",
        "solution(10)"
      ],
      "metadata": {
        "id": "ACcJWWjkr2IH"
      },
      "execution_count": null,
      "outputs": []
    },
    {
      "cell_type": "code",
      "source": [
        "#pima-indian-diabetes\n",
        "#다큐멘터리 ... 비만 유전 실험\n",
        "\n",
        "import pandas as pd\n",
        "\n",
        "df = pd.read_csv('pima-indians-diabetes.csv',header=None)\n",
        "df"
      ],
      "metadata": {
        "colab": {
          "base_uri": "https://localhost:8080/",
          "height": 424
        },
        "id": "YtBUCMm0vMCY",
        "outputId": "d7a5b267-869c-4fc1-b4e0-8bddeb63ac55",
        "collapsed": true
      },
      "execution_count": null,
      "outputs": [
        {
          "output_type": "execute_result",
          "data": {
            "text/plain": [
              "      0    1   2   3    4     5      6   7  8\n",
              "0     6  148  72  35    0  33.6  0.627  50  1\n",
              "1     1   85  66  29    0  26.6  0.351  31  0\n",
              "2     8  183  64   0    0  23.3  0.672  32  1\n",
              "3     1   89  66  23   94  28.1  0.167  21  0\n",
              "4     0  137  40  35  168  43.1  2.288  33  1\n",
              "..   ..  ...  ..  ..  ...   ...    ...  .. ..\n",
              "763  10  101  76  48  180  32.9  0.171  63  0\n",
              "764   2  122  70  27    0  36.8  0.340  27  0\n",
              "765   5  121  72  23  112  26.2  0.245  30  0\n",
              "766   1  126  60   0    0  30.1  0.349  47  1\n",
              "767   1   93  70  31    0  30.4  0.315  23  0\n",
              "\n",
              "[768 rows x 9 columns]"
            ],
            "text/html": [
              "\n",
              "  <div id=\"df-1ade6026-9c50-4456-8f24-5691dd817cdb\">\n",
              "    <div class=\"colab-df-container\">\n",
              "      <div>\n",
              "<style scoped>\n",
              "    .dataframe tbody tr th:only-of-type {\n",
              "        vertical-align: middle;\n",
              "    }\n",
              "\n",
              "    .dataframe tbody tr th {\n",
              "        vertical-align: top;\n",
              "    }\n",
              "\n",
              "    .dataframe thead th {\n",
              "        text-align: right;\n",
              "    }\n",
              "</style>\n",
              "<table border=\"1\" class=\"dataframe\">\n",
              "  <thead>\n",
              "    <tr style=\"text-align: right;\">\n",
              "      <th></th>\n",
              "      <th>0</th>\n",
              "      <th>1</th>\n",
              "      <th>2</th>\n",
              "      <th>3</th>\n",
              "      <th>4</th>\n",
              "      <th>5</th>\n",
              "      <th>6</th>\n",
              "      <th>7</th>\n",
              "      <th>8</th>\n",
              "    </tr>\n",
              "  </thead>\n",
              "  <tbody>\n",
              "    <tr>\n",
              "      <th>0</th>\n",
              "      <td>6</td>\n",
              "      <td>148</td>\n",
              "      <td>72</td>\n",
              "      <td>35</td>\n",
              "      <td>0</td>\n",
              "      <td>33.6</td>\n",
              "      <td>0.627</td>\n",
              "      <td>50</td>\n",
              "      <td>1</td>\n",
              "    </tr>\n",
              "    <tr>\n",
              "      <th>1</th>\n",
              "      <td>1</td>\n",
              "      <td>85</td>\n",
              "      <td>66</td>\n",
              "      <td>29</td>\n",
              "      <td>0</td>\n",
              "      <td>26.6</td>\n",
              "      <td>0.351</td>\n",
              "      <td>31</td>\n",
              "      <td>0</td>\n",
              "    </tr>\n",
              "    <tr>\n",
              "      <th>2</th>\n",
              "      <td>8</td>\n",
              "      <td>183</td>\n",
              "      <td>64</td>\n",
              "      <td>0</td>\n",
              "      <td>0</td>\n",
              "      <td>23.3</td>\n",
              "      <td>0.672</td>\n",
              "      <td>32</td>\n",
              "      <td>1</td>\n",
              "    </tr>\n",
              "    <tr>\n",
              "      <th>3</th>\n",
              "      <td>1</td>\n",
              "      <td>89</td>\n",
              "      <td>66</td>\n",
              "      <td>23</td>\n",
              "      <td>94</td>\n",
              "      <td>28.1</td>\n",
              "      <td>0.167</td>\n",
              "      <td>21</td>\n",
              "      <td>0</td>\n",
              "    </tr>\n",
              "    <tr>\n",
              "      <th>4</th>\n",
              "      <td>0</td>\n",
              "      <td>137</td>\n",
              "      <td>40</td>\n",
              "      <td>35</td>\n",
              "      <td>168</td>\n",
              "      <td>43.1</td>\n",
              "      <td>2.288</td>\n",
              "      <td>33</td>\n",
              "      <td>1</td>\n",
              "    </tr>\n",
              "    <tr>\n",
              "      <th>...</th>\n",
              "      <td>...</td>\n",
              "      <td>...</td>\n",
              "      <td>...</td>\n",
              "      <td>...</td>\n",
              "      <td>...</td>\n",
              "      <td>...</td>\n",
              "      <td>...</td>\n",
              "      <td>...</td>\n",
              "      <td>...</td>\n",
              "    </tr>\n",
              "    <tr>\n",
              "      <th>763</th>\n",
              "      <td>10</td>\n",
              "      <td>101</td>\n",
              "      <td>76</td>\n",
              "      <td>48</td>\n",
              "      <td>180</td>\n",
              "      <td>32.9</td>\n",
              "      <td>0.171</td>\n",
              "      <td>63</td>\n",
              "      <td>0</td>\n",
              "    </tr>\n",
              "    <tr>\n",
              "      <th>764</th>\n",
              "      <td>2</td>\n",
              "      <td>122</td>\n",
              "      <td>70</td>\n",
              "      <td>27</td>\n",
              "      <td>0</td>\n",
              "      <td>36.8</td>\n",
              "      <td>0.340</td>\n",
              "      <td>27</td>\n",
              "      <td>0</td>\n",
              "    </tr>\n",
              "    <tr>\n",
              "      <th>765</th>\n",
              "      <td>5</td>\n",
              "      <td>121</td>\n",
              "      <td>72</td>\n",
              "      <td>23</td>\n",
              "      <td>112</td>\n",
              "      <td>26.2</td>\n",
              "      <td>0.245</td>\n",
              "      <td>30</td>\n",
              "      <td>0</td>\n",
              "    </tr>\n",
              "    <tr>\n",
              "      <th>766</th>\n",
              "      <td>1</td>\n",
              "      <td>126</td>\n",
              "      <td>60</td>\n",
              "      <td>0</td>\n",
              "      <td>0</td>\n",
              "      <td>30.1</td>\n",
              "      <td>0.349</td>\n",
              "      <td>47</td>\n",
              "      <td>1</td>\n",
              "    </tr>\n",
              "    <tr>\n",
              "      <th>767</th>\n",
              "      <td>1</td>\n",
              "      <td>93</td>\n",
              "      <td>70</td>\n",
              "      <td>31</td>\n",
              "      <td>0</td>\n",
              "      <td>30.4</td>\n",
              "      <td>0.315</td>\n",
              "      <td>23</td>\n",
              "      <td>0</td>\n",
              "    </tr>\n",
              "  </tbody>\n",
              "</table>\n",
              "<p>768 rows × 9 columns</p>\n",
              "</div>\n",
              "      <button class=\"colab-df-convert\" onclick=\"convertToInteractive('df-1ade6026-9c50-4456-8f24-5691dd817cdb')\"\n",
              "              title=\"Convert this dataframe to an interactive table.\"\n",
              "              style=\"display:none;\">\n",
              "        \n",
              "  <svg xmlns=\"http://www.w3.org/2000/svg\" height=\"24px\"viewBox=\"0 0 24 24\"\n",
              "       width=\"24px\">\n",
              "    <path d=\"M0 0h24v24H0V0z\" fill=\"none\"/>\n",
              "    <path d=\"M18.56 5.44l.94 2.06.94-2.06 2.06-.94-2.06-.94-.94-2.06-.94 2.06-2.06.94zm-11 1L8.5 8.5l.94-2.06 2.06-.94-2.06-.94L8.5 2.5l-.94 2.06-2.06.94zm10 10l.94 2.06.94-2.06 2.06-.94-2.06-.94-.94-2.06-.94 2.06-2.06.94z\"/><path d=\"M17.41 7.96l-1.37-1.37c-.4-.4-.92-.59-1.43-.59-.52 0-1.04.2-1.43.59L10.3 9.45l-7.72 7.72c-.78.78-.78 2.05 0 2.83L4 21.41c.39.39.9.59 1.41.59.51 0 1.02-.2 1.41-.59l7.78-7.78 2.81-2.81c.8-.78.8-2.07 0-2.86zM5.41 20L4 18.59l7.72-7.72 1.47 1.35L5.41 20z\"/>\n",
              "  </svg>\n",
              "      </button>\n",
              "      \n",
              "  <style>\n",
              "    .colab-df-container {\n",
              "      display:flex;\n",
              "      flex-wrap:wrap;\n",
              "      gap: 12px;\n",
              "    }\n",
              "\n",
              "    .colab-df-convert {\n",
              "      background-color: #E8F0FE;\n",
              "      border: none;\n",
              "      border-radius: 50%;\n",
              "      cursor: pointer;\n",
              "      display: none;\n",
              "      fill: #1967D2;\n",
              "      height: 32px;\n",
              "      padding: 0 0 0 0;\n",
              "      width: 32px;\n",
              "    }\n",
              "\n",
              "    .colab-df-convert:hover {\n",
              "      background-color: #E2EBFA;\n",
              "      box-shadow: 0px 1px 2px rgba(60, 64, 67, 0.3), 0px 1px 3px 1px rgba(60, 64, 67, 0.15);\n",
              "      fill: #174EA6;\n",
              "    }\n",
              "\n",
              "    [theme=dark] .colab-df-convert {\n",
              "      background-color: #3B4455;\n",
              "      fill: #D2E3FC;\n",
              "    }\n",
              "\n",
              "    [theme=dark] .colab-df-convert:hover {\n",
              "      background-color: #434B5C;\n",
              "      box-shadow: 0px 1px 3px 1px rgba(0, 0, 0, 0.15);\n",
              "      filter: drop-shadow(0px 1px 2px rgba(0, 0, 0, 0.3));\n",
              "      fill: #FFFFFF;\n",
              "    }\n",
              "  </style>\n",
              "\n",
              "      <script>\n",
              "        const buttonEl =\n",
              "          document.querySelector('#df-1ade6026-9c50-4456-8f24-5691dd817cdb button.colab-df-convert');\n",
              "        buttonEl.style.display =\n",
              "          google.colab.kernel.accessAllowed ? 'block' : 'none';\n",
              "\n",
              "        async function convertToInteractive(key) {\n",
              "          const element = document.querySelector('#df-1ade6026-9c50-4456-8f24-5691dd817cdb');\n",
              "          const dataTable =\n",
              "            await google.colab.kernel.invokeFunction('convertToInteractive',\n",
              "                                                     [key], {});\n",
              "          if (!dataTable) return;\n",
              "\n",
              "          const docLinkHtml = 'Like what you see? Visit the ' +\n",
              "            '<a target=\"_blank\" href=https://colab.research.google.com/notebooks/data_table.ipynb>data table notebook</a>'\n",
              "            + ' to learn more about interactive tables.';\n",
              "          element.innerHTML = '';\n",
              "          dataTable['output_type'] = 'display_data';\n",
              "          await google.colab.output.renderOutput(dataTable, element);\n",
              "          const docLink = document.createElement('div');\n",
              "          docLink.innerHTML = docLinkHtml;\n",
              "          element.appendChild(docLink);\n",
              "        }\n",
              "      </script>\n",
              "    </div>\n",
              "  </div>\n",
              "  "
            ]
          },
          "metadata": {},
          "execution_count": 60
        }
      ]
    },
    {
      "cell_type": "code",
      "source": [
        "df.columns = ['pregnant','plasma','pressure','thickness','insulin','BMI','pedigree','age','class']\n",
        "df"
      ],
      "metadata": {
        "colab": {
          "base_uri": "https://localhost:8080/",
          "height": 424
        },
        "id": "VKrTKkQWwnSd",
        "outputId": "12ccc32f-7e19-4057-c7e0-47eb392043bd",
        "collapsed": true
      },
      "execution_count": null,
      "outputs": [
        {
          "output_type": "execute_result",
          "data": {
            "text/plain": [
              "     pregnant  plasma  pressure  thickness  insulin   BMI  pedigree  age  \\\n",
              "0           6     148        72         35        0  33.6     0.627   50   \n",
              "1           1      85        66         29        0  26.6     0.351   31   \n",
              "2           8     183        64          0        0  23.3     0.672   32   \n",
              "3           1      89        66         23       94  28.1     0.167   21   \n",
              "4           0     137        40         35      168  43.1     2.288   33   \n",
              "..        ...     ...       ...        ...      ...   ...       ...  ...   \n",
              "763        10     101        76         48      180  32.9     0.171   63   \n",
              "764         2     122        70         27        0  36.8     0.340   27   \n",
              "765         5     121        72         23      112  26.2     0.245   30   \n",
              "766         1     126        60          0        0  30.1     0.349   47   \n",
              "767         1      93        70         31        0  30.4     0.315   23   \n",
              "\n",
              "     class  \n",
              "0        1  \n",
              "1        0  \n",
              "2        1  \n",
              "3        0  \n",
              "4        1  \n",
              "..     ...  \n",
              "763      0  \n",
              "764      0  \n",
              "765      0  \n",
              "766      1  \n",
              "767      0  \n",
              "\n",
              "[768 rows x 9 columns]"
            ],
            "text/html": [
              "\n",
              "  <div id=\"df-0cf44d26-d622-47b3-a291-7b09eb8acc74\">\n",
              "    <div class=\"colab-df-container\">\n",
              "      <div>\n",
              "<style scoped>\n",
              "    .dataframe tbody tr th:only-of-type {\n",
              "        vertical-align: middle;\n",
              "    }\n",
              "\n",
              "    .dataframe tbody tr th {\n",
              "        vertical-align: top;\n",
              "    }\n",
              "\n",
              "    .dataframe thead th {\n",
              "        text-align: right;\n",
              "    }\n",
              "</style>\n",
              "<table border=\"1\" class=\"dataframe\">\n",
              "  <thead>\n",
              "    <tr style=\"text-align: right;\">\n",
              "      <th></th>\n",
              "      <th>pregnant</th>\n",
              "      <th>plasma</th>\n",
              "      <th>pressure</th>\n",
              "      <th>thickness</th>\n",
              "      <th>insulin</th>\n",
              "      <th>BMI</th>\n",
              "      <th>pedigree</th>\n",
              "      <th>age</th>\n",
              "      <th>class</th>\n",
              "    </tr>\n",
              "  </thead>\n",
              "  <tbody>\n",
              "    <tr>\n",
              "      <th>0</th>\n",
              "      <td>6</td>\n",
              "      <td>148</td>\n",
              "      <td>72</td>\n",
              "      <td>35</td>\n",
              "      <td>0</td>\n",
              "      <td>33.6</td>\n",
              "      <td>0.627</td>\n",
              "      <td>50</td>\n",
              "      <td>1</td>\n",
              "    </tr>\n",
              "    <tr>\n",
              "      <th>1</th>\n",
              "      <td>1</td>\n",
              "      <td>85</td>\n",
              "      <td>66</td>\n",
              "      <td>29</td>\n",
              "      <td>0</td>\n",
              "      <td>26.6</td>\n",
              "      <td>0.351</td>\n",
              "      <td>31</td>\n",
              "      <td>0</td>\n",
              "    </tr>\n",
              "    <tr>\n",
              "      <th>2</th>\n",
              "      <td>8</td>\n",
              "      <td>183</td>\n",
              "      <td>64</td>\n",
              "      <td>0</td>\n",
              "      <td>0</td>\n",
              "      <td>23.3</td>\n",
              "      <td>0.672</td>\n",
              "      <td>32</td>\n",
              "      <td>1</td>\n",
              "    </tr>\n",
              "    <tr>\n",
              "      <th>3</th>\n",
              "      <td>1</td>\n",
              "      <td>89</td>\n",
              "      <td>66</td>\n",
              "      <td>23</td>\n",
              "      <td>94</td>\n",
              "      <td>28.1</td>\n",
              "      <td>0.167</td>\n",
              "      <td>21</td>\n",
              "      <td>0</td>\n",
              "    </tr>\n",
              "    <tr>\n",
              "      <th>4</th>\n",
              "      <td>0</td>\n",
              "      <td>137</td>\n",
              "      <td>40</td>\n",
              "      <td>35</td>\n",
              "      <td>168</td>\n",
              "      <td>43.1</td>\n",
              "      <td>2.288</td>\n",
              "      <td>33</td>\n",
              "      <td>1</td>\n",
              "    </tr>\n",
              "    <tr>\n",
              "      <th>...</th>\n",
              "      <td>...</td>\n",
              "      <td>...</td>\n",
              "      <td>...</td>\n",
              "      <td>...</td>\n",
              "      <td>...</td>\n",
              "      <td>...</td>\n",
              "      <td>...</td>\n",
              "      <td>...</td>\n",
              "      <td>...</td>\n",
              "    </tr>\n",
              "    <tr>\n",
              "      <th>763</th>\n",
              "      <td>10</td>\n",
              "      <td>101</td>\n",
              "      <td>76</td>\n",
              "      <td>48</td>\n",
              "      <td>180</td>\n",
              "      <td>32.9</td>\n",
              "      <td>0.171</td>\n",
              "      <td>63</td>\n",
              "      <td>0</td>\n",
              "    </tr>\n",
              "    <tr>\n",
              "      <th>764</th>\n",
              "      <td>2</td>\n",
              "      <td>122</td>\n",
              "      <td>70</td>\n",
              "      <td>27</td>\n",
              "      <td>0</td>\n",
              "      <td>36.8</td>\n",
              "      <td>0.340</td>\n",
              "      <td>27</td>\n",
              "      <td>0</td>\n",
              "    </tr>\n",
              "    <tr>\n",
              "      <th>765</th>\n",
              "      <td>5</td>\n",
              "      <td>121</td>\n",
              "      <td>72</td>\n",
              "      <td>23</td>\n",
              "      <td>112</td>\n",
              "      <td>26.2</td>\n",
              "      <td>0.245</td>\n",
              "      <td>30</td>\n",
              "      <td>0</td>\n",
              "    </tr>\n",
              "    <tr>\n",
              "      <th>766</th>\n",
              "      <td>1</td>\n",
              "      <td>126</td>\n",
              "      <td>60</td>\n",
              "      <td>0</td>\n",
              "      <td>0</td>\n",
              "      <td>30.1</td>\n",
              "      <td>0.349</td>\n",
              "      <td>47</td>\n",
              "      <td>1</td>\n",
              "    </tr>\n",
              "    <tr>\n",
              "      <th>767</th>\n",
              "      <td>1</td>\n",
              "      <td>93</td>\n",
              "      <td>70</td>\n",
              "      <td>31</td>\n",
              "      <td>0</td>\n",
              "      <td>30.4</td>\n",
              "      <td>0.315</td>\n",
              "      <td>23</td>\n",
              "      <td>0</td>\n",
              "    </tr>\n",
              "  </tbody>\n",
              "</table>\n",
              "<p>768 rows × 9 columns</p>\n",
              "</div>\n",
              "      <button class=\"colab-df-convert\" onclick=\"convertToInteractive('df-0cf44d26-d622-47b3-a291-7b09eb8acc74')\"\n",
              "              title=\"Convert this dataframe to an interactive table.\"\n",
              "              style=\"display:none;\">\n",
              "        \n",
              "  <svg xmlns=\"http://www.w3.org/2000/svg\" height=\"24px\"viewBox=\"0 0 24 24\"\n",
              "       width=\"24px\">\n",
              "    <path d=\"M0 0h24v24H0V0z\" fill=\"none\"/>\n",
              "    <path d=\"M18.56 5.44l.94 2.06.94-2.06 2.06-.94-2.06-.94-.94-2.06-.94 2.06-2.06.94zm-11 1L8.5 8.5l.94-2.06 2.06-.94-2.06-.94L8.5 2.5l-.94 2.06-2.06.94zm10 10l.94 2.06.94-2.06 2.06-.94-2.06-.94-.94-2.06-.94 2.06-2.06.94z\"/><path d=\"M17.41 7.96l-1.37-1.37c-.4-.4-.92-.59-1.43-.59-.52 0-1.04.2-1.43.59L10.3 9.45l-7.72 7.72c-.78.78-.78 2.05 0 2.83L4 21.41c.39.39.9.59 1.41.59.51 0 1.02-.2 1.41-.59l7.78-7.78 2.81-2.81c.8-.78.8-2.07 0-2.86zM5.41 20L4 18.59l7.72-7.72 1.47 1.35L5.41 20z\"/>\n",
              "  </svg>\n",
              "      </button>\n",
              "      \n",
              "  <style>\n",
              "    .colab-df-container {\n",
              "      display:flex;\n",
              "      flex-wrap:wrap;\n",
              "      gap: 12px;\n",
              "    }\n",
              "\n",
              "    .colab-df-convert {\n",
              "      background-color: #E8F0FE;\n",
              "      border: none;\n",
              "      border-radius: 50%;\n",
              "      cursor: pointer;\n",
              "      display: none;\n",
              "      fill: #1967D2;\n",
              "      height: 32px;\n",
              "      padding: 0 0 0 0;\n",
              "      width: 32px;\n",
              "    }\n",
              "\n",
              "    .colab-df-convert:hover {\n",
              "      background-color: #E2EBFA;\n",
              "      box-shadow: 0px 1px 2px rgba(60, 64, 67, 0.3), 0px 1px 3px 1px rgba(60, 64, 67, 0.15);\n",
              "      fill: #174EA6;\n",
              "    }\n",
              "\n",
              "    [theme=dark] .colab-df-convert {\n",
              "      background-color: #3B4455;\n",
              "      fill: #D2E3FC;\n",
              "    }\n",
              "\n",
              "    [theme=dark] .colab-df-convert:hover {\n",
              "      background-color: #434B5C;\n",
              "      box-shadow: 0px 1px 3px 1px rgba(0, 0, 0, 0.15);\n",
              "      filter: drop-shadow(0px 1px 2px rgba(0, 0, 0, 0.3));\n",
              "      fill: #FFFFFF;\n",
              "    }\n",
              "  </style>\n",
              "\n",
              "      <script>\n",
              "        const buttonEl =\n",
              "          document.querySelector('#df-0cf44d26-d622-47b3-a291-7b09eb8acc74 button.colab-df-convert');\n",
              "        buttonEl.style.display =\n",
              "          google.colab.kernel.accessAllowed ? 'block' : 'none';\n",
              "\n",
              "        async function convertToInteractive(key) {\n",
              "          const element = document.querySelector('#df-0cf44d26-d622-47b3-a291-7b09eb8acc74');\n",
              "          const dataTable =\n",
              "            await google.colab.kernel.invokeFunction('convertToInteractive',\n",
              "                                                     [key], {});\n",
              "          if (!dataTable) return;\n",
              "\n",
              "          const docLinkHtml = 'Like what you see? Visit the ' +\n",
              "            '<a target=\"_blank\" href=https://colab.research.google.com/notebooks/data_table.ipynb>data table notebook</a>'\n",
              "            + ' to learn more about interactive tables.';\n",
              "          element.innerHTML = '';\n",
              "          dataTable['output_type'] = 'display_data';\n",
              "          await google.colab.output.renderOutput(dataTable, element);\n",
              "          const docLink = document.createElement('div');\n",
              "          docLink.innerHTML = docLinkHtml;\n",
              "          element.appendChild(docLink);\n",
              "        }\n",
              "      </script>\n",
              "    </div>\n",
              "  </div>\n",
              "  "
            ]
          },
          "metadata": {},
          "execution_count": 63
        }
      ]
    },
    {
      "cell_type": "code",
      "source": [
        "a = df.groupby('pregnant')['class'].mean()\n",
        "a"
      ],
      "metadata": {
        "colab": {
          "base_uri": "https://localhost:8080/"
        },
        "id": "JUeueoMfwwp1",
        "outputId": "222c96c6-7fb3-4ee9-f526-bb8453d83593",
        "collapsed": true
      },
      "execution_count": null,
      "outputs": [
        {
          "output_type": "execute_result",
          "data": {
            "text/plain": [
              "pregnant\n",
              "0     0.342342\n",
              "1     0.214815\n",
              "2     0.184466\n",
              "3     0.360000\n",
              "4     0.338235\n",
              "5     0.368421\n",
              "6     0.320000\n",
              "7     0.555556\n",
              "8     0.578947\n",
              "9     0.642857\n",
              "10    0.416667\n",
              "11    0.636364\n",
              "12    0.444444\n",
              "13    0.500000\n",
              "14    1.000000\n",
              "15    1.000000\n",
              "17    1.000000\n",
              "Name: class, dtype: float64"
            ]
          },
          "metadata": {},
          "execution_count": 65
        }
      ]
    },
    {
      "cell_type": "code",
      "source": [
        "a.plot()"
      ],
      "metadata": {
        "colab": {
          "base_uri": "https://localhost:8080/",
          "height": 297
        },
        "id": "6FTtbnWqxZNV",
        "outputId": "c3401f78-d47b-4036-c7e5-202c711b846f",
        "collapsed": true
      },
      "execution_count": null,
      "outputs": [
        {
          "output_type": "execute_result",
          "data": {
            "text/plain": [
              "<matplotlib.axes._subplots.AxesSubplot at 0x7f1b742aef50>"
            ]
          },
          "metadata": {},
          "execution_count": 66
        },
        {
          "output_type": "display_data",
          "data": {
            "text/plain": [
              "<Figure size 432x288 with 1 Axes>"
            ],
            "image/png": "[encoded data removed]"
          },
          "metadata": {
            "needs_background": "light"
          }
        }
      ]
    },
    {
      "cell_type": "code",
      "source": [
        "a = df.groupby('plasma')['class'].mean()\n",
        "a.plot()"
      ],
      "metadata": {
        "colab": {
          "base_uri": "https://localhost:8080/",
          "height": 297
        },
        "id": "7YKvRiZbxkTN",
        "outputId": "b8680f92-35b5-443f-a226-d2498323522d",
        "collapsed": true
      },
      "execution_count": null,
      "outputs": [
        {
          "output_type": "execute_result",
          "data": {
            "text/plain": [
              "<matplotlib.axes._subplots.AxesSubplot at 0x7f1b74271b50>"
            ]
          },
          "metadata": {},
          "execution_count": 70
        },
        {
          "output_type": "display_data",
          "data": {
            "text/plain": [
              "<Figure size 432x288 with 1 Axes>"
            ],
            "image/png": "[encoded data removed]"
          },
          "metadata": {
            "needs_background": "light"
          }
        }
      ]
    },
    {
      "cell_type": "code",
      "source": [
        "import seaborn as sns # 데이터분석 연습용 라이브러리(초보용)\n",
        "# 근데 이것도 쓸만함\n",
        "\n",
        "sns.heatmap(df.corr(), annot=True)"
      ],
      "metadata": {
        "colab": {
          "base_uri": "https://localhost:8080/",
          "height": 325
        },
        "id": "_T_W1jn7yfUl",
        "outputId": "c481cd6f-af5d-42d8-8602-17b5bc773ec5",
        "collapsed": true
      },
      "execution_count": null,
      "outputs": [
        {
          "output_type": "execute_result",
          "data": {
            "text/plain": [
              "<matplotlib.axes._subplots.AxesSubplot at 0x7f1b62eb59d0>"
            ]
          },
          "metadata": {},
          "execution_count": 69
        },
        {
          "output_type": "display_data",
          "data": {
            "text/plain": [
              "<Figure size 432x288 with 2 Axes>"
            ],
            "image/png": "[encoded data removed]"
          },
          "metadata": {
            "needs_background": "light"
          }
        }
      ]
    },
    {
      "cell_type": "code",
      "source": [
        "#상관계수 -1 부터 1까지 움직임...\n",
        "#0이랑 가까울수록 상관이 없음\n",
        "\n",
        "import pandas as pd\n",
        "\n",
        "df = pd.read_csv('pima-indians-diabetes.csv',header=None)\n",
        "df.columns = ['pregnant','plasma','pressure','thickness','insulin','BMI','pedigree','age','class']\n",
        "a = df.groupby('plasma')['class'].mean()\n",
        "a"
      ],
      "metadata": {
        "colab": {
          "base_uri": "https://localhost:8080/"
        },
        "id": "lWV-jC6xyuw-",
        "outputId": "ea2c647b-720b-4487-ca4b-7bc410cc2c4e",
        "collapsed": true
      },
      "execution_count": null,
      "outputs": [
        {
          "output_type": "execute_result",
          "data": {
            "text/plain": [
              "plasma\n",
              "0      0.40\n",
              "44     0.00\n",
              "56     0.00\n",
              "57     0.00\n",
              "61     0.00\n",
              "       ... \n",
              "195    1.00\n",
              "196    1.00\n",
              "197    0.75\n",
              "198    1.00\n",
              "199    1.00\n",
              "Name: class, Length: 136, dtype: float64"
            ]
          },
          "metadata": {},
          "execution_count": 71
        }
      ]
    },
    {
      "cell_type": "code",
      "source": [
        "def solution(numbers):\n",
        "\n",
        "    numbers.sort()\n",
        "    n = len(numbers)\n",
        "    a = numbers[0]\n",
        "    b = numbers[-1]\n",
        "    box = []\n",
        "\n",
        "    for j in range(n):\n",
        "        for i in range(n):\n",
        "            if numbers[i]+numbers[j] not in box:\n",
        "                box.append(i+j)\n",
        "    return box\n",
        "\n",
        "\n",
        "numbers = [2,1,3,4,1]\n",
        "solution(numbers)"
      ],
      "metadata": {
        "colab": {
          "base_uri": "https://localhost:8080/"
        },
        "id": "h3IXe-WM07tr",
        "outputId": "0cbe8d0e-44ed-4522-8312-7a7dfa46dc01",
        "collapsed": true
      },
      "execution_count": null,
      "outputs": [
        {
          "output_type": "execute_result",
          "data": {
            "text/plain": [
              "[0, 1, 2, 3, 4, 5, 6, 7, 8]"
            ]
          },
          "metadata": {},
          "execution_count": 79
        }
      ]
    },
    {
      "cell_type": "code",
      "source": [
        "#sol) i+1 부터 시작한다는걸 떠올리기가 빡세다....\n",
        "#서로 다른 인덱스에 있는 두 개의 수를 뽑아 더해서 \n",
        "#만들 수 있는 모든 수를 배열에 오름차순으로 담아 return 하도록 \n",
        "box=[]\n",
        "for i in range(0,len(numbers)):\n",
        "    for j in range(i+1,len(numbers)):\n",
        "        box.append(numbers[i]+numbers[j])\n",
        "    return sorted(list(set(box)))"
      ],
      "metadata": {
        "id": "eSB4TGnE5IMC"
      },
      "execution_count": null,
      "outputs": []
    },
    {
      "cell_type": "code",
      "source": [
        "#같은숫자는 싫어\n",
        "#처음이 들어온거면 받고 뒤는 무시한다는뜻\n",
        "\n",
        "def solution(arr):\n",
        "    \n",
        "    n = len(arr)\n",
        "    box = []\n",
        "\n",
        "    for i in range(n):\n",
        "        if arr[i] not in box:\n",
        "            \n",
        "        if arr.count(arr[i]) != 1:\n",
        "            \n",
        "\n",
        "\n",
        "    return box\n",
        "\n",
        "arr = [1, 1, 3, 3, 0, 1, 1]\n",
        "solution(arr)"
      ],
      "metadata": {
        "id": "WB1tyQ853T-i"
      },
      "execution_count": null,
      "outputs": []
    },
    {
      "cell_type": "code",
      "source": [
        "#sol)\n",
        "def solution(arr):\n",
        "    \n",
        "    box = [arr[0]]\n",
        "\n",
        "    for i in arr: # i에 1133011이 들어간다\n",
        "        if i != box[-1]:\n",
        "            box.append(i)\n",
        "    return box #box=[1,3,0,1]\n",
        "\n",
        "arr = [1, 1, 3, 3, 0, 1, 1]\n",
        "solution(arr)"
      ],
      "metadata": {
        "colab": {
          "base_uri": "https://localhost:8080/"
        },
        "id": "h7nzpdM56fEh",
        "outputId": "f382d136-d317-4c38-d6d3-41b2113b9075",
        "collapsed": true
      },
      "execution_count": null,
      "outputs": [
        {
          "output_type": "execute_result",
          "data": {
            "text/plain": [
              "[4, 3, 2, 1]"
            ]
          },
          "metadata": {},
          "execution_count": 4
        }
      ]
    },
    {
      "cell_type": "code",
      "source": [
        "#sol)\n",
        "def solution(arr):\n",
        "\n",
        "    box = [arr[0]] # 첫번째 숫자 넣었음.box = [4]\n",
        "\n",
        "    for i in arr: #배열 안의 모든 원소 검사할거임. 4,4,4,4,...,2,2,1\n",
        "        if i != box[-1]: #box의 마지막 원소랑 비교하면서. box[-1]= 4\n",
        "            box.append(i) #첫번째 숫자랑 다른애가 나오면 박스에 넣네.\n",
        "            #그리고 다음부터는 걔랑 다른 숫자 나올때마다 박스에 넣네.\n",
        "    return box\n",
        "\n",
        "arr = [4,4,4,4,3,3,3,2,2,1]"
      ],
      "metadata": {
        "id": "_-a_Ip_c_UGO"
      },
      "execution_count": null,
      "outputs": []
    },
    {
      "cell_type": "code",
      "source": [
        "# 프로그래머스 Lv1 집에서 각자 풀어보세요\n",
        "# Lv1만큼은 다 풀어야 한다.\n",
        "# 정답 보기 전에 고민좀 하시고."
      ],
      "metadata": {
        "id": "VxsQZjrmArhQ"
      },
      "execution_count": null,
      "outputs": []
    },
    {
      "cell_type": "code",
      "source": [
        "# 이번주 내로 상담...내일 오전에 6명 "
      ],
      "metadata": {
        "id": "idZNCy8gA9Ta"
      },
      "execution_count": null,
      "outputs": []
    }
  ]
}